{
 "cells": [
  {
   "cell_type": "markdown",
   "metadata": {},
   "source": [
    "# Capstone NLP "
   ]
  },
  {
   "cell_type": "markdown",
   "metadata": {},
   "source": [
    "# Define Project Objectives"
   ]
  },
  {
   "cell_type": "markdown",
   "metadata": {},
   "source": [
    "Natural disasters can have a significant impact on people's lives, and social media has become an important source of information during such events. \n",
    "\n",
    "In this project, \n",
    "\n",
    "we aim to build a machine learning model that can `classify` tweets as `disaster-related or not`, based on their `text content`. \n",
    "\n",
    "We will use Natural Language Processing (NLP) techniques to `preprocess` and `analyze` the text, and `train` several machine learning models to `predict` the classification of each tweet. \n",
    "\n",
    "This project will provide an opportunity to apply NLP and machine learning techniques to a real-world problem and gain experience in data analysis, modeling, and interpretation. \n",
    "\n",
    "Data: https://www.kaggle.com/competitions/nlp-getting-started/data\n"
   ]
  },
  {
   "cell_type": "markdown",
   "metadata": {},
   "source": [
    "# Data Acquisition"
   ]
  },
  {
   "cell_type": "markdown",
   "metadata": {},
   "source": [
    "Data Importing"
   ]
  },
  {
   "cell_type": "code",
   "execution_count": 309,
   "metadata": {},
   "outputs": [],
   "source": [
    "import pandas as pd"
   ]
  },
  {
   "cell_type": "markdown",
   "metadata": {},
   "source": [
    "import training data"
   ]
  },
  {
   "cell_type": "code",
   "execution_count": 310,
   "metadata": {},
   "outputs": [
    {
     "data": {
      "text/html": [
       "<div>\n",
       "<style scoped>\n",
       "    .dataframe tbody tr th:only-of-type {\n",
       "        vertical-align: middle;\n",
       "    }\n",
       "\n",
       "    .dataframe tbody tr th {\n",
       "        vertical-align: top;\n",
       "    }\n",
       "\n",
       "    .dataframe thead th {\n",
       "        text-align: right;\n",
       "    }\n",
       "</style>\n",
       "<table border=\"1\" class=\"dataframe\">\n",
       "  <thead>\n",
       "    <tr style=\"text-align: right;\">\n",
       "      <th></th>\n",
       "      <th>id</th>\n",
       "      <th>keyword</th>\n",
       "      <th>location</th>\n",
       "      <th>text</th>\n",
       "      <th>target</th>\n",
       "    </tr>\n",
       "  </thead>\n",
       "  <tbody>\n",
       "    <tr>\n",
       "      <th>0</th>\n",
       "      <td>1</td>\n",
       "      <td>NaN</td>\n",
       "      <td>NaN</td>\n",
       "      <td>Our Deeds are the Reason of this #earthquake M...</td>\n",
       "      <td>1</td>\n",
       "    </tr>\n",
       "    <tr>\n",
       "      <th>1</th>\n",
       "      <td>4</td>\n",
       "      <td>NaN</td>\n",
       "      <td>NaN</td>\n",
       "      <td>Forest fire near La Ronge Sask. Canada</td>\n",
       "      <td>1</td>\n",
       "    </tr>\n",
       "    <tr>\n",
       "      <th>2</th>\n",
       "      <td>5</td>\n",
       "      <td>NaN</td>\n",
       "      <td>NaN</td>\n",
       "      <td>All residents asked to 'shelter in place' are ...</td>\n",
       "      <td>1</td>\n",
       "    </tr>\n",
       "    <tr>\n",
       "      <th>3</th>\n",
       "      <td>6</td>\n",
       "      <td>NaN</td>\n",
       "      <td>NaN</td>\n",
       "      <td>13,000 people receive #wildfires evacuation or...</td>\n",
       "      <td>1</td>\n",
       "    </tr>\n",
       "    <tr>\n",
       "      <th>4</th>\n",
       "      <td>7</td>\n",
       "      <td>NaN</td>\n",
       "      <td>NaN</td>\n",
       "      <td>Just got sent this photo from Ruby #Alaska as ...</td>\n",
       "      <td>1</td>\n",
       "    </tr>\n",
       "  </tbody>\n",
       "</table>\n",
       "</div>"
      ],
      "text/plain": [
       "   id keyword location                                               text  \\\n",
       "0   1     NaN      NaN  Our Deeds are the Reason of this #earthquake M...   \n",
       "1   4     NaN      NaN             Forest fire near La Ronge Sask. Canada   \n",
       "2   5     NaN      NaN  All residents asked to 'shelter in place' are ...   \n",
       "3   6     NaN      NaN  13,000 people receive #wildfires evacuation or...   \n",
       "4   7     NaN      NaN  Just got sent this photo from Ruby #Alaska as ...   \n",
       "\n",
       "   target  \n",
       "0       1  \n",
       "1       1  \n",
       "2       1  \n",
       "3       1  \n",
       "4       1  "
      ]
     },
     "execution_count": 310,
     "metadata": {},
     "output_type": "execute_result"
    }
   ],
   "source": [
    "train_data = pd.read_csv(r\"train.csv\")\n",
    "train_data.head()"
   ]
  },
  {
   "cell_type": "code",
   "execution_count": 311,
   "metadata": {},
   "outputs": [
    {
     "data": {
      "text/html": [
       "<div>\n",
       "<style scoped>\n",
       "    .dataframe tbody tr th:only-of-type {\n",
       "        vertical-align: middle;\n",
       "    }\n",
       "\n",
       "    .dataframe tbody tr th {\n",
       "        vertical-align: top;\n",
       "    }\n",
       "\n",
       "    .dataframe thead th {\n",
       "        text-align: right;\n",
       "    }\n",
       "</style>\n",
       "<table border=\"1\" class=\"dataframe\">\n",
       "  <thead>\n",
       "    <tr style=\"text-align: right;\">\n",
       "      <th></th>\n",
       "      <th>text</th>\n",
       "      <th>target</th>\n",
       "    </tr>\n",
       "  </thead>\n",
       "  <tbody>\n",
       "    <tr>\n",
       "      <th>0</th>\n",
       "      <td>Our Deeds are the Reason of this #earthquake M...</td>\n",
       "      <td>1</td>\n",
       "    </tr>\n",
       "    <tr>\n",
       "      <th>1</th>\n",
       "      <td>Forest fire near La Ronge Sask. Canada</td>\n",
       "      <td>1</td>\n",
       "    </tr>\n",
       "    <tr>\n",
       "      <th>2</th>\n",
       "      <td>All residents asked to 'shelter in place' are ...</td>\n",
       "      <td>1</td>\n",
       "    </tr>\n",
       "    <tr>\n",
       "      <th>3</th>\n",
       "      <td>13,000 people receive #wildfires evacuation or...</td>\n",
       "      <td>1</td>\n",
       "    </tr>\n",
       "    <tr>\n",
       "      <th>4</th>\n",
       "      <td>Just got sent this photo from Ruby #Alaska as ...</td>\n",
       "      <td>1</td>\n",
       "    </tr>\n",
       "  </tbody>\n",
       "</table>\n",
       "</div>"
      ],
      "text/plain": [
       "                                                text  target\n",
       "0  Our Deeds are the Reason of this #earthquake M...       1\n",
       "1             Forest fire near La Ronge Sask. Canada       1\n",
       "2  All residents asked to 'shelter in place' are ...       1\n",
       "3  13,000 people receive #wildfires evacuation or...       1\n",
       "4  Just got sent this photo from Ruby #Alaska as ...       1"
      ]
     },
     "execution_count": 311,
     "metadata": {},
     "output_type": "execute_result"
    }
   ],
   "source": [
    "train_data = train_data.loc[:, ['text', 'target']]\n",
    "train_data.head()"
   ]
  },
  {
   "cell_type": "code",
   "execution_count": 312,
   "metadata": {},
   "outputs": [
    {
     "data": {
      "text/html": [
       "<div>\n",
       "<style scoped>\n",
       "    .dataframe tbody tr th:only-of-type {\n",
       "        vertical-align: middle;\n",
       "    }\n",
       "\n",
       "    .dataframe tbody tr th {\n",
       "        vertical-align: top;\n",
       "    }\n",
       "\n",
       "    .dataframe thead th {\n",
       "        text-align: right;\n",
       "    }\n",
       "</style>\n",
       "<table border=\"1\" class=\"dataframe\">\n",
       "  <thead>\n",
       "    <tr style=\"text-align: right;\">\n",
       "      <th></th>\n",
       "      <th>text</th>\n",
       "      <th>target</th>\n",
       "    </tr>\n",
       "  </thead>\n",
       "  <tbody>\n",
       "    <tr>\n",
       "      <th>7608</th>\n",
       "      <td>Two giant cranes holding a bridge collapse int...</td>\n",
       "      <td>1</td>\n",
       "    </tr>\n",
       "    <tr>\n",
       "      <th>7609</th>\n",
       "      <td>@aria_ahrary @TheTawniest The out of control w...</td>\n",
       "      <td>1</td>\n",
       "    </tr>\n",
       "    <tr>\n",
       "      <th>7610</th>\n",
       "      <td>M1.94 [01:04 UTC]?5km S of Volcano Hawaii. htt...</td>\n",
       "      <td>1</td>\n",
       "    </tr>\n",
       "    <tr>\n",
       "      <th>7611</th>\n",
       "      <td>Police investigating after an e-bike collided ...</td>\n",
       "      <td>1</td>\n",
       "    </tr>\n",
       "    <tr>\n",
       "      <th>7612</th>\n",
       "      <td>The Latest: More Homes Razed by Northern Calif...</td>\n",
       "      <td>1</td>\n",
       "    </tr>\n",
       "  </tbody>\n",
       "</table>\n",
       "</div>"
      ],
      "text/plain": [
       "                                                   text  target\n",
       "7608  Two giant cranes holding a bridge collapse int...       1\n",
       "7609  @aria_ahrary @TheTawniest The out of control w...       1\n",
       "7610  M1.94 [01:04 UTC]?5km S of Volcano Hawaii. htt...       1\n",
       "7611  Police investigating after an e-bike collided ...       1\n",
       "7612  The Latest: More Homes Razed by Northern Calif...       1"
      ]
     },
     "execution_count": 312,
     "metadata": {},
     "output_type": "execute_result"
    }
   ],
   "source": [
    "train_data.tail()"
   ]
  },
  {
   "cell_type": "markdown",
   "metadata": {},
   "source": [
    "# Data Exploration"
   ]
  },
  {
   "cell_type": "code",
   "execution_count": 313,
   "metadata": {},
   "outputs": [],
   "source": [
    "import numpy as np\n",
    "import matplotlib.pyplot as plt\n",
    "import seaborn as sns"
   ]
  },
  {
   "cell_type": "code",
   "execution_count": 314,
   "metadata": {},
   "outputs": [
    {
     "name": "stdout",
     "output_type": "stream",
     "text": [
      "<class 'pandas.core.frame.DataFrame'>\n",
      "RangeIndex: 7613 entries, 0 to 7612\n",
      "Data columns (total 2 columns):\n",
      " #   Column  Non-Null Count  Dtype \n",
      "---  ------  --------------  ----- \n",
      " 0   text    7613 non-null   object\n",
      " 1   target  7613 non-null   int64 \n",
      "dtypes: int64(1), object(1)\n",
      "memory usage: 119.1+ KB\n"
     ]
    }
   ],
   "source": [
    "train_data.info()"
   ]
  },
  {
   "cell_type": "markdown",
   "metadata": {},
   "source": [
    "get `Number of tokens`"
   ]
  },
  {
   "cell_type": "code",
   "execution_count": 315,
   "metadata": {},
   "outputs": [
    {
     "data": {
      "text/html": [
       "<div>\n",
       "<style scoped>\n",
       "    .dataframe tbody tr th:only-of-type {\n",
       "        vertical-align: middle;\n",
       "    }\n",
       "\n",
       "    .dataframe tbody tr th {\n",
       "        vertical-align: top;\n",
       "    }\n",
       "\n",
       "    .dataframe thead th {\n",
       "        text-align: right;\n",
       "    }\n",
       "</style>\n",
       "<table border=\"1\" class=\"dataframe\">\n",
       "  <thead>\n",
       "    <tr style=\"text-align: right;\">\n",
       "      <th></th>\n",
       "      <th>text</th>\n",
       "      <th>target</th>\n",
       "      <th>no_tokens</th>\n",
       "    </tr>\n",
       "  </thead>\n",
       "  <tbody>\n",
       "    <tr>\n",
       "      <th>1106</th>\n",
       "      <td>@QPR1980 @Rorington95 Nowt to do with money. F...</td>\n",
       "      <td>0</td>\n",
       "      <td>22</td>\n",
       "    </tr>\n",
       "    <tr>\n",
       "      <th>39</th>\n",
       "      <td>Ablaze for you Lord :D</td>\n",
       "      <td>0</td>\n",
       "      <td>5</td>\n",
       "    </tr>\n",
       "    <tr>\n",
       "      <th>7575</th>\n",
       "      <td>On the bright side I wrecked http://t.co/uEa0t...</td>\n",
       "      <td>0</td>\n",
       "      <td>7</td>\n",
       "    </tr>\n",
       "    <tr>\n",
       "      <th>1988</th>\n",
       "      <td>And here I was complaining about Phoenix Mode ...</td>\n",
       "      <td>0</td>\n",
       "      <td>25</td>\n",
       "    </tr>\n",
       "    <tr>\n",
       "      <th>2234</th>\n",
       "      <td>Vince McMahon once again a billionaire: I reme...</td>\n",
       "      <td>0</td>\n",
       "      <td>20</td>\n",
       "    </tr>\n",
       "    <tr>\n",
       "      <th>1995</th>\n",
       "      <td>Storm damage reported in West Tennessee http:/...</td>\n",
       "      <td>1</td>\n",
       "      <td>7</td>\n",
       "    </tr>\n",
       "    <tr>\n",
       "      <th>466</th>\n",
       "      <td>#volleyball Attack II Volleyball Training Mach...</td>\n",
       "      <td>1</td>\n",
       "      <td>12</td>\n",
       "    </tr>\n",
       "    <tr>\n",
       "      <th>898</th>\n",
       "      <td>You call them weekends. I call them Bloody Mar...</td>\n",
       "      <td>0</td>\n",
       "      <td>19</td>\n",
       "    </tr>\n",
       "    <tr>\n",
       "      <th>5507</th>\n",
       "      <td>Reddit's new content policy goes into effect m...</td>\n",
       "      <td>1</td>\n",
       "      <td>15</td>\n",
       "    </tr>\n",
       "    <tr>\n",
       "      <th>581</th>\n",
       "      <td>FedEx to stop transporting bioterror germs aft...</td>\n",
       "      <td>1</td>\n",
       "      <td>17</td>\n",
       "    </tr>\n",
       "  </tbody>\n",
       "</table>\n",
       "</div>"
      ],
      "text/plain": [
       "                                                   text  target  no_tokens\n",
       "1106  @QPR1980 @Rorington95 Nowt to do with money. F...       0         22\n",
       "39                               Ablaze for you Lord :D       0          5\n",
       "7575  On the bright side I wrecked http://t.co/uEa0t...       0          7\n",
       "1988  And here I was complaining about Phoenix Mode ...       0         25\n",
       "2234  Vince McMahon once again a billionaire: I reme...       0         20\n",
       "1995  Storm damage reported in West Tennessee http:/...       1          7\n",
       "466   #volleyball Attack II Volleyball Training Mach...       1         12\n",
       "898   You call them weekends. I call them Bloody Mar...       0         19\n",
       "5507  Reddit's new content policy goes into effect m...       1         15\n",
       "581   FedEx to stop transporting bioterror germs aft...       1         17"
      ]
     },
     "execution_count": 315,
     "metadata": {},
     "output_type": "execute_result"
    }
   ],
   "source": [
    "train_data['no_tokens'] = train_data['text'].str.split().map(lambda token: len(token)) \n",
    "train_data.sample(10)"
   ]
  },
  {
   "cell_type": "code",
   "execution_count": 316,
   "metadata": {},
   "outputs": [
    {
     "data": {
      "image/png": "[encoded data removed]",
      "text/plain": [
       "<Figure size 1000x600 with 1 Axes>"
      ]
     },
     "metadata": {},
     "output_type": "display_data"
    }
   ],
   "source": [
    "plt.figure(figsize=(10, 6)) \n",
    "\n",
    "train_data[train_data['target'] == 0]['no_tokens'].plot(bins=35, \n",
    "                                                kind='hist', \n",
    "                                                color='red', \n",
    "                                                label='Not disaster', \n",
    "                                                alpha=0.6)\n",
    "\n",
    "train_data[train_data['target'] == 1]['no_tokens'].plot(kind='hist', \n",
    "                                                color='green', \n",
    "                                                label='Disaster', \n",
    "                                                alpha=0.6)\n",
    "\n",
    "plt.legend(loc='upper right')\n",
    "plt.xlabel(\"Numbers of tokens\")\n",
    "plt.ylabel(\"Numbers of texts\")\n",
    "plt.show()"
   ]
  },
  {
   "cell_type": "markdown",
   "metadata": {},
   "source": [
    "The most distribution of `Not disaster` are range `14 to 16` tokens.\n",
    "\n",
    "The most distribution of `Disaster` are range `12 to 20` tokens."
   ]
  },
  {
   "cell_type": "markdown",
   "metadata": {},
   "source": [
    "`Average token` length in a text"
   ]
  },
  {
   "cell_type": "code",
   "execution_count": 317,
   "metadata": {},
   "outputs": [
    {
     "name": "stderr",
     "output_type": "stream",
     "text": [
      "c:\\Users\\CENTER_ELRahama\\AppData\\Local\\Programs\\Python\\Python311\\Lib\\site-packages\\seaborn\\_oldcore.py:1498: FutureWarning: is_categorical_dtype is deprecated and will be removed in a future version. Use isinstance(dtype, CategoricalDtype) instead\n",
      "  if pd.api.types.is_categorical_dtype(vector):\n",
      "c:\\Users\\CENTER_ELRahama\\AppData\\Local\\Programs\\Python\\Python311\\Lib\\site-packages\\seaborn\\_oldcore.py:1119: FutureWarning: use_inf_as_na option is deprecated and will be removed in a future version. Convert inf values to NaN before operating instead.\n",
      "  with pd.option_context('mode.use_inf_as_na', True):\n",
      "c:\\Users\\CENTER_ELRahama\\AppData\\Local\\Programs\\Python\\Python311\\Lib\\site-packages\\seaborn\\_oldcore.py:1498: FutureWarning: is_categorical_dtype is deprecated and will be removed in a future version. Use isinstance(dtype, CategoricalDtype) instead\n",
      "  if pd.api.types.is_categorical_dtype(vector):\n",
      "c:\\Users\\CENTER_ELRahama\\AppData\\Local\\Programs\\Python\\Python311\\Lib\\site-packages\\seaborn\\_oldcore.py:1119: FutureWarning: use_inf_as_na option is deprecated and will be removed in a future version. Convert inf values to NaN before operating instead.\n",
      "  with pd.option_context('mode.use_inf_as_na', True):\n"
     ]
    },
    {
     "data": {
      "image/png": "[encoded data removed]",
      "text/plain": [
       "<Figure size 1000x500 with 2 Axes>"
      ]
     },
     "metadata": {},
     "output_type": "display_data"
    }
   ],
   "source": [
    "fig,(ax1, ax2)=plt.subplots(1,2,figsize=(10,5))\n",
    "\n",
    "avg_tokens= train_data[train_data['target'] == 0]['text'].str.split().apply(lambda token : [len(char) for char in token]).map(lambda x: np.mean(x))\n",
    "sns.histplot(avg_tokens, ax=ax1, color='red')\n",
    "ax1.set_title('Not disaster')\n",
    "\n",
    "avg_tokens= train_data[train_data['target'] == 1]['text'].str.split().apply(lambda token : [len(char) for char in token]).map(lambda x: np.mean(x))\n",
    "sns.histplot(avg_tokens, ax=ax2, color='green')\n",
    "ax2.set_title('Disaster')\n",
    "\n",
    "fig.suptitle('Average token length in each text')\n",
    "plt.show()"
   ]
  },
  {
   "cell_type": "markdown",
   "metadata": {},
   "source": [
    "The most distribution of `Not disaster` are average `4 to 8` text.\n",
    "\n",
    "The most distribution of `Disaster` are average `12 to 20` text."
   ]
  },
  {
   "cell_type": "markdown",
   "metadata": {},
   "source": [
    "# Data Preparation"
   ]
  },
  {
   "cell_type": "code",
   "execution_count": 318,
   "metadata": {},
   "outputs": [],
   "source": [
    "from nltk.tokenize import word_tokenize\n",
    "from nltk.corpus import stopwords\n",
    "from nltk.stem import PorterStemmer, WordNetLemmatizer\n",
    "import re"
   ]
  },
  {
   "cell_type": "markdown",
   "metadata": {},
   "source": [
    "Missing data"
   ]
  },
  {
   "cell_type": "code",
   "execution_count": 319,
   "metadata": {},
   "outputs": [
    {
     "data": {
      "text/plain": [
       "text         0\n",
       "target       0\n",
       "no_tokens    0\n",
       "dtype: int64"
      ]
     },
     "execution_count": 319,
     "metadata": {},
     "output_type": "execute_result"
    }
   ],
   "source": [
    "train_data.isnull().sum()"
   ]
  },
  {
   "cell_type": "markdown",
   "metadata": {},
   "source": [
    "Noise Removal"
   ]
  },
  {
   "cell_type": "code",
   "execution_count": 320,
   "metadata": {},
   "outputs": [
    {
     "name": "stdout",
     "output_type": "stream",
     "text": [
      "['i', 'me', 'my', 'myself', 'we', 'our', 'ours', 'ourselves', 'you', \"you're\", \"you've\", \"you'll\", \"you'd\", 'your', 'yours', 'yourself', 'yourselves', 'he', 'him', 'his', 'himself', 'she', \"she's\", 'her', 'hers', 'herself', 'it', \"it's\", 'its', 'itself', 'they', 'them', 'their', 'theirs', 'themselves', 'what', 'which', 'who', 'whom', 'this', 'that', \"that'll\", 'these', 'those', 'am', 'is', 'are', 'was', 'were', 'be', 'been', 'being', 'have', 'has', 'had', 'having', 'do', 'does', 'did', 'doing', 'a', 'an', 'the', 'and', 'but', 'if', 'or', 'because', 'as', 'until', 'while', 'of', 'at', 'by', 'for', 'with', 'about', 'against', 'between', 'into', 'through', 'during', 'before', 'after', 'above', 'below', 'to', 'from', 'up', 'down', 'in', 'out', 'on', 'off', 'over', 'under', 'again', 'further', 'then', 'once', 'here', 'there', 'when', 'where', 'why', 'how', 'all', 'any', 'both', 'each', 'few', 'more', 'most', 'other', 'some', 'such', 'no', 'nor', 'not', 'only', 'own', 'same', 'so', 'than', 'too', 'very', 's', 't', 'can', 'will', 'just', 'don', \"don't\", 'should', \"should've\", 'now', 'd', 'll', 'm', 'o', 're', 've', 'y', 'ain', 'aren', \"aren't\", 'couldn', \"couldn't\", 'didn', \"didn't\", 'doesn', \"doesn't\", 'hadn', \"hadn't\", 'hasn', \"hasn't\", 'haven', \"haven't\", 'isn', \"isn't\", 'ma', 'mightn', \"mightn't\", 'mustn', \"mustn't\", 'needn', \"needn't\", 'shan', \"shan't\", 'shouldn', \"shouldn't\", 'wasn', \"wasn't\", 'weren', \"weren't\", 'won', \"won't\", 'wouldn', \"wouldn't\"]\n"
     ]
    }
   ],
   "source": [
    "stop_words = stopwords.words('english')\n",
    "print(stop_words)"
   ]
  },
  {
   "cell_type": "code",
   "execution_count": 321,
   "metadata": {},
   "outputs": [
    {
     "data": {
      "text/plain": [
       "179"
      ]
     },
     "execution_count": 321,
     "metadata": {},
     "output_type": "execute_result"
    }
   ],
   "source": [
    "len(stop_words)"
   ]
  },
  {
   "cell_type": "markdown",
   "metadata": {},
   "source": [
    "Excluding some useful words from stop words list|"
   ]
  },
  {
   "cell_type": "code",
   "execution_count": 322,
   "metadata": {},
   "outputs": [
    {
     "data": {
      "text/plain": [
       "143"
      ]
     },
     "execution_count": 322,
     "metadata": {},
     "output_type": "execute_result"
    }
   ],
   "source": [
    "excluding= ['againts','no' ,'not', 'don', \"don't\", 'ain', 'aren', \"aren't\", 'couldn', \"couldn't\", 'didn', \n",
    "            \"didn't\",'doesn', \"doesn't\", 'hadn', \"hadn't\", 'has', \"hasn't\", 'haven', \"haven't\", 'isn', \n",
    "            \"isn't\", 'might', \"mightn't\", 'mustn', \"mustn't\", 'needn', \"needn't\", 'shouldn', \"shouldn't\", \n",
    "            'wasn', \"wasn't\", 'weren', \"weren't\", 'won', \"won't\", 'wouldn', \"wouldn't\"]\n",
    "\n",
    "stop_words= [word for word in stop_words if word not in excluding]\n",
    "len(stop_words)"
   ]
  },
  {
   "cell_type": "markdown",
   "metadata": {},
   "source": [
    "word normalization"
   ]
  },
  {
   "cell_type": "code",
   "execution_count": 323,
   "metadata": {},
   "outputs": [],
   "source": [
    "stemmer = PorterStemmer()\n",
    "lemmatizer = WordNetLemmatizer()"
   ]
  },
  {
   "cell_type": "code",
   "execution_count": 324,
   "metadata": {},
   "outputs": [],
   "source": [
    "def preprocessing_data(texts):\n",
    "    cleaned_texts = []  \n",
    "\n",
    "    for sent in texts: \n",
    "        filtered_sent = []\n",
    "        sent_no_links = re.sub(r'http[s]?://[^\\s]+', '', sent) \n",
    "        tokens = word_tokenize(sent_no_links.lower())\n",
    "        \n",
    "        for token in tokens:\n",
    "            token = re.sub(r'\\W', '', token)\n",
    "            if (not token.isnumeric()) and (len(token) > 2) and (token not in stop_words):\n",
    "                filtered_sent.append(lemmatizer.lemmatize(stemmer.stem(token)))\n",
    "                \n",
    "        text = \" \".join(filtered_sent)\n",
    "        cleaned_texts.append(text)\n",
    "    \n",
    "    return cleaned_texts"
   ]
  },
  {
   "cell_type": "code",
   "execution_count": 325,
   "metadata": {},
   "outputs": [
    {
     "data": {
      "text/plain": [
       "array(['Our Deeds are the Reason of this #earthquake May ALLAH Forgive us all',\n",
       "       'Forest fire near La Ronge Sask. Canada',\n",
       "       \"All residents asked to 'shelter in place' are being notified by officers. No other evacuation or shelter in place orders are expected\",\n",
       "       ...,\n",
       "       'M1.94 [01:04 UTC]?5km S of Volcano Hawaii. http://t.co/zDtoyd8EbJ',\n",
       "       'Police investigating after an e-bike collided with a car in Little Portugal. E-bike rider suffered serious non-life threatening injuries.',\n",
       "       'The Latest: More Homes Razed by Northern California Wildfire - ABC News http://t.co/YmY4rSkQ3d'],\n",
       "      dtype=object)"
      ]
     },
     "execution_count": 325,
     "metadata": {},
     "output_type": "execute_result"
    }
   ],
   "source": [
    "train_data['text'].values"
   ]
  },
  {
   "cell_type": "code",
   "execution_count": 326,
   "metadata": {},
   "outputs": [
    {
     "data": {
      "text/html": [
       "<div>\n",
       "<style scoped>\n",
       "    .dataframe tbody tr th:only-of-type {\n",
       "        vertical-align: middle;\n",
       "    }\n",
       "\n",
       "    .dataframe tbody tr th {\n",
       "        vertical-align: top;\n",
       "    }\n",
       "\n",
       "    .dataframe thead th {\n",
       "        text-align: right;\n",
       "    }\n",
       "</style>\n",
       "<table border=\"1\" class=\"dataframe\">\n",
       "  <thead>\n",
       "    <tr style=\"text-align: right;\">\n",
       "      <th></th>\n",
       "      <th>text</th>\n",
       "      <th>target</th>\n",
       "      <th>no_tokens</th>\n",
       "      <th>clean_text</th>\n",
       "    </tr>\n",
       "  </thead>\n",
       "  <tbody>\n",
       "    <tr>\n",
       "      <th>0</th>\n",
       "      <td>Our Deeds are the Reason of this #earthquake M...</td>\n",
       "      <td>1</td>\n",
       "      <td>13</td>\n",
       "      <td>deed reason earthquak may allah forgiv</td>\n",
       "    </tr>\n",
       "    <tr>\n",
       "      <th>1</th>\n",
       "      <td>Forest fire near La Ronge Sask. Canada</td>\n",
       "      <td>1</td>\n",
       "      <td>7</td>\n",
       "      <td>forest fire near rong sask canada</td>\n",
       "    </tr>\n",
       "    <tr>\n",
       "      <th>2</th>\n",
       "      <td>All residents asked to 'shelter in place' are ...</td>\n",
       "      <td>1</td>\n",
       "      <td>22</td>\n",
       "      <td>resid ask shelter place notifi offic evacu she...</td>\n",
       "    </tr>\n",
       "    <tr>\n",
       "      <th>3</th>\n",
       "      <td>13,000 people receive #wildfires evacuation or...</td>\n",
       "      <td>1</td>\n",
       "      <td>8</td>\n",
       "      <td>peopl receiv wildfir evacu order california</td>\n",
       "    </tr>\n",
       "    <tr>\n",
       "      <th>4</th>\n",
       "      <td>Just got sent this photo from Ruby #Alaska as ...</td>\n",
       "      <td>1</td>\n",
       "      <td>16</td>\n",
       "      <td>got sent photo rubi alaska smoke wildfir pour ...</td>\n",
       "    </tr>\n",
       "  </tbody>\n",
       "</table>\n",
       "</div>"
      ],
      "text/plain": [
       "                                                text  target  no_tokens  \\\n",
       "0  Our Deeds are the Reason of this #earthquake M...       1         13   \n",
       "1             Forest fire near La Ronge Sask. Canada       1          7   \n",
       "2  All residents asked to 'shelter in place' are ...       1         22   \n",
       "3  13,000 people receive #wildfires evacuation or...       1          8   \n",
       "4  Just got sent this photo from Ruby #Alaska as ...       1         16   \n",
       "\n",
       "                                          clean_text  \n",
       "0             deed reason earthquak may allah forgiv  \n",
       "1                  forest fire near rong sask canada  \n",
       "2  resid ask shelter place notifi offic evacu she...  \n",
       "3        peopl receiv wildfir evacu order california  \n",
       "4  got sent photo rubi alaska smoke wildfir pour ...  "
      ]
     },
     "execution_count": 326,
     "metadata": {},
     "output_type": "execute_result"
    }
   ],
   "source": [
    "train_data['clean_text'] = preprocessing_data(train_data['text'].values)\n",
    "train_data.head()"
   ]
  },
  {
   "cell_type": "code",
   "execution_count": 327,
   "metadata": {},
   "outputs": [
    {
     "data": {
      "text/plain": [
       "'Road Hazard @ CASCADE RD SW / CHILDRESS DR SW http://t.co/DilyvRoWyJ'"
      ]
     },
     "execution_count": 327,
     "metadata": {},
     "output_type": "execute_result"
    }
   ],
   "source": [
    "train_data['text'].iloc[4187]"
   ]
  },
  {
   "cell_type": "code",
   "execution_count": 328,
   "metadata": {},
   "outputs": [
    {
     "data": {
      "text/plain": [
       "'road hazard cascad childress'"
      ]
     },
     "execution_count": 328,
     "metadata": {},
     "output_type": "execute_result"
    }
   ],
   "source": [
    "train_data['clean_text'].iloc[4187]"
   ]
  },
  {
   "cell_type": "code",
   "execution_count": 329,
   "metadata": {},
   "outputs": [
    {
     "data": {
      "text/plain": [
       "\"Deepak Chopra's EPIC Twitter Meltdown http://t.co/ethgAGPy5G\""
      ]
     },
     "execution_count": 329,
     "metadata": {},
     "output_type": "execute_result"
    }
   ],
   "source": [
    "train_data['text'].iloc[4945]"
   ]
  },
  {
   "cell_type": "code",
   "execution_count": 330,
   "metadata": {},
   "outputs": [
    {
     "data": {
      "text/plain": [
       "'deepak chopra epic twitter meltdown'"
      ]
     },
     "execution_count": 330,
     "metadata": {},
     "output_type": "execute_result"
    }
   ],
   "source": [
    "train_data['clean_text'].iloc[4945]"
   ]
  },
  {
   "cell_type": "markdown",
   "metadata": {},
   "source": [
    "imbalance target "
   ]
  },
  {
   "cell_type": "code",
   "execution_count": 331,
   "metadata": {},
   "outputs": [
    {
     "data": {
      "text/plain": [
       "target\n",
       "0    4342\n",
       "1    3271\n",
       "Name: count, dtype: int64"
      ]
     },
     "execution_count": 331,
     "metadata": {},
     "output_type": "execute_result"
    }
   ],
   "source": [
    "train_data['target'].value_counts()"
   ]
  },
  {
   "cell_type": "code",
   "execution_count": 332,
   "metadata": {},
   "outputs": [
    {
     "data": {
      "text/plain": [
       "target\n",
       "0    0.57034\n",
       "1    0.42966\n",
       "Name: proportion, dtype: float64"
      ]
     },
     "execution_count": 332,
     "metadata": {},
     "output_type": "execute_result"
    }
   ],
   "source": [
    "train_data['target'].value_counts(normalize=True)"
   ]
  },
  {
   "cell_type": "markdown",
   "metadata": {},
   "source": [
    "plot imbalance between classes"
   ]
  },
  {
   "cell_type": "code",
   "execution_count": 333,
   "metadata": {},
   "outputs": [
    {
     "name": "stderr",
     "output_type": "stream",
     "text": [
      "c:\\Users\\CENTER_ELRahama\\AppData\\Local\\Programs\\Python\\Python311\\Lib\\site-packages\\seaborn\\_oldcore.py:1498: FutureWarning: is_categorical_dtype is deprecated and will be removed in a future version. Use isinstance(dtype, CategoricalDtype) instead\n",
      "  if pd.api.types.is_categorical_dtype(vector):\n",
      "c:\\Users\\CENTER_ELRahama\\AppData\\Local\\Programs\\Python\\Python311\\Lib\\site-packages\\seaborn\\_oldcore.py:1498: FutureWarning: is_categorical_dtype is deprecated and will be removed in a future version. Use isinstance(dtype, CategoricalDtype) instead\n",
      "  if pd.api.types.is_categorical_dtype(vector):\n",
      "c:\\Users\\CENTER_ELRahama\\AppData\\Local\\Programs\\Python\\Python311\\Lib\\site-packages\\seaborn\\_oldcore.py:1498: FutureWarning: is_categorical_dtype is deprecated and will be removed in a future version. Use isinstance(dtype, CategoricalDtype) instead\n",
      "  if pd.api.types.is_categorical_dtype(vector):\n"
     ]
    },
    {
     "data": {
      "image/png": "[encoded data removed]",
      "text/plain": [
       "<Figure size 640x480 with 1 Axes>"
      ]
     },
     "metadata": {},
     "output_type": "display_data"
    }
   ],
   "source": [
    "ax= sns.countplot(x=train_data['target'],\n",
    "                  data=train_data)\n",
    "\n",
    "for p in ax.patches:\n",
    "    x= p.get_bbox().get_points()[:,0] \n",
    "    y= p.get_bbox().get_points()[1,1]\n",
    "    ax.annotate(f'{y:.0f}', (x.mean(), y), ha='center',va='bottom')\n",
    "    \n",
    "plt.title(\"Target rating is imbalance\")\n",
    "plt.show()"
   ]
  },
  {
   "cell_type": "markdown",
   "metadata": {},
   "source": [
    "handel imbalanced classes"
   ]
  },
  {
   "cell_type": "code",
   "execution_count": 334,
   "metadata": {},
   "outputs": [],
   "source": [
    "from sklearn.utils import shuffle, resample"
   ]
  },
  {
   "cell_type": "code",
   "execution_count": 335,
   "metadata": {},
   "outputs": [
    {
     "name": "stdout",
     "output_type": "stream",
     "text": [
      "Number of rows after upsampling: \n",
      "Not Disaster Data: 4342 \n",
      "Disaster Data: 4342\n"
     ]
    }
   ],
   "source": [
    "df2 = train_data\n",
    "\n",
    "not_disaster_data = train_data[train_data['target'] == 0]\n",
    "disaster_data = train_data[train_data['target'] == 1]\n",
    "disaster_data = resample(disaster_data, replace=True, n_samples=len(not_disaster_data))\n",
    "\n",
    "df2 = pd.concat([not_disaster_data, disaster_data], axis=0)\n",
    "\n",
    "balanced_train_data = shuffle(df2)\n",
    "\n",
    "print(\"Number of rows after upsampling: \\nNot Disaster Data:\", len(balanced_train_data[balanced_train_data[\"target\"] == 0]), \n",
    "      \"\\nDisaster Data:\", len(balanced_train_data[balanced_train_data[\"target\"] == 1]))"
   ]
  },
  {
   "cell_type": "code",
   "execution_count": 336,
   "metadata": {},
   "outputs": [
    {
     "name": "stderr",
     "output_type": "stream",
     "text": [
      "c:\\Users\\CENTER_ELRahama\\AppData\\Local\\Programs\\Python\\Python311\\Lib\\site-packages\\seaborn\\_oldcore.py:1498: FutureWarning: is_categorical_dtype is deprecated and will be removed in a future version. Use isinstance(dtype, CategoricalDtype) instead\n",
      "  if pd.api.types.is_categorical_dtype(vector):\n",
      "c:\\Users\\CENTER_ELRahama\\AppData\\Local\\Programs\\Python\\Python311\\Lib\\site-packages\\seaborn\\_oldcore.py:1498: FutureWarning: is_categorical_dtype is deprecated and will be removed in a future version. Use isinstance(dtype, CategoricalDtype) instead\n",
      "  if pd.api.types.is_categorical_dtype(vector):\n",
      "c:\\Users\\CENTER_ELRahama\\AppData\\Local\\Programs\\Python\\Python311\\Lib\\site-packages\\seaborn\\_oldcore.py:1498: FutureWarning: is_categorical_dtype is deprecated and will be removed in a future version. Use isinstance(dtype, CategoricalDtype) instead\n",
      "  if pd.api.types.is_categorical_dtype(vector):\n"
     ]
    },
    {
     "data": {
      "image/png": "[encoded data removed]",
      "text/plain": [
       "<Figure size 640x480 with 1 Axes>"
      ]
     },
     "metadata": {},
     "output_type": "display_data"
    }
   ],
   "source": [
    "ax= sns.countplot(x=balanced_train_data['target'],\n",
    "                  data=balanced_train_data)\n",
    "\n",
    "for p in ax.patches:\n",
    "    x= p.get_bbox().get_points()[:,0] \n",
    "    y= p.get_bbox().get_points()[1,1]\n",
    "    ax.annotate(f'{y:.0f}', (x.mean(), y), ha='center',va='bottom')\n",
    "    \n",
    "plt.title(\"Target rating is balance\")\n",
    "plt.show()"
   ]
  },
  {
   "cell_type": "markdown",
   "metadata": {},
   "source": [
    "split data"
   ]
  },
  {
   "cell_type": "code",
   "execution_count": 337,
   "metadata": {},
   "outputs": [],
   "source": [
    "from sklearn.model_selection import train_test_split"
   ]
  },
  {
   "cell_type": "code",
   "execution_count": 338,
   "metadata": {},
   "outputs": [
    {
     "data": {
      "text/html": [
       "<div>\n",
       "<style scoped>\n",
       "    .dataframe tbody tr th:only-of-type {\n",
       "        vertical-align: middle;\n",
       "    }\n",
       "\n",
       "    .dataframe tbody tr th {\n",
       "        vertical-align: top;\n",
       "    }\n",
       "\n",
       "    .dataframe thead th {\n",
       "        text-align: right;\n",
       "    }\n",
       "</style>\n",
       "<table border=\"1\" class=\"dataframe\">\n",
       "  <thead>\n",
       "    <tr style=\"text-align: right;\">\n",
       "      <th></th>\n",
       "      <th>text</th>\n",
       "      <th>target</th>\n",
       "      <th>no_tokens</th>\n",
       "      <th>clean_text</th>\n",
       "    </tr>\n",
       "  </thead>\n",
       "  <tbody>\n",
       "    <tr>\n",
       "      <th>3799</th>\n",
       "      <td>when a monster truck racer catches on fire at ...</td>\n",
       "      <td>1</td>\n",
       "      <td>11</td>\n",
       "      <td>monster truck racer catch fire fair</td>\n",
       "    </tr>\n",
       "    <tr>\n",
       "      <th>7413</th>\n",
       "      <td>One man fatally shot another wounded on Vermon...</td>\n",
       "      <td>1</td>\n",
       "      <td>12</td>\n",
       "      <td>one man fatal shot anoth wound vermont street ...</td>\n",
       "    </tr>\n",
       "    <tr>\n",
       "      <th>2758</th>\n",
       "      <td>Classic WWW ÛÓ Hiroshima/Nagasaki: Atomic Dev...</td>\n",
       "      <td>1</td>\n",
       "      <td>17</td>\n",
       "      <td>classic www hiroshimanagasaki atom devast hidd...</td>\n",
       "    </tr>\n",
       "    <tr>\n",
       "      <th>342</th>\n",
       "      <td>Paul Craig Roberts ÛÒ Vladimir Putin Issues M...</td>\n",
       "      <td>1</td>\n",
       "      <td>21</td>\n",
       "      <td>paul craig robert vladimir putin issu major wa...</td>\n",
       "    </tr>\n",
       "    <tr>\n",
       "      <th>3148</th>\n",
       "      <td>UPDATE: Indiana State Police reopening I-65 ne...</td>\n",
       "      <td>1</td>\n",
       "      <td>20</td>\n",
       "      <td>updat indiana state polic reopen i65 near lafa...</td>\n",
       "    </tr>\n",
       "  </tbody>\n",
       "</table>\n",
       "</div>"
      ],
      "text/plain": [
       "                                                   text  target  no_tokens  \\\n",
       "3799  when a monster truck racer catches on fire at ...       1         11   \n",
       "7413  One man fatally shot another wounded on Vermon...       1         12   \n",
       "2758  Classic WWW ÛÓ Hiroshima/Nagasaki: Atomic Dev...       1         17   \n",
       "342   Paul Craig Roberts ÛÒ Vladimir Putin Issues M...       1         21   \n",
       "3148  UPDATE: Indiana State Police reopening I-65 ne...       1         20   \n",
       "\n",
       "                                             clean_text  \n",
       "3799                monster truck racer catch fire fair  \n",
       "7413  one man fatal shot anoth wound vermont street ...  \n",
       "2758  classic www hiroshimanagasaki atom devast hidd...  \n",
       "342   paul craig robert vladimir putin issu major wa...  \n",
       "3148  updat indiana state polic reopen i65 near lafa...  "
      ]
     },
     "execution_count": 338,
     "metadata": {},
     "output_type": "execute_result"
    }
   ],
   "source": [
    "balanced_train_data.head()"
   ]
  },
  {
   "cell_type": "code",
   "execution_count": 339,
   "metadata": {},
   "outputs": [],
   "source": [
    "X_train, X_val, y_train, y_val = train_test_split(balanced_train_data['clean_text'], balanced_train_data['target'], test_size=0.2, random_state=7)"
   ]
  },
  {
   "cell_type": "code",
   "execution_count": 340,
   "metadata": {},
   "outputs": [
    {
     "name": "stdout",
     "output_type": "stream",
     "text": [
      "(6947,)\n",
      "(1737,)\n",
      "(6947,)\n",
      "(1737,)\n"
     ]
    }
   ],
   "source": [
    "print(X_train.shape)\n",
    "print(X_val.shape)\n",
    "print(y_train.shape)\n",
    "print(y_val.shape)"
   ]
  },
  {
   "cell_type": "markdown",
   "metadata": {},
   "source": [
    "# Build Pipline for TfidfVectorizer and Naive bayes"
   ]
  },
  {
   "cell_type": "code",
   "execution_count": 341,
   "metadata": {},
   "outputs": [],
   "source": [
    "from sklearn.pipeline import Pipeline"
   ]
  },
  {
   "cell_type": "markdown",
   "metadata": {},
   "source": [
    "apply vectorization"
   ]
  },
  {
   "cell_type": "code",
   "execution_count": 342,
   "metadata": {},
   "outputs": [],
   "source": [
    "from sklearn.feature_extraction.text import TfidfVectorizer\n"
   ]
  },
  {
   "cell_type": "markdown",
   "metadata": {},
   "source": [
    "apply model"
   ]
  },
  {
   "cell_type": "code",
   "execution_count": 343,
   "metadata": {},
   "outputs": [],
   "source": [
    "from sklearn.naive_bayes import MultinomialNB\n"
   ]
  },
  {
   "cell_type": "code",
   "execution_count": 344,
   "metadata": {},
   "outputs": [],
   "source": [
    "pipeline = Pipeline([\n",
    "    ('tfidf', TfidfVectorizer()),\n",
    "    ('nb', MultinomialNB())\n",
    "])"
   ]
  },
  {
   "cell_type": "markdown",
   "metadata": {},
   "source": [
    "apply grid search for hyperparameters"
   ]
  },
  {
   "cell_type": "code",
   "execution_count": 345,
   "metadata": {},
   "outputs": [],
   "source": [
    "from sklearn.model_selection import GridSearchCV"
   ]
  },
  {
   "cell_type": "markdown",
   "metadata": {},
   "source": [
    "define new hyperparameters "
   ]
  },
  {
   "cell_type": "code",
   "execution_count": 346,
   "metadata": {},
   "outputs": [],
   "source": [
    "params = {\n",
    "    'tfidf__ngram_range': [(1,1), (1,2)],\n",
    "    'tfidf__max_df': [0.5, 0.75, 1.0],\n",
    "    'tfidf__min_df': [1, 2, 5],\n",
    "    'nb__alpha': [0.1, 0.5, 1.0],\n",
    "}"
   ]
  },
  {
   "cell_type": "markdown",
   "metadata": {},
   "source": [
    "get the best hyperparameters"
   ]
  },
  {
   "cell_type": "code",
   "execution_count": 347,
   "metadata": {},
   "outputs": [],
   "source": [
    "grid_search = GridSearchCV(estimator= pipeline, \n",
    "                           param_grid= params, \n",
    "                           cv= 5)"
   ]
  },
  {
   "cell_type": "markdown",
   "metadata": {},
   "source": [
    "fit grid search "
   ]
  },
  {
   "cell_type": "code",
   "execution_count": 348,
   "metadata": {},
   "outputs": [
    {
     "data": {
      "text/html": [
       "<style>#sk-container-id-10 {color: black;}#sk-container-id-10 pre{padding: 0;}#sk-container-id-10 div.sk-toggleable {background-color: white;}#sk-container-id-10 label.sk-toggleable__label {cursor: pointer;display: block;width: 100%;margin-bottom: 0;padding: 0.3em;box-sizing: border-box;text-align: center;}#sk-container-id-10 label.sk-toggleable__label-arrow:before {content: \"▸\";float: left;margin-right: 0.25em;color: #696969;}#sk-container-id-10 label.sk-toggleable__label-arrow:hover:before {color: black;}#sk-container-id-10 div.sk-estimator:hover label.sk-toggleable__label-arrow:before {color: black;}#sk-container-id-10 div.sk-toggleable__content {max-height: 0;max-width: 0;overflow: hidden;text-align: left;background-color: #f0f8ff;}#sk-container-id-10 div.sk-toggleable__content pre {margin: 0.2em;color: black;border-radius: 0.25em;background-color: #f0f8ff;}#sk-container-id-10 input.sk-toggleable__control:checked~div.sk-toggleable__content {max-height: 200px;max-width: 100%;overflow: auto;}#sk-container-id-10 input.sk-toggleable__control:checked~label.sk-toggleable__label-arrow:before {content: \"▾\";}#sk-container-id-10 div.sk-estimator input.sk-toggleable__control:checked~label.sk-toggleable__label {background-color: #d4ebff;}#sk-container-id-10 div.sk-label input.sk-toggleable__control:checked~label.sk-toggleable__label {background-color: #d4ebff;}#sk-container-id-10 input.sk-hidden--visually {border: 0;clip: rect(1px 1px 1px 1px);clip: rect(1px, 1px, 1px, 1px);height: 1px;margin: -1px;overflow: hidden;padding: 0;position: absolute;width: 1px;}#sk-container-id-10 div.sk-estimator {font-family: monospace;background-color: #f0f8ff;border: 1px dotted black;border-radius: 0.25em;box-sizing: border-box;margin-bottom: 0.5em;}#sk-container-id-10 div.sk-estimator:hover {background-color: #d4ebff;}#sk-container-id-10 div.sk-parallel-item::after {content: \"\";width: 100%;border-bottom: 1px solid gray;flex-grow: 1;}#sk-container-id-10 div.sk-label:hover label.sk-toggleable__label {background-color: #d4ebff;}#sk-container-id-10 div.sk-serial::before {content: \"\";position: absolute;border-left: 1px solid gray;box-sizing: border-box;top: 0;bottom: 0;left: 50%;z-index: 0;}#sk-container-id-10 div.sk-serial {display: flex;flex-direction: column;align-items: center;background-color: white;padding-right: 0.2em;padding-left: 0.2em;position: relative;}#sk-container-id-10 div.sk-item {position: relative;z-index: 1;}#sk-container-id-10 div.sk-parallel {display: flex;align-items: stretch;justify-content: center;background-color: white;position: relative;}#sk-container-id-10 div.sk-item::before, #sk-container-id-10 div.sk-parallel-item::before {content: \"\";position: absolute;border-left: 1px solid gray;box-sizing: border-box;top: 0;bottom: 0;left: 50%;z-index: -1;}#sk-container-id-10 div.sk-parallel-item {display: flex;flex-direction: column;z-index: 1;position: relative;background-color: white;}#sk-container-id-10 div.sk-parallel-item:first-child::after {align-self: flex-end;width: 50%;}#sk-container-id-10 div.sk-parallel-item:last-child::after {align-self: flex-start;width: 50%;}#sk-container-id-10 div.sk-parallel-item:only-child::after {width: 0;}#sk-container-id-10 div.sk-dashed-wrapped {border: 1px dashed gray;margin: 0 0.4em 0.5em 0.4em;box-sizing: border-box;padding-bottom: 0.4em;background-color: white;}#sk-container-id-10 div.sk-label label {font-family: monospace;font-weight: bold;display: inline-block;line-height: 1.2em;}#sk-container-id-10 div.sk-label-container {text-align: center;}#sk-container-id-10 div.sk-container {/* jupyter's `normalize.less` sets `[hidden] { display: none; }` but bootstrap.min.css set `[hidden] { display: none !important; }` so we also need the `!important` here to be able to override the default hidden behavior on the sphinx rendered scikit-learn.org. See: https://github.com/scikit-learn/scikit-learn/issues/21755 */display: inline-block !important;position: relative;}#sk-container-id-10 div.sk-text-repr-fallback {display: none;}</style><div id=\"sk-container-id-10\" class=\"sk-top-container\"><div class=\"sk-text-repr-fallback\"><pre>GridSearchCV(cv=5,\n",
       "             estimator=Pipeline(steps=[(&#x27;tfidf&#x27;, TfidfVectorizer()),\n",
       "                                       (&#x27;nb&#x27;, MultinomialNB())]),\n",
       "             param_grid={&#x27;nb__alpha&#x27;: [0.1, 0.5, 1.0],\n",
       "                         &#x27;tfidf__max_df&#x27;: [0.5, 0.75, 1.0],\n",
       "                         &#x27;tfidf__min_df&#x27;: [1, 2, 5],\n",
       "                         &#x27;tfidf__ngram_range&#x27;: [(1, 1), (1, 2)]})</pre><b>In a Jupyter environment, please rerun this cell to show the HTML representation or trust the notebook. <br />On GitHub, the HTML representation is unable to render, please try loading this page with nbviewer.org.</b></div><div class=\"sk-container\" hidden><div class=\"sk-item sk-dashed-wrapped\"><div class=\"sk-label-container\"><div class=\"sk-label sk-toggleable\"><input class=\"sk-toggleable__control sk-hidden--visually\" id=\"sk-estimator-id-31\" type=\"checkbox\" ><label for=\"sk-estimator-id-31\" class=\"sk-toggleable__label sk-toggleable__label-arrow\">GridSearchCV</label><div class=\"sk-toggleable__content\"><pre>GridSearchCV(cv=5,\n",
       "             estimator=Pipeline(steps=[(&#x27;tfidf&#x27;, TfidfVectorizer()),\n",
       "                                       (&#x27;nb&#x27;, MultinomialNB())]),\n",
       "             param_grid={&#x27;nb__alpha&#x27;: [0.1, 0.5, 1.0],\n",
       "                         &#x27;tfidf__max_df&#x27;: [0.5, 0.75, 1.0],\n",
       "                         &#x27;tfidf__min_df&#x27;: [1, 2, 5],\n",
       "                         &#x27;tfidf__ngram_range&#x27;: [(1, 1), (1, 2)]})</pre></div></div></div><div class=\"sk-parallel\"><div class=\"sk-parallel-item\"><div class=\"sk-item\"><div class=\"sk-label-container\"><div class=\"sk-label sk-toggleable\"><input class=\"sk-toggleable__control sk-hidden--visually\" id=\"sk-estimator-id-32\" type=\"checkbox\" ><label for=\"sk-estimator-id-32\" class=\"sk-toggleable__label sk-toggleable__label-arrow\">estimator: Pipeline</label><div class=\"sk-toggleable__content\"><pre>Pipeline(steps=[(&#x27;tfidf&#x27;, TfidfVectorizer()), (&#x27;nb&#x27;, MultinomialNB())])</pre></div></div></div><div class=\"sk-serial\"><div class=\"sk-item\"><div class=\"sk-serial\"><div class=\"sk-item\"><div class=\"sk-estimator sk-toggleable\"><input class=\"sk-toggleable__control sk-hidden--visually\" id=\"sk-estimator-id-33\" type=\"checkbox\" ><label for=\"sk-estimator-id-33\" class=\"sk-toggleable__label sk-toggleable__label-arrow\">TfidfVectorizer</label><div class=\"sk-toggleable__content\"><pre>TfidfVectorizer()</pre></div></div></div><div class=\"sk-item\"><div class=\"sk-estimator sk-toggleable\"><input class=\"sk-toggleable__control sk-hidden--visually\" id=\"sk-estimator-id-34\" type=\"checkbox\" ><label for=\"sk-estimator-id-34\" class=\"sk-toggleable__label sk-toggleable__label-arrow\">MultinomialNB</label><div class=\"sk-toggleable__content\"><pre>MultinomialNB()</pre></div></div></div></div></div></div></div></div></div></div></div></div>"
      ],
      "text/plain": [
       "GridSearchCV(cv=5,\n",
       "             estimator=Pipeline(steps=[('tfidf', TfidfVectorizer()),\n",
       "                                       ('nb', MultinomialNB())]),\n",
       "             param_grid={'nb__alpha': [0.1, 0.5, 1.0],\n",
       "                         'tfidf__max_df': [0.5, 0.75, 1.0],\n",
       "                         'tfidf__min_df': [1, 2, 5],\n",
       "                         'tfidf__ngram_range': [(1, 1), (1, 2)]})"
      ]
     },
     "execution_count": 348,
     "metadata": {},
     "output_type": "execute_result"
    }
   ],
   "source": [
    "grid_search.fit(X_train, y_train)"
   ]
  },
  {
   "cell_type": "markdown",
   "metadata": {},
   "source": [
    "params for each iteration"
   ]
  },
  {
   "cell_type": "code",
   "execution_count": 349,
   "metadata": {},
   "outputs": [
    {
     "data": {
      "text/html": [
       "<div>\n",
       "<style scoped>\n",
       "    .dataframe tbody tr th:only-of-type {\n",
       "        vertical-align: middle;\n",
       "    }\n",
       "\n",
       "    .dataframe tbody tr th {\n",
       "        vertical-align: top;\n",
       "    }\n",
       "\n",
       "    .dataframe thead th {\n",
       "        text-align: right;\n",
       "    }\n",
       "</style>\n",
       "<table border=\"1\" class=\"dataframe\">\n",
       "  <thead>\n",
       "    <tr style=\"text-align: right;\">\n",
       "      <th></th>\n",
       "      <th>mean_fit_time</th>\n",
       "      <th>std_fit_time</th>\n",
       "      <th>mean_score_time</th>\n",
       "      <th>std_score_time</th>\n",
       "      <th>param_nb__alpha</th>\n",
       "      <th>param_tfidf__max_df</th>\n",
       "      <th>param_tfidf__min_df</th>\n",
       "      <th>param_tfidf__ngram_range</th>\n",
       "      <th>params</th>\n",
       "      <th>split0_test_score</th>\n",
       "      <th>split1_test_score</th>\n",
       "      <th>split2_test_score</th>\n",
       "      <th>split3_test_score</th>\n",
       "      <th>split4_test_score</th>\n",
       "      <th>mean_test_score</th>\n",
       "      <th>std_test_score</th>\n",
       "      <th>rank_test_score</th>\n",
       "    </tr>\n",
       "  </thead>\n",
       "  <tbody>\n",
       "    <tr>\n",
       "      <th>0</th>\n",
       "      <td>0.087940</td>\n",
       "      <td>0.012652</td>\n",
       "      <td>0.019075</td>\n",
       "      <td>0.006447</td>\n",
       "      <td>0.1</td>\n",
       "      <td>0.5</td>\n",
       "      <td>1</td>\n",
       "      <td>(1, 1)</td>\n",
       "      <td>{'nb__alpha': 0.1, 'tfidf__max_df': 0.5, 'tfid...</td>\n",
       "      <td>0.843885</td>\n",
       "      <td>0.843165</td>\n",
       "      <td>0.832973</td>\n",
       "      <td>0.830094</td>\n",
       "      <td>0.835853</td>\n",
       "      <td>0.837194</td>\n",
       "      <td>0.005486</td>\n",
       "      <td>10</td>\n",
       "    </tr>\n",
       "    <tr>\n",
       "      <th>1</th>\n",
       "      <td>0.245527</td>\n",
       "      <td>0.026184</td>\n",
       "      <td>0.032361</td>\n",
       "      <td>0.003786</td>\n",
       "      <td>0.1</td>\n",
       "      <td>0.5</td>\n",
       "      <td>1</td>\n",
       "      <td>(1, 2)</td>\n",
       "      <td>{'nb__alpha': 0.1, 'tfidf__max_df': 0.5, 'tfid...</td>\n",
       "      <td>0.850360</td>\n",
       "      <td>0.841727</td>\n",
       "      <td>0.842333</td>\n",
       "      <td>0.847372</td>\n",
       "      <td>0.839453</td>\n",
       "      <td>0.844249</td>\n",
       "      <td>0.004003</td>\n",
       "      <td>1</td>\n",
       "    </tr>\n",
       "    <tr>\n",
       "      <th>2</th>\n",
       "      <td>0.088126</td>\n",
       "      <td>0.040720</td>\n",
       "      <td>0.021289</td>\n",
       "      <td>0.005895</td>\n",
       "      <td>0.1</td>\n",
       "      <td>0.5</td>\n",
       "      <td>2</td>\n",
       "      <td>(1, 1)</td>\n",
       "      <td>{'nb__alpha': 0.1, 'tfidf__max_df': 0.5, 'tfid...</td>\n",
       "      <td>0.818705</td>\n",
       "      <td>0.808633</td>\n",
       "      <td>0.811375</td>\n",
       "      <td>0.816415</td>\n",
       "      <td>0.825774</td>\n",
       "      <td>0.816180</td>\n",
       "      <td>0.005975</td>\n",
       "      <td>28</td>\n",
       "    </tr>\n",
       "    <tr>\n",
       "      <th>3</th>\n",
       "      <td>0.148330</td>\n",
       "      <td>0.020498</td>\n",
       "      <td>0.028984</td>\n",
       "      <td>0.003807</td>\n",
       "      <td>0.1</td>\n",
       "      <td>0.5</td>\n",
       "      <td>2</td>\n",
       "      <td>(1, 2)</td>\n",
       "      <td>{'nb__alpha': 0.1, 'tfidf__max_df': 0.5, 'tfid...</td>\n",
       "      <td>0.820144</td>\n",
       "      <td>0.815108</td>\n",
       "      <td>0.816415</td>\n",
       "      <td>0.824334</td>\n",
       "      <td>0.825774</td>\n",
       "      <td>0.820355</td>\n",
       "      <td>0.004202</td>\n",
       "      <td>19</td>\n",
       "    </tr>\n",
       "    <tr>\n",
       "      <th>4</th>\n",
       "      <td>0.061608</td>\n",
       "      <td>0.008843</td>\n",
       "      <td>0.013415</td>\n",
       "      <td>0.003716</td>\n",
       "      <td>0.1</td>\n",
       "      <td>0.5</td>\n",
       "      <td>5</td>\n",
       "      <td>(1, 1)</td>\n",
       "      <td>{'nb__alpha': 0.1, 'tfidf__max_df': 0.5, 'tfid...</td>\n",
       "      <td>0.792086</td>\n",
       "      <td>0.811511</td>\n",
       "      <td>0.785457</td>\n",
       "      <td>0.791937</td>\n",
       "      <td>0.801296</td>\n",
       "      <td>0.796457</td>\n",
       "      <td>0.009062</td>\n",
       "      <td>40</td>\n",
       "    </tr>\n",
       "    <tr>\n",
       "      <th>5</th>\n",
       "      <td>0.123477</td>\n",
       "      <td>0.011339</td>\n",
       "      <td>0.027578</td>\n",
       "      <td>0.003569</td>\n",
       "      <td>0.1</td>\n",
       "      <td>0.5</td>\n",
       "      <td>5</td>\n",
       "      <td>(1, 2)</td>\n",
       "      <td>{'nb__alpha': 0.1, 'tfidf__max_df': 0.5, 'tfid...</td>\n",
       "      <td>0.789209</td>\n",
       "      <td>0.802878</td>\n",
       "      <td>0.786177</td>\n",
       "      <td>0.798416</td>\n",
       "      <td>0.794816</td>\n",
       "      <td>0.794299</td>\n",
       "      <td>0.006045</td>\n",
       "      <td>52</td>\n",
       "    </tr>\n",
       "    <tr>\n",
       "      <th>6</th>\n",
       "      <td>0.089909</td>\n",
       "      <td>0.005835</td>\n",
       "      <td>0.019851</td>\n",
       "      <td>0.002303</td>\n",
       "      <td>0.1</td>\n",
       "      <td>0.75</td>\n",
       "      <td>1</td>\n",
       "      <td>(1, 1)</td>\n",
       "      <td>{'nb__alpha': 0.1, 'tfidf__max_df': 0.75, 'tfi...</td>\n",
       "      <td>0.843885</td>\n",
       "      <td>0.843165</td>\n",
       "      <td>0.832973</td>\n",
       "      <td>0.830094</td>\n",
       "      <td>0.835853</td>\n",
       "      <td>0.837194</td>\n",
       "      <td>0.005486</td>\n",
       "      <td>10</td>\n",
       "    </tr>\n",
       "    <tr>\n",
       "      <th>7</th>\n",
       "      <td>0.181892</td>\n",
       "      <td>0.036287</td>\n",
       "      <td>0.025882</td>\n",
       "      <td>0.010286</td>\n",
       "      <td>0.1</td>\n",
       "      <td>0.75</td>\n",
       "      <td>1</td>\n",
       "      <td>(1, 2)</td>\n",
       "      <td>{'nb__alpha': 0.1, 'tfidf__max_df': 0.75, 'tfi...</td>\n",
       "      <td>0.850360</td>\n",
       "      <td>0.841727</td>\n",
       "      <td>0.842333</td>\n",
       "      <td>0.847372</td>\n",
       "      <td>0.839453</td>\n",
       "      <td>0.844249</td>\n",
       "      <td>0.004003</td>\n",
       "      <td>1</td>\n",
       "    </tr>\n",
       "    <tr>\n",
       "      <th>8</th>\n",
       "      <td>0.067306</td>\n",
       "      <td>0.007764</td>\n",
       "      <td>0.015265</td>\n",
       "      <td>0.001724</td>\n",
       "      <td>0.1</td>\n",
       "      <td>0.75</td>\n",
       "      <td>2</td>\n",
       "      <td>(1, 1)</td>\n",
       "      <td>{'nb__alpha': 0.1, 'tfidf__max_df': 0.75, 'tfi...</td>\n",
       "      <td>0.818705</td>\n",
       "      <td>0.808633</td>\n",
       "      <td>0.811375</td>\n",
       "      <td>0.816415</td>\n",
       "      <td>0.825774</td>\n",
       "      <td>0.816180</td>\n",
       "      <td>0.005975</td>\n",
       "      <td>28</td>\n",
       "    </tr>\n",
       "    <tr>\n",
       "      <th>9</th>\n",
       "      <td>0.141955</td>\n",
       "      <td>0.016418</td>\n",
       "      <td>0.023499</td>\n",
       "      <td>0.008522</td>\n",
       "      <td>0.1</td>\n",
       "      <td>0.75</td>\n",
       "      <td>2</td>\n",
       "      <td>(1, 2)</td>\n",
       "      <td>{'nb__alpha': 0.1, 'tfidf__max_df': 0.75, 'tfi...</td>\n",
       "      <td>0.820144</td>\n",
       "      <td>0.815108</td>\n",
       "      <td>0.816415</td>\n",
       "      <td>0.824334</td>\n",
       "      <td>0.825774</td>\n",
       "      <td>0.820355</td>\n",
       "      <td>0.004202</td>\n",
       "      <td>19</td>\n",
       "    </tr>\n",
       "    <tr>\n",
       "      <th>10</th>\n",
       "      <td>0.051246</td>\n",
       "      <td>0.001688</td>\n",
       "      <td>0.010914</td>\n",
       "      <td>0.005827</td>\n",
       "      <td>0.1</td>\n",
       "      <td>0.75</td>\n",
       "      <td>5</td>\n",
       "      <td>(1, 1)</td>\n",
       "      <td>{'nb__alpha': 0.1, 'tfidf__max_df': 0.75, 'tfi...</td>\n",
       "      <td>0.792086</td>\n",
       "      <td>0.811511</td>\n",
       "      <td>0.785457</td>\n",
       "      <td>0.791937</td>\n",
       "      <td>0.801296</td>\n",
       "      <td>0.796457</td>\n",
       "      <td>0.009062</td>\n",
       "      <td>40</td>\n",
       "    </tr>\n",
       "    <tr>\n",
       "      <th>11</th>\n",
       "      <td>0.101040</td>\n",
       "      <td>0.003364</td>\n",
       "      <td>0.023444</td>\n",
       "      <td>0.008068</td>\n",
       "      <td>0.1</td>\n",
       "      <td>0.75</td>\n",
       "      <td>5</td>\n",
       "      <td>(1, 2)</td>\n",
       "      <td>{'nb__alpha': 0.1, 'tfidf__max_df': 0.75, 'tfi...</td>\n",
       "      <td>0.789209</td>\n",
       "      <td>0.802878</td>\n",
       "      <td>0.786177</td>\n",
       "      <td>0.798416</td>\n",
       "      <td>0.794816</td>\n",
       "      <td>0.794299</td>\n",
       "      <td>0.006045</td>\n",
       "      <td>52</td>\n",
       "    </tr>\n",
       "    <tr>\n",
       "      <th>12</th>\n",
       "      <td>0.057174</td>\n",
       "      <td>0.007469</td>\n",
       "      <td>0.016804</td>\n",
       "      <td>0.003126</td>\n",
       "      <td>0.1</td>\n",
       "      <td>1.0</td>\n",
       "      <td>1</td>\n",
       "      <td>(1, 1)</td>\n",
       "      <td>{'nb__alpha': 0.1, 'tfidf__max_df': 1.0, 'tfid...</td>\n",
       "      <td>0.843885</td>\n",
       "      <td>0.843165</td>\n",
       "      <td>0.832973</td>\n",
       "      <td>0.830094</td>\n",
       "      <td>0.835853</td>\n",
       "      <td>0.837194</td>\n",
       "      <td>0.005486</td>\n",
       "      <td>10</td>\n",
       "    </tr>\n",
       "    <tr>\n",
       "      <th>13</th>\n",
       "      <td>0.163773</td>\n",
       "      <td>0.019547</td>\n",
       "      <td>0.030734</td>\n",
       "      <td>0.003758</td>\n",
       "      <td>0.1</td>\n",
       "      <td>1.0</td>\n",
       "      <td>1</td>\n",
       "      <td>(1, 2)</td>\n",
       "      <td>{'nb__alpha': 0.1, 'tfidf__max_df': 1.0, 'tfid...</td>\n",
       "      <td>0.850360</td>\n",
       "      <td>0.841727</td>\n",
       "      <td>0.842333</td>\n",
       "      <td>0.847372</td>\n",
       "      <td>0.839453</td>\n",
       "      <td>0.844249</td>\n",
       "      <td>0.004003</td>\n",
       "      <td>1</td>\n",
       "    </tr>\n",
       "    <tr>\n",
       "      <th>14</th>\n",
       "      <td>0.060196</td>\n",
       "      <td>0.005505</td>\n",
       "      <td>0.009050</td>\n",
       "      <td>0.005344</td>\n",
       "      <td>0.1</td>\n",
       "      <td>1.0</td>\n",
       "      <td>2</td>\n",
       "      <td>(1, 1)</td>\n",
       "      <td>{'nb__alpha': 0.1, 'tfidf__max_df': 1.0, 'tfid...</td>\n",
       "      <td>0.818705</td>\n",
       "      <td>0.808633</td>\n",
       "      <td>0.811375</td>\n",
       "      <td>0.816415</td>\n",
       "      <td>0.825774</td>\n",
       "      <td>0.816180</td>\n",
       "      <td>0.005975</td>\n",
       "      <td>28</td>\n",
       "    </tr>\n",
       "    <tr>\n",
       "      <th>15</th>\n",
       "      <td>0.131655</td>\n",
       "      <td>0.025320</td>\n",
       "      <td>0.021775</td>\n",
       "      <td>0.006442</td>\n",
       "      <td>0.1</td>\n",
       "      <td>1.0</td>\n",
       "      <td>2</td>\n",
       "      <td>(1, 2)</td>\n",
       "      <td>{'nb__alpha': 0.1, 'tfidf__max_df': 1.0, 'tfid...</td>\n",
       "      <td>0.820144</td>\n",
       "      <td>0.815108</td>\n",
       "      <td>0.816415</td>\n",
       "      <td>0.824334</td>\n",
       "      <td>0.825774</td>\n",
       "      <td>0.820355</td>\n",
       "      <td>0.004202</td>\n",
       "      <td>19</td>\n",
       "    </tr>\n",
       "    <tr>\n",
       "      <th>16</th>\n",
       "      <td>0.075627</td>\n",
       "      <td>0.003803</td>\n",
       "      <td>0.015953</td>\n",
       "      <td>0.003735</td>\n",
       "      <td>0.1</td>\n",
       "      <td>1.0</td>\n",
       "      <td>5</td>\n",
       "      <td>(1, 1)</td>\n",
       "      <td>{'nb__alpha': 0.1, 'tfidf__max_df': 1.0, 'tfid...</td>\n",
       "      <td>0.792086</td>\n",
       "      <td>0.811511</td>\n",
       "      <td>0.785457</td>\n",
       "      <td>0.791937</td>\n",
       "      <td>0.801296</td>\n",
       "      <td>0.796457</td>\n",
       "      <td>0.009062</td>\n",
       "      <td>40</td>\n",
       "    </tr>\n",
       "    <tr>\n",
       "      <th>17</th>\n",
       "      <td>0.168730</td>\n",
       "      <td>0.041844</td>\n",
       "      <td>0.036829</td>\n",
       "      <td>0.009403</td>\n",
       "      <td>0.1</td>\n",
       "      <td>1.0</td>\n",
       "      <td>5</td>\n",
       "      <td>(1, 2)</td>\n",
       "      <td>{'nb__alpha': 0.1, 'tfidf__max_df': 1.0, 'tfid...</td>\n",
       "      <td>0.789209</td>\n",
       "      <td>0.802878</td>\n",
       "      <td>0.786177</td>\n",
       "      <td>0.798416</td>\n",
       "      <td>0.794816</td>\n",
       "      <td>0.794299</td>\n",
       "      <td>0.006045</td>\n",
       "      <td>52</td>\n",
       "    </tr>\n",
       "    <tr>\n",
       "      <th>18</th>\n",
       "      <td>0.065957</td>\n",
       "      <td>0.005318</td>\n",
       "      <td>0.011748</td>\n",
       "      <td>0.005769</td>\n",
       "      <td>0.5</td>\n",
       "      <td>0.5</td>\n",
       "      <td>1</td>\n",
       "      <td>(1, 1)</td>\n",
       "      <td>{'nb__alpha': 0.5, 'tfidf__max_df': 0.5, 'tfid...</td>\n",
       "      <td>0.835252</td>\n",
       "      <td>0.838849</td>\n",
       "      <td>0.832253</td>\n",
       "      <td>0.827214</td>\n",
       "      <td>0.828654</td>\n",
       "      <td>0.832444</td>\n",
       "      <td>0.004258</td>\n",
       "      <td>13</td>\n",
       "    </tr>\n",
       "    <tr>\n",
       "      <th>19</th>\n",
       "      <td>0.173456</td>\n",
       "      <td>0.007140</td>\n",
       "      <td>0.026729</td>\n",
       "      <td>0.004813</td>\n",
       "      <td>0.5</td>\n",
       "      <td>0.5</td>\n",
       "      <td>1</td>\n",
       "      <td>(1, 2)</td>\n",
       "      <td>{'nb__alpha': 0.5, 'tfidf__max_df': 0.5, 'tfid...</td>\n",
       "      <td>0.850360</td>\n",
       "      <td>0.845324</td>\n",
       "      <td>0.846652</td>\n",
       "      <td>0.841613</td>\n",
       "      <td>0.833693</td>\n",
       "      <td>0.843528</td>\n",
       "      <td>0.005658</td>\n",
       "      <td>4</td>\n",
       "    </tr>\n",
       "    <tr>\n",
       "      <th>20</th>\n",
       "      <td>0.053944</td>\n",
       "      <td>0.005638</td>\n",
       "      <td>0.013278</td>\n",
       "      <td>0.005121</td>\n",
       "      <td>0.5</td>\n",
       "      <td>0.5</td>\n",
       "      <td>2</td>\n",
       "      <td>(1, 1)</td>\n",
       "      <td>{'nb__alpha': 0.5, 'tfidf__max_df': 0.5, 'tfid...</td>\n",
       "      <td>0.820863</td>\n",
       "      <td>0.812230</td>\n",
       "      <td>0.815695</td>\n",
       "      <td>0.817135</td>\n",
       "      <td>0.820734</td>\n",
       "      <td>0.817331</td>\n",
       "      <td>0.003249</td>\n",
       "      <td>22</td>\n",
       "    </tr>\n",
       "    <tr>\n",
       "      <th>21</th>\n",
       "      <td>0.120826</td>\n",
       "      <td>0.006460</td>\n",
       "      <td>0.026028</td>\n",
       "      <td>0.008114</td>\n",
       "      <td>0.5</td>\n",
       "      <td>0.5</td>\n",
       "      <td>2</td>\n",
       "      <td>(1, 2)</td>\n",
       "      <td>{'nb__alpha': 0.5, 'tfidf__max_df': 0.5, 'tfid...</td>\n",
       "      <td>0.807194</td>\n",
       "      <td>0.812230</td>\n",
       "      <td>0.819294</td>\n",
       "      <td>0.814255</td>\n",
       "      <td>0.828654</td>\n",
       "      <td>0.816325</td>\n",
       "      <td>0.007283</td>\n",
       "      <td>25</td>\n",
       "    </tr>\n",
       "    <tr>\n",
       "      <th>22</th>\n",
       "      <td>0.056359</td>\n",
       "      <td>0.007436</td>\n",
       "      <td>0.017255</td>\n",
       "      <td>0.003512</td>\n",
       "      <td>0.5</td>\n",
       "      <td>0.5</td>\n",
       "      <td>5</td>\n",
       "      <td>(1, 1)</td>\n",
       "      <td>{'nb__alpha': 0.5, 'tfidf__max_df': 0.5, 'tfid...</td>\n",
       "      <td>0.791367</td>\n",
       "      <td>0.808633</td>\n",
       "      <td>0.787617</td>\n",
       "      <td>0.789057</td>\n",
       "      <td>0.798416</td>\n",
       "      <td>0.795018</td>\n",
       "      <td>0.007753</td>\n",
       "      <td>49</td>\n",
       "    </tr>\n",
       "    <tr>\n",
       "      <th>23</th>\n",
       "      <td>0.112581</td>\n",
       "      <td>0.007146</td>\n",
       "      <td>0.023491</td>\n",
       "      <td>0.008821</td>\n",
       "      <td>0.5</td>\n",
       "      <td>0.5</td>\n",
       "      <td>5</td>\n",
       "      <td>(1, 2)</td>\n",
       "      <td>{'nb__alpha': 0.5, 'tfidf__max_df': 0.5, 'tfid...</td>\n",
       "      <td>0.794245</td>\n",
       "      <td>0.805036</td>\n",
       "      <td>0.786177</td>\n",
       "      <td>0.800576</td>\n",
       "      <td>0.798416</td>\n",
       "      <td>0.796890</td>\n",
       "      <td>0.006388</td>\n",
       "      <td>37</td>\n",
       "    </tr>\n",
       "    <tr>\n",
       "      <th>24</th>\n",
       "      <td>0.069172</td>\n",
       "      <td>0.005428</td>\n",
       "      <td>0.011152</td>\n",
       "      <td>0.006793</td>\n",
       "      <td>0.5</td>\n",
       "      <td>0.75</td>\n",
       "      <td>1</td>\n",
       "      <td>(1, 1)</td>\n",
       "      <td>{'nb__alpha': 0.5, 'tfidf__max_df': 0.75, 'tfi...</td>\n",
       "      <td>0.835252</td>\n",
       "      <td>0.838849</td>\n",
       "      <td>0.832253</td>\n",
       "      <td>0.827214</td>\n",
       "      <td>0.828654</td>\n",
       "      <td>0.832444</td>\n",
       "      <td>0.004258</td>\n",
       "      <td>13</td>\n",
       "    </tr>\n",
       "    <tr>\n",
       "      <th>25</th>\n",
       "      <td>0.177176</td>\n",
       "      <td>0.012323</td>\n",
       "      <td>0.029979</td>\n",
       "      <td>0.004712</td>\n",
       "      <td>0.5</td>\n",
       "      <td>0.75</td>\n",
       "      <td>1</td>\n",
       "      <td>(1, 2)</td>\n",
       "      <td>{'nb__alpha': 0.5, 'tfidf__max_df': 0.75, 'tfi...</td>\n",
       "      <td>0.850360</td>\n",
       "      <td>0.845324</td>\n",
       "      <td>0.846652</td>\n",
       "      <td>0.841613</td>\n",
       "      <td>0.833693</td>\n",
       "      <td>0.843528</td>\n",
       "      <td>0.005658</td>\n",
       "      <td>4</td>\n",
       "    </tr>\n",
       "    <tr>\n",
       "      <th>26</th>\n",
       "      <td>0.055787</td>\n",
       "      <td>0.007018</td>\n",
       "      <td>0.013754</td>\n",
       "      <td>0.005906</td>\n",
       "      <td>0.5</td>\n",
       "      <td>0.75</td>\n",
       "      <td>2</td>\n",
       "      <td>(1, 1)</td>\n",
       "      <td>{'nb__alpha': 0.5, 'tfidf__max_df': 0.75, 'tfi...</td>\n",
       "      <td>0.820863</td>\n",
       "      <td>0.812230</td>\n",
       "      <td>0.815695</td>\n",
       "      <td>0.817135</td>\n",
       "      <td>0.820734</td>\n",
       "      <td>0.817331</td>\n",
       "      <td>0.003249</td>\n",
       "      <td>22</td>\n",
       "    </tr>\n",
       "    <tr>\n",
       "      <th>27</th>\n",
       "      <td>0.122638</td>\n",
       "      <td>0.007723</td>\n",
       "      <td>0.028190</td>\n",
       "      <td>0.007032</td>\n",
       "      <td>0.5</td>\n",
       "      <td>0.75</td>\n",
       "      <td>2</td>\n",
       "      <td>(1, 2)</td>\n",
       "      <td>{'nb__alpha': 0.5, 'tfidf__max_df': 0.75, 'tfi...</td>\n",
       "      <td>0.807194</td>\n",
       "      <td>0.812230</td>\n",
       "      <td>0.819294</td>\n",
       "      <td>0.814255</td>\n",
       "      <td>0.828654</td>\n",
       "      <td>0.816325</td>\n",
       "      <td>0.007283</td>\n",
       "      <td>25</td>\n",
       "    </tr>\n",
       "    <tr>\n",
       "      <th>28</th>\n",
       "      <td>0.053779</td>\n",
       "      <td>0.006982</td>\n",
       "      <td>0.013612</td>\n",
       "      <td>0.006116</td>\n",
       "      <td>0.5</td>\n",
       "      <td>0.75</td>\n",
       "      <td>5</td>\n",
       "      <td>(1, 1)</td>\n",
       "      <td>{'nb__alpha': 0.5, 'tfidf__max_df': 0.75, 'tfi...</td>\n",
       "      <td>0.791367</td>\n",
       "      <td>0.808633</td>\n",
       "      <td>0.787617</td>\n",
       "      <td>0.789057</td>\n",
       "      <td>0.798416</td>\n",
       "      <td>0.795018</td>\n",
       "      <td>0.007753</td>\n",
       "      <td>49</td>\n",
       "    </tr>\n",
       "    <tr>\n",
       "      <th>29</th>\n",
       "      <td>0.107585</td>\n",
       "      <td>0.008959</td>\n",
       "      <td>0.028198</td>\n",
       "      <td>0.004538</td>\n",
       "      <td>0.5</td>\n",
       "      <td>0.75</td>\n",
       "      <td>5</td>\n",
       "      <td>(1, 2)</td>\n",
       "      <td>{'nb__alpha': 0.5, 'tfidf__max_df': 0.75, 'tfi...</td>\n",
       "      <td>0.794245</td>\n",
       "      <td>0.805036</td>\n",
       "      <td>0.786177</td>\n",
       "      <td>0.800576</td>\n",
       "      <td>0.798416</td>\n",
       "      <td>0.796890</td>\n",
       "      <td>0.006388</td>\n",
       "      <td>37</td>\n",
       "    </tr>\n",
       "    <tr>\n",
       "      <th>30</th>\n",
       "      <td>0.062344</td>\n",
       "      <td>0.007911</td>\n",
       "      <td>0.014465</td>\n",
       "      <td>0.002404</td>\n",
       "      <td>0.5</td>\n",
       "      <td>1.0</td>\n",
       "      <td>1</td>\n",
       "      <td>(1, 1)</td>\n",
       "      <td>{'nb__alpha': 0.5, 'tfidf__max_df': 1.0, 'tfid...</td>\n",
       "      <td>0.835252</td>\n",
       "      <td>0.838849</td>\n",
       "      <td>0.832253</td>\n",
       "      <td>0.827214</td>\n",
       "      <td>0.828654</td>\n",
       "      <td>0.832444</td>\n",
       "      <td>0.004258</td>\n",
       "      <td>13</td>\n",
       "    </tr>\n",
       "    <tr>\n",
       "      <th>31</th>\n",
       "      <td>0.165648</td>\n",
       "      <td>0.009903</td>\n",
       "      <td>0.028218</td>\n",
       "      <td>0.008975</td>\n",
       "      <td>0.5</td>\n",
       "      <td>1.0</td>\n",
       "      <td>1</td>\n",
       "      <td>(1, 2)</td>\n",
       "      <td>{'nb__alpha': 0.5, 'tfidf__max_df': 1.0, 'tfid...</td>\n",
       "      <td>0.850360</td>\n",
       "      <td>0.845324</td>\n",
       "      <td>0.846652</td>\n",
       "      <td>0.841613</td>\n",
       "      <td>0.833693</td>\n",
       "      <td>0.843528</td>\n",
       "      <td>0.005658</td>\n",
       "      <td>4</td>\n",
       "    </tr>\n",
       "    <tr>\n",
       "      <th>32</th>\n",
       "      <td>0.058980</td>\n",
       "      <td>0.007566</td>\n",
       "      <td>0.014245</td>\n",
       "      <td>0.006751</td>\n",
       "      <td>0.5</td>\n",
       "      <td>1.0</td>\n",
       "      <td>2</td>\n",
       "      <td>(1, 1)</td>\n",
       "      <td>{'nb__alpha': 0.5, 'tfidf__max_df': 1.0, 'tfid...</td>\n",
       "      <td>0.820863</td>\n",
       "      <td>0.812230</td>\n",
       "      <td>0.815695</td>\n",
       "      <td>0.817135</td>\n",
       "      <td>0.820734</td>\n",
       "      <td>0.817331</td>\n",
       "      <td>0.003249</td>\n",
       "      <td>22</td>\n",
       "    </tr>\n",
       "    <tr>\n",
       "      <th>33</th>\n",
       "      <td>0.131962</td>\n",
       "      <td>0.016216</td>\n",
       "      <td>0.029524</td>\n",
       "      <td>0.004696</td>\n",
       "      <td>0.5</td>\n",
       "      <td>1.0</td>\n",
       "      <td>2</td>\n",
       "      <td>(1, 2)</td>\n",
       "      <td>{'nb__alpha': 0.5, 'tfidf__max_df': 1.0, 'tfid...</td>\n",
       "      <td>0.807194</td>\n",
       "      <td>0.812230</td>\n",
       "      <td>0.819294</td>\n",
       "      <td>0.814255</td>\n",
       "      <td>0.828654</td>\n",
       "      <td>0.816325</td>\n",
       "      <td>0.007283</td>\n",
       "      <td>25</td>\n",
       "    </tr>\n",
       "    <tr>\n",
       "      <th>34</th>\n",
       "      <td>0.053068</td>\n",
       "      <td>0.003226</td>\n",
       "      <td>0.017593</td>\n",
       "      <td>0.007198</td>\n",
       "      <td>0.5</td>\n",
       "      <td>1.0</td>\n",
       "      <td>5</td>\n",
       "      <td>(1, 1)</td>\n",
       "      <td>{'nb__alpha': 0.5, 'tfidf__max_df': 1.0, 'tfid...</td>\n",
       "      <td>0.791367</td>\n",
       "      <td>0.808633</td>\n",
       "      <td>0.787617</td>\n",
       "      <td>0.789057</td>\n",
       "      <td>0.798416</td>\n",
       "      <td>0.795018</td>\n",
       "      <td>0.007753</td>\n",
       "      <td>49</td>\n",
       "    </tr>\n",
       "    <tr>\n",
       "      <th>35</th>\n",
       "      <td>0.100359</td>\n",
       "      <td>0.001576</td>\n",
       "      <td>0.026257</td>\n",
       "      <td>0.011095</td>\n",
       "      <td>0.5</td>\n",
       "      <td>1.0</td>\n",
       "      <td>5</td>\n",
       "      <td>(1, 2)</td>\n",
       "      <td>{'nb__alpha': 0.5, 'tfidf__max_df': 1.0, 'tfid...</td>\n",
       "      <td>0.794245</td>\n",
       "      <td>0.805036</td>\n",
       "      <td>0.786177</td>\n",
       "      <td>0.800576</td>\n",
       "      <td>0.798416</td>\n",
       "      <td>0.796890</td>\n",
       "      <td>0.006388</td>\n",
       "      <td>37</td>\n",
       "    </tr>\n",
       "    <tr>\n",
       "      <th>36</th>\n",
       "      <td>0.066171</td>\n",
       "      <td>0.003085</td>\n",
       "      <td>0.015470</td>\n",
       "      <td>0.001105</td>\n",
       "      <td>1.0</td>\n",
       "      <td>0.5</td>\n",
       "      <td>1</td>\n",
       "      <td>(1, 1)</td>\n",
       "      <td>{'nb__alpha': 1.0, 'tfidf__max_df': 0.5, 'tfid...</td>\n",
       "      <td>0.827338</td>\n",
       "      <td>0.830935</td>\n",
       "      <td>0.829374</td>\n",
       "      <td>0.826494</td>\n",
       "      <td>0.822174</td>\n",
       "      <td>0.827263</td>\n",
       "      <td>0.002981</td>\n",
       "      <td>16</td>\n",
       "    </tr>\n",
       "    <tr>\n",
       "      <th>37</th>\n",
       "      <td>0.162832</td>\n",
       "      <td>0.007105</td>\n",
       "      <td>0.023698</td>\n",
       "      <td>0.008674</td>\n",
       "      <td>1.0</td>\n",
       "      <td>0.5</td>\n",
       "      <td>1</td>\n",
       "      <td>(1, 2)</td>\n",
       "      <td>{'nb__alpha': 1.0, 'tfidf__max_df': 0.5, 'tfid...</td>\n",
       "      <td>0.843885</td>\n",
       "      <td>0.843165</td>\n",
       "      <td>0.843053</td>\n",
       "      <td>0.837293</td>\n",
       "      <td>0.831533</td>\n",
       "      <td>0.839786</td>\n",
       "      <td>0.004758</td>\n",
       "      <td>7</td>\n",
       "    </tr>\n",
       "    <tr>\n",
       "      <th>38</th>\n",
       "      <td>0.056269</td>\n",
       "      <td>0.006147</td>\n",
       "      <td>0.011342</td>\n",
       "      <td>0.006802</td>\n",
       "      <td>1.0</td>\n",
       "      <td>0.5</td>\n",
       "      <td>2</td>\n",
       "      <td>(1, 1)</td>\n",
       "      <td>{'nb__alpha': 1.0, 'tfidf__max_df': 0.5, 'tfid...</td>\n",
       "      <td>0.813669</td>\n",
       "      <td>0.810791</td>\n",
       "      <td>0.816415</td>\n",
       "      <td>0.814975</td>\n",
       "      <td>0.818575</td>\n",
       "      <td>0.814885</td>\n",
       "      <td>0.002615</td>\n",
       "      <td>31</td>\n",
       "    </tr>\n",
       "    <tr>\n",
       "      <th>39</th>\n",
       "      <td>0.120633</td>\n",
       "      <td>0.005587</td>\n",
       "      <td>0.020254</td>\n",
       "      <td>0.004332</td>\n",
       "      <td>1.0</td>\n",
       "      <td>0.5</td>\n",
       "      <td>2</td>\n",
       "      <td>(1, 2)</td>\n",
       "      <td>{'nb__alpha': 1.0, 'tfidf__max_df': 0.5, 'tfid...</td>\n",
       "      <td>0.807194</td>\n",
       "      <td>0.812230</td>\n",
       "      <td>0.815695</td>\n",
       "      <td>0.814975</td>\n",
       "      <td>0.822894</td>\n",
       "      <td>0.814598</td>\n",
       "      <td>0.005111</td>\n",
       "      <td>34</td>\n",
       "    </tr>\n",
       "    <tr>\n",
       "      <th>40</th>\n",
       "      <td>0.055212</td>\n",
       "      <td>0.006289</td>\n",
       "      <td>0.011628</td>\n",
       "      <td>0.005956</td>\n",
       "      <td>1.0</td>\n",
       "      <td>0.5</td>\n",
       "      <td>5</td>\n",
       "      <td>(1, 1)</td>\n",
       "      <td>{'nb__alpha': 1.0, 'tfidf__max_df': 0.5, 'tfid...</td>\n",
       "      <td>0.791367</td>\n",
       "      <td>0.807914</td>\n",
       "      <td>0.785457</td>\n",
       "      <td>0.792657</td>\n",
       "      <td>0.797696</td>\n",
       "      <td>0.795018</td>\n",
       "      <td>0.007534</td>\n",
       "      <td>46</td>\n",
       "    </tr>\n",
       "    <tr>\n",
       "      <th>41</th>\n",
       "      <td>0.170326</td>\n",
       "      <td>0.044278</td>\n",
       "      <td>0.038721</td>\n",
       "      <td>0.006577</td>\n",
       "      <td>1.0</td>\n",
       "      <td>0.5</td>\n",
       "      <td>5</td>\n",
       "      <td>(1, 2)</td>\n",
       "      <td>{'nb__alpha': 1.0, 'tfidf__max_df': 0.5, 'tfid...</td>\n",
       "      <td>0.794245</td>\n",
       "      <td>0.802158</td>\n",
       "      <td>0.789057</td>\n",
       "      <td>0.798416</td>\n",
       "      <td>0.797696</td>\n",
       "      <td>0.796314</td>\n",
       "      <td>0.004414</td>\n",
       "      <td>43</td>\n",
       "    </tr>\n",
       "    <tr>\n",
       "      <th>42</th>\n",
       "      <td>0.073533</td>\n",
       "      <td>0.006271</td>\n",
       "      <td>0.016390</td>\n",
       "      <td>0.004162</td>\n",
       "      <td>1.0</td>\n",
       "      <td>0.75</td>\n",
       "      <td>1</td>\n",
       "      <td>(1, 1)</td>\n",
       "      <td>{'nb__alpha': 1.0, 'tfidf__max_df': 0.75, 'tfi...</td>\n",
       "      <td>0.827338</td>\n",
       "      <td>0.830935</td>\n",
       "      <td>0.829374</td>\n",
       "      <td>0.826494</td>\n",
       "      <td>0.822174</td>\n",
       "      <td>0.827263</td>\n",
       "      <td>0.002981</td>\n",
       "      <td>16</td>\n",
       "    </tr>\n",
       "    <tr>\n",
       "      <th>43</th>\n",
       "      <td>0.179111</td>\n",
       "      <td>0.023771</td>\n",
       "      <td>0.033484</td>\n",
       "      <td>0.001744</td>\n",
       "      <td>1.0</td>\n",
       "      <td>0.75</td>\n",
       "      <td>1</td>\n",
       "      <td>(1, 2)</td>\n",
       "      <td>{'nb__alpha': 1.0, 'tfidf__max_df': 0.75, 'tfi...</td>\n",
       "      <td>0.843885</td>\n",
       "      <td>0.843165</td>\n",
       "      <td>0.843053</td>\n",
       "      <td>0.837293</td>\n",
       "      <td>0.831533</td>\n",
       "      <td>0.839786</td>\n",
       "      <td>0.004758</td>\n",
       "      <td>7</td>\n",
       "    </tr>\n",
       "    <tr>\n",
       "      <th>44</th>\n",
       "      <td>0.058883</td>\n",
       "      <td>0.006342</td>\n",
       "      <td>0.010689</td>\n",
       "      <td>0.006034</td>\n",
       "      <td>1.0</td>\n",
       "      <td>0.75</td>\n",
       "      <td>2</td>\n",
       "      <td>(1, 1)</td>\n",
       "      <td>{'nb__alpha': 1.0, 'tfidf__max_df': 0.75, 'tfi...</td>\n",
       "      <td>0.813669</td>\n",
       "      <td>0.810791</td>\n",
       "      <td>0.816415</td>\n",
       "      <td>0.814975</td>\n",
       "      <td>0.818575</td>\n",
       "      <td>0.814885</td>\n",
       "      <td>0.002615</td>\n",
       "      <td>31</td>\n",
       "    </tr>\n",
       "    <tr>\n",
       "      <th>45</th>\n",
       "      <td>0.120527</td>\n",
       "      <td>0.005630</td>\n",
       "      <td>0.022431</td>\n",
       "      <td>0.008389</td>\n",
       "      <td>1.0</td>\n",
       "      <td>0.75</td>\n",
       "      <td>2</td>\n",
       "      <td>(1, 2)</td>\n",
       "      <td>{'nb__alpha': 1.0, 'tfidf__max_df': 0.75, 'tfi...</td>\n",
       "      <td>0.807194</td>\n",
       "      <td>0.812230</td>\n",
       "      <td>0.815695</td>\n",
       "      <td>0.814975</td>\n",
       "      <td>0.822894</td>\n",
       "      <td>0.814598</td>\n",
       "      <td>0.005111</td>\n",
       "      <td>34</td>\n",
       "    </tr>\n",
       "    <tr>\n",
       "      <th>46</th>\n",
       "      <td>0.049858</td>\n",
       "      <td>0.007169</td>\n",
       "      <td>0.018428</td>\n",
       "      <td>0.004727</td>\n",
       "      <td>1.0</td>\n",
       "      <td>0.75</td>\n",
       "      <td>5</td>\n",
       "      <td>(1, 1)</td>\n",
       "      <td>{'nb__alpha': 1.0, 'tfidf__max_df': 0.75, 'tfi...</td>\n",
       "      <td>0.791367</td>\n",
       "      <td>0.807914</td>\n",
       "      <td>0.785457</td>\n",
       "      <td>0.792657</td>\n",
       "      <td>0.797696</td>\n",
       "      <td>0.795018</td>\n",
       "      <td>0.007534</td>\n",
       "      <td>46</td>\n",
       "    </tr>\n",
       "    <tr>\n",
       "      <th>47</th>\n",
       "      <td>0.110710</td>\n",
       "      <td>0.008018</td>\n",
       "      <td>0.016730</td>\n",
       "      <td>0.003692</td>\n",
       "      <td>1.0</td>\n",
       "      <td>0.75</td>\n",
       "      <td>5</td>\n",
       "      <td>(1, 2)</td>\n",
       "      <td>{'nb__alpha': 1.0, 'tfidf__max_df': 0.75, 'tfi...</td>\n",
       "      <td>0.794245</td>\n",
       "      <td>0.802158</td>\n",
       "      <td>0.789057</td>\n",
       "      <td>0.798416</td>\n",
       "      <td>0.797696</td>\n",
       "      <td>0.796314</td>\n",
       "      <td>0.004414</td>\n",
       "      <td>43</td>\n",
       "    </tr>\n",
       "    <tr>\n",
       "      <th>48</th>\n",
       "      <td>0.061001</td>\n",
       "      <td>0.007465</td>\n",
       "      <td>0.012758</td>\n",
       "      <td>0.005958</td>\n",
       "      <td>1.0</td>\n",
       "      <td>1.0</td>\n",
       "      <td>1</td>\n",
       "      <td>(1, 1)</td>\n",
       "      <td>{'nb__alpha': 1.0, 'tfidf__max_df': 1.0, 'tfid...</td>\n",
       "      <td>0.827338</td>\n",
       "      <td>0.830935</td>\n",
       "      <td>0.829374</td>\n",
       "      <td>0.826494</td>\n",
       "      <td>0.822174</td>\n",
       "      <td>0.827263</td>\n",
       "      <td>0.002981</td>\n",
       "      <td>16</td>\n",
       "    </tr>\n",
       "    <tr>\n",
       "      <th>49</th>\n",
       "      <td>0.197982</td>\n",
       "      <td>0.023085</td>\n",
       "      <td>0.028607</td>\n",
       "      <td>0.010487</td>\n",
       "      <td>1.0</td>\n",
       "      <td>1.0</td>\n",
       "      <td>1</td>\n",
       "      <td>(1, 2)</td>\n",
       "      <td>{'nb__alpha': 1.0, 'tfidf__max_df': 1.0, 'tfid...</td>\n",
       "      <td>0.843885</td>\n",
       "      <td>0.843165</td>\n",
       "      <td>0.843053</td>\n",
       "      <td>0.837293</td>\n",
       "      <td>0.831533</td>\n",
       "      <td>0.839786</td>\n",
       "      <td>0.004758</td>\n",
       "      <td>7</td>\n",
       "    </tr>\n",
       "    <tr>\n",
       "      <th>50</th>\n",
       "      <td>0.058184</td>\n",
       "      <td>0.006693</td>\n",
       "      <td>0.015094</td>\n",
       "      <td>0.001769</td>\n",
       "      <td>1.0</td>\n",
       "      <td>1.0</td>\n",
       "      <td>2</td>\n",
       "      <td>(1, 1)</td>\n",
       "      <td>{'nb__alpha': 1.0, 'tfidf__max_df': 1.0, 'tfid...</td>\n",
       "      <td>0.813669</td>\n",
       "      <td>0.810791</td>\n",
       "      <td>0.816415</td>\n",
       "      <td>0.814975</td>\n",
       "      <td>0.818575</td>\n",
       "      <td>0.814885</td>\n",
       "      <td>0.002615</td>\n",
       "      <td>31</td>\n",
       "    </tr>\n",
       "    <tr>\n",
       "      <th>51</th>\n",
       "      <td>0.148813</td>\n",
       "      <td>0.022969</td>\n",
       "      <td>0.032423</td>\n",
       "      <td>0.001573</td>\n",
       "      <td>1.0</td>\n",
       "      <td>1.0</td>\n",
       "      <td>2</td>\n",
       "      <td>(1, 2)</td>\n",
       "      <td>{'nb__alpha': 1.0, 'tfidf__max_df': 1.0, 'tfid...</td>\n",
       "      <td>0.807194</td>\n",
       "      <td>0.812230</td>\n",
       "      <td>0.815695</td>\n",
       "      <td>0.814975</td>\n",
       "      <td>0.822894</td>\n",
       "      <td>0.814598</td>\n",
       "      <td>0.005111</td>\n",
       "      <td>34</td>\n",
       "    </tr>\n",
       "    <tr>\n",
       "      <th>52</th>\n",
       "      <td>0.063370</td>\n",
       "      <td>0.006467</td>\n",
       "      <td>0.018700</td>\n",
       "      <td>0.002644</td>\n",
       "      <td>1.0</td>\n",
       "      <td>1.0</td>\n",
       "      <td>5</td>\n",
       "      <td>(1, 1)</td>\n",
       "      <td>{'nb__alpha': 1.0, 'tfidf__max_df': 1.0, 'tfid...</td>\n",
       "      <td>0.791367</td>\n",
       "      <td>0.807914</td>\n",
       "      <td>0.785457</td>\n",
       "      <td>0.792657</td>\n",
       "      <td>0.797696</td>\n",
       "      <td>0.795018</td>\n",
       "      <td>0.007534</td>\n",
       "      <td>46</td>\n",
       "    </tr>\n",
       "    <tr>\n",
       "      <th>53</th>\n",
       "      <td>0.103452</td>\n",
       "      <td>0.005320</td>\n",
       "      <td>0.031260</td>\n",
       "      <td>0.001698</td>\n",
       "      <td>1.0</td>\n",
       "      <td>1.0</td>\n",
       "      <td>5</td>\n",
       "      <td>(1, 2)</td>\n",
       "      <td>{'nb__alpha': 1.0, 'tfidf__max_df': 1.0, 'tfid...</td>\n",
       "      <td>0.794245</td>\n",
       "      <td>0.802158</td>\n",
       "      <td>0.789057</td>\n",
       "      <td>0.798416</td>\n",
       "      <td>0.797696</td>\n",
       "      <td>0.796314</td>\n",
       "      <td>0.004414</td>\n",
       "      <td>43</td>\n",
       "    </tr>\n",
       "  </tbody>\n",
       "</table>\n",
       "</div>"
      ],
      "text/plain": [
       "    mean_fit_time  std_fit_time  mean_score_time  std_score_time  \\\n",
       "0        0.087940      0.012652         0.019075        0.006447   \n",
       "1        0.245527      0.026184         0.032361        0.003786   \n",
       "2        0.088126      0.040720         0.021289        0.005895   \n",
       "3        0.148330      0.020498         0.028984        0.003807   \n",
       "4        0.061608      0.008843         0.013415        0.003716   \n",
       "5        0.123477      0.011339         0.027578        0.003569   \n",
       "6        0.089909      0.005835         0.019851        0.002303   \n",
       "7        0.181892      0.036287         0.025882        0.010286   \n",
       "8        0.067306      0.007764         0.015265        0.001724   \n",
       "9        0.141955      0.016418         0.023499        0.008522   \n",
       "10       0.051246      0.001688         0.010914        0.005827   \n",
       "11       0.101040      0.003364         0.023444        0.008068   \n",
       "12       0.057174      0.007469         0.016804        0.003126   \n",
       "13       0.163773      0.019547         0.030734        0.003758   \n",
       "14       0.060196      0.005505         0.009050        0.005344   \n",
       "15       0.131655      0.025320         0.021775        0.006442   \n",
       "16       0.075627      0.003803         0.015953        0.003735   \n",
       "17       0.168730      0.041844         0.036829        0.009403   \n",
       "18       0.065957      0.005318         0.011748        0.005769   \n",
       "19       0.173456      0.007140         0.026729        0.004813   \n",
       "20       0.053944      0.005638         0.013278        0.005121   \n",
       "21       0.120826      0.006460         0.026028        0.008114   \n",
       "22       0.056359      0.007436         0.017255        0.003512   \n",
       "23       0.112581      0.007146         0.023491        0.008821   \n",
       "24       0.069172      0.005428         0.011152        0.006793   \n",
       "25       0.177176      0.012323         0.029979        0.004712   \n",
       "26       0.055787      0.007018         0.013754        0.005906   \n",
       "27       0.122638      0.007723         0.028190        0.007032   \n",
       "28       0.053779      0.006982         0.013612        0.006116   \n",
       "29       0.107585      0.008959         0.028198        0.004538   \n",
       "30       0.062344      0.007911         0.014465        0.002404   \n",
       "31       0.165648      0.009903         0.028218        0.008975   \n",
       "32       0.058980      0.007566         0.014245        0.006751   \n",
       "33       0.131962      0.016216         0.029524        0.004696   \n",
       "34       0.053068      0.003226         0.017593        0.007198   \n",
       "35       0.100359      0.001576         0.026257        0.011095   \n",
       "36       0.066171      0.003085         0.015470        0.001105   \n",
       "37       0.162832      0.007105         0.023698        0.008674   \n",
       "38       0.056269      0.006147         0.011342        0.006802   \n",
       "39       0.120633      0.005587         0.020254        0.004332   \n",
       "40       0.055212      0.006289         0.011628        0.005956   \n",
       "41       0.170326      0.044278         0.038721        0.006577   \n",
       "42       0.073533      0.006271         0.016390        0.004162   \n",
       "43       0.179111      0.023771         0.033484        0.001744   \n",
       "44       0.058883      0.006342         0.010689        0.006034   \n",
       "45       0.120527      0.005630         0.022431        0.008389   \n",
       "46       0.049858      0.007169         0.018428        0.004727   \n",
       "47       0.110710      0.008018         0.016730        0.003692   \n",
       "48       0.061001      0.007465         0.012758        0.005958   \n",
       "49       0.197982      0.023085         0.028607        0.010487   \n",
       "50       0.058184      0.006693         0.015094        0.001769   \n",
       "51       0.148813      0.022969         0.032423        0.001573   \n",
       "52       0.063370      0.006467         0.018700        0.002644   \n",
       "53       0.103452      0.005320         0.031260        0.001698   \n",
       "\n",
       "   param_nb__alpha param_tfidf__max_df param_tfidf__min_df  \\\n",
       "0              0.1                 0.5                   1   \n",
       "1              0.1                 0.5                   1   \n",
       "2              0.1                 0.5                   2   \n",
       "3              0.1                 0.5                   2   \n",
       "4              0.1                 0.5                   5   \n",
       "5              0.1                 0.5                   5   \n",
       "6              0.1                0.75                   1   \n",
       "7              0.1                0.75                   1   \n",
       "8              0.1                0.75                   2   \n",
       "9              0.1                0.75                   2   \n",
       "10             0.1                0.75                   5   \n",
       "11             0.1                0.75                   5   \n",
       "12             0.1                 1.0                   1   \n",
       "13             0.1                 1.0                   1   \n",
       "14             0.1                 1.0                   2   \n",
       "15             0.1                 1.0                   2   \n",
       "16             0.1                 1.0                   5   \n",
       "17             0.1                 1.0                   5   \n",
       "18             0.5                 0.5                   1   \n",
       "19             0.5                 0.5                   1   \n",
       "20             0.5                 0.5                   2   \n",
       "21             0.5                 0.5                   2   \n",
       "22             0.5                 0.5                   5   \n",
       "23             0.5                 0.5                   5   \n",
       "24             0.5                0.75                   1   \n",
       "25             0.5                0.75                   1   \n",
       "26             0.5                0.75                   2   \n",
       "27             0.5                0.75                   2   \n",
       "28             0.5                0.75                   5   \n",
       "29             0.5                0.75                   5   \n",
       "30             0.5                 1.0                   1   \n",
       "31             0.5                 1.0                   1   \n",
       "32             0.5                 1.0                   2   \n",
       "33             0.5                 1.0                   2   \n",
       "34             0.5                 1.0                   5   \n",
       "35             0.5                 1.0                   5   \n",
       "36             1.0                 0.5                   1   \n",
       "37             1.0                 0.5                   1   \n",
       "38             1.0                 0.5                   2   \n",
       "39             1.0                 0.5                   2   \n",
       "40             1.0                 0.5                   5   \n",
       "41             1.0                 0.5                   5   \n",
       "42             1.0                0.75                   1   \n",
       "43             1.0                0.75                   1   \n",
       "44             1.0                0.75                   2   \n",
       "45             1.0                0.75                   2   \n",
       "46             1.0                0.75                   5   \n",
       "47             1.0                0.75                   5   \n",
       "48             1.0                 1.0                   1   \n",
       "49             1.0                 1.0                   1   \n",
       "50             1.0                 1.0                   2   \n",
       "51             1.0                 1.0                   2   \n",
       "52             1.0                 1.0                   5   \n",
       "53             1.0                 1.0                   5   \n",
       "\n",
       "   param_tfidf__ngram_range  \\\n",
       "0                    (1, 1)   \n",
       "1                    (1, 2)   \n",
       "2                    (1, 1)   \n",
       "3                    (1, 2)   \n",
       "4                    (1, 1)   \n",
       "5                    (1, 2)   \n",
       "6                    (1, 1)   \n",
       "7                    (1, 2)   \n",
       "8                    (1, 1)   \n",
       "9                    (1, 2)   \n",
       "10                   (1, 1)   \n",
       "11                   (1, 2)   \n",
       "12                   (1, 1)   \n",
       "13                   (1, 2)   \n",
       "14                   (1, 1)   \n",
       "15                   (1, 2)   \n",
       "16                   (1, 1)   \n",
       "17                   (1, 2)   \n",
       "18                   (1, 1)   \n",
       "19                   (1, 2)   \n",
       "20                   (1, 1)   \n",
       "21                   (1, 2)   \n",
       "22                   (1, 1)   \n",
       "23                   (1, 2)   \n",
       "24                   (1, 1)   \n",
       "25                   (1, 2)   \n",
       "26                   (1, 1)   \n",
       "27                   (1, 2)   \n",
       "28                   (1, 1)   \n",
       "29                   (1, 2)   \n",
       "30                   (1, 1)   \n",
       "31                   (1, 2)   \n",
       "32                   (1, 1)   \n",
       "33                   (1, 2)   \n",
       "34                   (1, 1)   \n",
       "35                   (1, 2)   \n",
       "36                   (1, 1)   \n",
       "37                   (1, 2)   \n",
       "38                   (1, 1)   \n",
       "39                   (1, 2)   \n",
       "40                   (1, 1)   \n",
       "41                   (1, 2)   \n",
       "42                   (1, 1)   \n",
       "43                   (1, 2)   \n",
       "44                   (1, 1)   \n",
       "45                   (1, 2)   \n",
       "46                   (1, 1)   \n",
       "47                   (1, 2)   \n",
       "48                   (1, 1)   \n",
       "49                   (1, 2)   \n",
       "50                   (1, 1)   \n",
       "51                   (1, 2)   \n",
       "52                   (1, 1)   \n",
       "53                   (1, 2)   \n",
       "\n",
       "                                               params  split0_test_score  \\\n",
       "0   {'nb__alpha': 0.1, 'tfidf__max_df': 0.5, 'tfid...           0.843885   \n",
       "1   {'nb__alpha': 0.1, 'tfidf__max_df': 0.5, 'tfid...           0.850360   \n",
       "2   {'nb__alpha': 0.1, 'tfidf__max_df': 0.5, 'tfid...           0.818705   \n",
       "3   {'nb__alpha': 0.1, 'tfidf__max_df': 0.5, 'tfid...           0.820144   \n",
       "4   {'nb__alpha': 0.1, 'tfidf__max_df': 0.5, 'tfid...           0.792086   \n",
       "5   {'nb__alpha': 0.1, 'tfidf__max_df': 0.5, 'tfid...           0.789209   \n",
       "6   {'nb__alpha': 0.1, 'tfidf__max_df': 0.75, 'tfi...           0.843885   \n",
       "7   {'nb__alpha': 0.1, 'tfidf__max_df': 0.75, 'tfi...           0.850360   \n",
       "8   {'nb__alpha': 0.1, 'tfidf__max_df': 0.75, 'tfi...           0.818705   \n",
       "9   {'nb__alpha': 0.1, 'tfidf__max_df': 0.75, 'tfi...           0.820144   \n",
       "10  {'nb__alpha': 0.1, 'tfidf__max_df': 0.75, 'tfi...           0.792086   \n",
       "11  {'nb__alpha': 0.1, 'tfidf__max_df': 0.75, 'tfi...           0.789209   \n",
       "12  {'nb__alpha': 0.1, 'tfidf__max_df': 1.0, 'tfid...           0.843885   \n",
       "13  {'nb__alpha': 0.1, 'tfidf__max_df': 1.0, 'tfid...           0.850360   \n",
       "14  {'nb__alpha': 0.1, 'tfidf__max_df': 1.0, 'tfid...           0.818705   \n",
       "15  {'nb__alpha': 0.1, 'tfidf__max_df': 1.0, 'tfid...           0.820144   \n",
       "16  {'nb__alpha': 0.1, 'tfidf__max_df': 1.0, 'tfid...           0.792086   \n",
       "17  {'nb__alpha': 0.1, 'tfidf__max_df': 1.0, 'tfid...           0.789209   \n",
       "18  {'nb__alpha': 0.5, 'tfidf__max_df': 0.5, 'tfid...           0.835252   \n",
       "19  {'nb__alpha': 0.5, 'tfidf__max_df': 0.5, 'tfid...           0.850360   \n",
       "20  {'nb__alpha': 0.5, 'tfidf__max_df': 0.5, 'tfid...           0.820863   \n",
       "21  {'nb__alpha': 0.5, 'tfidf__max_df': 0.5, 'tfid...           0.807194   \n",
       "22  {'nb__alpha': 0.5, 'tfidf__max_df': 0.5, 'tfid...           0.791367   \n",
       "23  {'nb__alpha': 0.5, 'tfidf__max_df': 0.5, 'tfid...           0.794245   \n",
       "24  {'nb__alpha': 0.5, 'tfidf__max_df': 0.75, 'tfi...           0.835252   \n",
       "25  {'nb__alpha': 0.5, 'tfidf__max_df': 0.75, 'tfi...           0.850360   \n",
       "26  {'nb__alpha': 0.5, 'tfidf__max_df': 0.75, 'tfi...           0.820863   \n",
       "27  {'nb__alpha': 0.5, 'tfidf__max_df': 0.75, 'tfi...           0.807194   \n",
       "28  {'nb__alpha': 0.5, 'tfidf__max_df': 0.75, 'tfi...           0.791367   \n",
       "29  {'nb__alpha': 0.5, 'tfidf__max_df': 0.75, 'tfi...           0.794245   \n",
       "30  {'nb__alpha': 0.5, 'tfidf__max_df': 1.0, 'tfid...           0.835252   \n",
       "31  {'nb__alpha': 0.5, 'tfidf__max_df': 1.0, 'tfid...           0.850360   \n",
       "32  {'nb__alpha': 0.5, 'tfidf__max_df': 1.0, 'tfid...           0.820863   \n",
       "33  {'nb__alpha': 0.5, 'tfidf__max_df': 1.0, 'tfid...           0.807194   \n",
       "34  {'nb__alpha': 0.5, 'tfidf__max_df': 1.0, 'tfid...           0.791367   \n",
       "35  {'nb__alpha': 0.5, 'tfidf__max_df': 1.0, 'tfid...           0.794245   \n",
       "36  {'nb__alpha': 1.0, 'tfidf__max_df': 0.5, 'tfid...           0.827338   \n",
       "37  {'nb__alpha': 1.0, 'tfidf__max_df': 0.5, 'tfid...           0.843885   \n",
       "38  {'nb__alpha': 1.0, 'tfidf__max_df': 0.5, 'tfid...           0.813669   \n",
       "39  {'nb__alpha': 1.0, 'tfidf__max_df': 0.5, 'tfid...           0.807194   \n",
       "40  {'nb__alpha': 1.0, 'tfidf__max_df': 0.5, 'tfid...           0.791367   \n",
       "41  {'nb__alpha': 1.0, 'tfidf__max_df': 0.5, 'tfid...           0.794245   \n",
       "42  {'nb__alpha': 1.0, 'tfidf__max_df': 0.75, 'tfi...           0.827338   \n",
       "43  {'nb__alpha': 1.0, 'tfidf__max_df': 0.75, 'tfi...           0.843885   \n",
       "44  {'nb__alpha': 1.0, 'tfidf__max_df': 0.75, 'tfi...           0.813669   \n",
       "45  {'nb__alpha': 1.0, 'tfidf__max_df': 0.75, 'tfi...           0.807194   \n",
       "46  {'nb__alpha': 1.0, 'tfidf__max_df': 0.75, 'tfi...           0.791367   \n",
       "47  {'nb__alpha': 1.0, 'tfidf__max_df': 0.75, 'tfi...           0.794245   \n",
       "48  {'nb__alpha': 1.0, 'tfidf__max_df': 1.0, 'tfid...           0.827338   \n",
       "49  {'nb__alpha': 1.0, 'tfidf__max_df': 1.0, 'tfid...           0.843885   \n",
       "50  {'nb__alpha': 1.0, 'tfidf__max_df': 1.0, 'tfid...           0.813669   \n",
       "51  {'nb__alpha': 1.0, 'tfidf__max_df': 1.0, 'tfid...           0.807194   \n",
       "52  {'nb__alpha': 1.0, 'tfidf__max_df': 1.0, 'tfid...           0.791367   \n",
       "53  {'nb__alpha': 1.0, 'tfidf__max_df': 1.0, 'tfid...           0.794245   \n",
       "\n",
       "    split1_test_score  split2_test_score  split3_test_score  \\\n",
       "0            0.843165           0.832973           0.830094   \n",
       "1            0.841727           0.842333           0.847372   \n",
       "2            0.808633           0.811375           0.816415   \n",
       "3            0.815108           0.816415           0.824334   \n",
       "4            0.811511           0.785457           0.791937   \n",
       "5            0.802878           0.786177           0.798416   \n",
       "6            0.843165           0.832973           0.830094   \n",
       "7            0.841727           0.842333           0.847372   \n",
       "8            0.808633           0.811375           0.816415   \n",
       "9            0.815108           0.816415           0.824334   \n",
       "10           0.811511           0.785457           0.791937   \n",
       "11           0.802878           0.786177           0.798416   \n",
       "12           0.843165           0.832973           0.830094   \n",
       "13           0.841727           0.842333           0.847372   \n",
       "14           0.808633           0.811375           0.816415   \n",
       "15           0.815108           0.816415           0.824334   \n",
       "16           0.811511           0.785457           0.791937   \n",
       "17           0.802878           0.786177           0.798416   \n",
       "18           0.838849           0.832253           0.827214   \n",
       "19           0.845324           0.846652           0.841613   \n",
       "20           0.812230           0.815695           0.817135   \n",
       "21           0.812230           0.819294           0.814255   \n",
       "22           0.808633           0.787617           0.789057   \n",
       "23           0.805036           0.786177           0.800576   \n",
       "24           0.838849           0.832253           0.827214   \n",
       "25           0.845324           0.846652           0.841613   \n",
       "26           0.812230           0.815695           0.817135   \n",
       "27           0.812230           0.819294           0.814255   \n",
       "28           0.808633           0.787617           0.789057   \n",
       "29           0.805036           0.786177           0.800576   \n",
       "30           0.838849           0.832253           0.827214   \n",
       "31           0.845324           0.846652           0.841613   \n",
       "32           0.812230           0.815695           0.817135   \n",
       "33           0.812230           0.819294           0.814255   \n",
       "34           0.808633           0.787617           0.789057   \n",
       "35           0.805036           0.786177           0.800576   \n",
       "36           0.830935           0.829374           0.826494   \n",
       "37           0.843165           0.843053           0.837293   \n",
       "38           0.810791           0.816415           0.814975   \n",
       "39           0.812230           0.815695           0.814975   \n",
       "40           0.807914           0.785457           0.792657   \n",
       "41           0.802158           0.789057           0.798416   \n",
       "42           0.830935           0.829374           0.826494   \n",
       "43           0.843165           0.843053           0.837293   \n",
       "44           0.810791           0.816415           0.814975   \n",
       "45           0.812230           0.815695           0.814975   \n",
       "46           0.807914           0.785457           0.792657   \n",
       "47           0.802158           0.789057           0.798416   \n",
       "48           0.830935           0.829374           0.826494   \n",
       "49           0.843165           0.843053           0.837293   \n",
       "50           0.810791           0.816415           0.814975   \n",
       "51           0.812230           0.815695           0.814975   \n",
       "52           0.807914           0.785457           0.792657   \n",
       "53           0.802158           0.789057           0.798416   \n",
       "\n",
       "    split4_test_score  mean_test_score  std_test_score  rank_test_score  \n",
       "0            0.835853         0.837194        0.005486               10  \n",
       "1            0.839453         0.844249        0.004003                1  \n",
       "2            0.825774         0.816180        0.005975               28  \n",
       "3            0.825774         0.820355        0.004202               19  \n",
       "4            0.801296         0.796457        0.009062               40  \n",
       "5            0.794816         0.794299        0.006045               52  \n",
       "6            0.835853         0.837194        0.005486               10  \n",
       "7            0.839453         0.844249        0.004003                1  \n",
       "8            0.825774         0.816180        0.005975               28  \n",
       "9            0.825774         0.820355        0.004202               19  \n",
       "10           0.801296         0.796457        0.009062               40  \n",
       "11           0.794816         0.794299        0.006045               52  \n",
       "12           0.835853         0.837194        0.005486               10  \n",
       "13           0.839453         0.844249        0.004003                1  \n",
       "14           0.825774         0.816180        0.005975               28  \n",
       "15           0.825774         0.820355        0.004202               19  \n",
       "16           0.801296         0.796457        0.009062               40  \n",
       "17           0.794816         0.794299        0.006045               52  \n",
       "18           0.828654         0.832444        0.004258               13  \n",
       "19           0.833693         0.843528        0.005658                4  \n",
       "20           0.820734         0.817331        0.003249               22  \n",
       "21           0.828654         0.816325        0.007283               25  \n",
       "22           0.798416         0.795018        0.007753               49  \n",
       "23           0.798416         0.796890        0.006388               37  \n",
       "24           0.828654         0.832444        0.004258               13  \n",
       "25           0.833693         0.843528        0.005658                4  \n",
       "26           0.820734         0.817331        0.003249               22  \n",
       "27           0.828654         0.816325        0.007283               25  \n",
       "28           0.798416         0.795018        0.007753               49  \n",
       "29           0.798416         0.796890        0.006388               37  \n",
       "30           0.828654         0.832444        0.004258               13  \n",
       "31           0.833693         0.843528        0.005658                4  \n",
       "32           0.820734         0.817331        0.003249               22  \n",
       "33           0.828654         0.816325        0.007283               25  \n",
       "34           0.798416         0.795018        0.007753               49  \n",
       "35           0.798416         0.796890        0.006388               37  \n",
       "36           0.822174         0.827263        0.002981               16  \n",
       "37           0.831533         0.839786        0.004758                7  \n",
       "38           0.818575         0.814885        0.002615               31  \n",
       "39           0.822894         0.814598        0.005111               34  \n",
       "40           0.797696         0.795018        0.007534               46  \n",
       "41           0.797696         0.796314        0.004414               43  \n",
       "42           0.822174         0.827263        0.002981               16  \n",
       "43           0.831533         0.839786        0.004758                7  \n",
       "44           0.818575         0.814885        0.002615               31  \n",
       "45           0.822894         0.814598        0.005111               34  \n",
       "46           0.797696         0.795018        0.007534               46  \n",
       "47           0.797696         0.796314        0.004414               43  \n",
       "48           0.822174         0.827263        0.002981               16  \n",
       "49           0.831533         0.839786        0.004758                7  \n",
       "50           0.818575         0.814885        0.002615               31  \n",
       "51           0.822894         0.814598        0.005111               34  \n",
       "52           0.797696         0.795018        0.007534               46  \n",
       "53           0.797696         0.796314        0.004414               43  "
      ]
     },
     "execution_count": 349,
     "metadata": {},
     "output_type": "execute_result"
    }
   ],
   "source": [
    "pd.DataFrame(grid_search.cv_results_)"
   ]
  },
  {
   "cell_type": "markdown",
   "metadata": {},
   "source": [
    "best hyperparameters"
   ]
  },
  {
   "cell_type": "code",
   "execution_count": 350,
   "metadata": {},
   "outputs": [
    {
     "data": {
      "text/plain": [
       "{'nb__alpha': 0.1,\n",
       " 'tfidf__max_df': 0.5,\n",
       " 'tfidf__min_df': 1,\n",
       " 'tfidf__ngram_range': (1, 2)}"
      ]
     },
     "execution_count": 350,
     "metadata": {},
     "output_type": "execute_result"
    }
   ],
   "source": [
    "best_params = grid_search.best_params_\n",
    "best_params"
   ]
  },
  {
   "cell_type": "markdown",
   "metadata": {},
   "source": [
    "best score"
   ]
  },
  {
   "cell_type": "code",
   "execution_count": 351,
   "metadata": {},
   "outputs": [
    {
     "data": {
      "text/plain": [
       "84.4248799664372"
      ]
     },
     "execution_count": 351,
     "metadata": {},
     "output_type": "execute_result"
    }
   ],
   "source": [
    "best_score = grid_search.best_score_*100\n",
    "best_score"
   ]
  },
  {
   "cell_type": "markdown",
   "metadata": {},
   "source": [
    "# Model Training machine learning"
   ]
  },
  {
   "cell_type": "code",
   "execution_count": 352,
   "metadata": {},
   "outputs": [],
   "source": [
    "from sklearn.naive_bayes import MultinomialNB"
   ]
  },
  {
   "cell_type": "code",
   "execution_count": 353,
   "metadata": {},
   "outputs": [],
   "source": [
    "model_nb = Pipeline([\n",
    "    (\n",
    "        'tfidf', TfidfVectorizer(ngram_range=grid_search.best_params_['tfidf__ngram_range'],\n",
    "                              max_df=grid_search.best_params_['tfidf__max_df'],\n",
    "                              min_df=grid_search.best_params_['tfidf__min_df'])\n",
    "     ),\n",
    "\n",
    "    (\n",
    "        'nb', MultinomialNB(alpha=grid_search.best_params_['nb__alpha'])\n",
    "     )\n",
    "\n",
    "])"
   ]
  },
  {
   "cell_type": "code",
   "execution_count": 354,
   "metadata": {},
   "outputs": [
    {
     "data": {
      "text/html": [
       "<style>#sk-container-id-11 {color: black;}#sk-container-id-11 pre{padding: 0;}#sk-container-id-11 div.sk-toggleable {background-color: white;}#sk-container-id-11 label.sk-toggleable__label {cursor: pointer;display: block;width: 100%;margin-bottom: 0;padding: 0.3em;box-sizing: border-box;text-align: center;}#sk-container-id-11 label.sk-toggleable__label-arrow:before {content: \"▸\";float: left;margin-right: 0.25em;color: #696969;}#sk-container-id-11 label.sk-toggleable__label-arrow:hover:before {color: black;}#sk-container-id-11 div.sk-estimator:hover label.sk-toggleable__label-arrow:before {color: black;}#sk-container-id-11 div.sk-toggleable__content {max-height: 0;max-width: 0;overflow: hidden;text-align: left;background-color: #f0f8ff;}#sk-container-id-11 div.sk-toggleable__content pre {margin: 0.2em;color: black;border-radius: 0.25em;background-color: #f0f8ff;}#sk-container-id-11 input.sk-toggleable__control:checked~div.sk-toggleable__content {max-height: 200px;max-width: 100%;overflow: auto;}#sk-container-id-11 input.sk-toggleable__control:checked~label.sk-toggleable__label-arrow:before {content: \"▾\";}#sk-container-id-11 div.sk-estimator input.sk-toggleable__control:checked~label.sk-toggleable__label {background-color: #d4ebff;}#sk-container-id-11 div.sk-label input.sk-toggleable__control:checked~label.sk-toggleable__label {background-color: #d4ebff;}#sk-container-id-11 input.sk-hidden--visually {border: 0;clip: rect(1px 1px 1px 1px);clip: rect(1px, 1px, 1px, 1px);height: 1px;margin: -1px;overflow: hidden;padding: 0;position: absolute;width: 1px;}#sk-container-id-11 div.sk-estimator {font-family: monospace;background-color: #f0f8ff;border: 1px dotted black;border-radius: 0.25em;box-sizing: border-box;margin-bottom: 0.5em;}#sk-container-id-11 div.sk-estimator:hover {background-color: #d4ebff;}#sk-container-id-11 div.sk-parallel-item::after {content: \"\";width: 100%;border-bottom: 1px solid gray;flex-grow: 1;}#sk-container-id-11 div.sk-label:hover label.sk-toggleable__label {background-color: #d4ebff;}#sk-container-id-11 div.sk-serial::before {content: \"\";position: absolute;border-left: 1px solid gray;box-sizing: border-box;top: 0;bottom: 0;left: 50%;z-index: 0;}#sk-container-id-11 div.sk-serial {display: flex;flex-direction: column;align-items: center;background-color: white;padding-right: 0.2em;padding-left: 0.2em;position: relative;}#sk-container-id-11 div.sk-item {position: relative;z-index: 1;}#sk-container-id-11 div.sk-parallel {display: flex;align-items: stretch;justify-content: center;background-color: white;position: relative;}#sk-container-id-11 div.sk-item::before, #sk-container-id-11 div.sk-parallel-item::before {content: \"\";position: absolute;border-left: 1px solid gray;box-sizing: border-box;top: 0;bottom: 0;left: 50%;z-index: -1;}#sk-container-id-11 div.sk-parallel-item {display: flex;flex-direction: column;z-index: 1;position: relative;background-color: white;}#sk-container-id-11 div.sk-parallel-item:first-child::after {align-self: flex-end;width: 50%;}#sk-container-id-11 div.sk-parallel-item:last-child::after {align-self: flex-start;width: 50%;}#sk-container-id-11 div.sk-parallel-item:only-child::after {width: 0;}#sk-container-id-11 div.sk-dashed-wrapped {border: 1px dashed gray;margin: 0 0.4em 0.5em 0.4em;box-sizing: border-box;padding-bottom: 0.4em;background-color: white;}#sk-container-id-11 div.sk-label label {font-family: monospace;font-weight: bold;display: inline-block;line-height: 1.2em;}#sk-container-id-11 div.sk-label-container {text-align: center;}#sk-container-id-11 div.sk-container {/* jupyter's `normalize.less` sets `[hidden] { display: none; }` but bootstrap.min.css set `[hidden] { display: none !important; }` so we also need the `!important` here to be able to override the default hidden behavior on the sphinx rendered scikit-learn.org. See: https://github.com/scikit-learn/scikit-learn/issues/21755 */display: inline-block !important;position: relative;}#sk-container-id-11 div.sk-text-repr-fallback {display: none;}</style><div id=\"sk-container-id-11\" class=\"sk-top-container\"><div class=\"sk-text-repr-fallback\"><pre>Pipeline(steps=[(&#x27;tfidf&#x27;, TfidfVectorizer(max_df=0.5, ngram_range=(1, 2))),\n",
       "                (&#x27;nb&#x27;, MultinomialNB(alpha=0.1))])</pre><b>In a Jupyter environment, please rerun this cell to show the HTML representation or trust the notebook. <br />On GitHub, the HTML representation is unable to render, please try loading this page with nbviewer.org.</b></div><div class=\"sk-container\" hidden><div class=\"sk-item sk-dashed-wrapped\"><div class=\"sk-label-container\"><div class=\"sk-label sk-toggleable\"><input class=\"sk-toggleable__control sk-hidden--visually\" id=\"sk-estimator-id-35\" type=\"checkbox\" ><label for=\"sk-estimator-id-35\" class=\"sk-toggleable__label sk-toggleable__label-arrow\">Pipeline</label><div class=\"sk-toggleable__content\"><pre>Pipeline(steps=[(&#x27;tfidf&#x27;, TfidfVectorizer(max_df=0.5, ngram_range=(1, 2))),\n",
       "                (&#x27;nb&#x27;, MultinomialNB(alpha=0.1))])</pre></div></div></div><div class=\"sk-serial\"><div class=\"sk-item\"><div class=\"sk-estimator sk-toggleable\"><input class=\"sk-toggleable__control sk-hidden--visually\" id=\"sk-estimator-id-36\" type=\"checkbox\" ><label for=\"sk-estimator-id-36\" class=\"sk-toggleable__label sk-toggleable__label-arrow\">TfidfVectorizer</label><div class=\"sk-toggleable__content\"><pre>TfidfVectorizer(max_df=0.5, ngram_range=(1, 2))</pre></div></div></div><div class=\"sk-item\"><div class=\"sk-estimator sk-toggleable\"><input class=\"sk-toggleable__control sk-hidden--visually\" id=\"sk-estimator-id-37\" type=\"checkbox\" ><label for=\"sk-estimator-id-37\" class=\"sk-toggleable__label sk-toggleable__label-arrow\">MultinomialNB</label><div class=\"sk-toggleable__content\"><pre>MultinomialNB(alpha=0.1)</pre></div></div></div></div></div></div></div>"
      ],
      "text/plain": [
       "Pipeline(steps=[('tfidf', TfidfVectorizer(max_df=0.5, ngram_range=(1, 2))),\n",
       "                ('nb', MultinomialNB(alpha=0.1))])"
      ]
     },
     "execution_count": 354,
     "metadata": {},
     "output_type": "execute_result"
    }
   ],
   "source": [
    "model_nb.fit(X_train, y_train)"
   ]
  },
  {
   "cell_type": "markdown",
   "metadata": {},
   "source": [
    "# Model Evaluation"
   ]
  },
  {
   "cell_type": "code",
   "execution_count": 355,
   "metadata": {},
   "outputs": [],
   "source": [
    "from sklearn.metrics import accuracy_score, confusion_matrix, classification_report"
   ]
  },
  {
   "cell_type": "code",
   "execution_count": 356,
   "metadata": {},
   "outputs": [],
   "source": [
    "y_pred = model_nb.predict(X_val)"
   ]
  },
  {
   "cell_type": "markdown",
   "metadata": {},
   "source": [
    "accuracy score"
   ]
  },
  {
   "cell_type": "code",
   "execution_count": 357,
   "metadata": {},
   "outputs": [
    {
     "data": {
      "text/plain": [
       "85.60736902705814"
      ]
     },
     "execution_count": 357,
     "metadata": {},
     "output_type": "execute_result"
    }
   ],
   "source": [
    "accuracy = accuracy_score(y_val, y_pred)\n",
    "accuracy*100"
   ]
  },
  {
   "cell_type": "markdown",
   "metadata": {},
   "source": [
    "classification report"
   ]
  },
  {
   "cell_type": "code",
   "execution_count": 358,
   "metadata": {},
   "outputs": [
    {
     "name": "stdout",
     "output_type": "stream",
     "text": [
      "              precision    recall  f1-score   support\n",
      "\n",
      "           0       0.88      0.82      0.85       857\n",
      "           1       0.83      0.89      0.86       880\n",
      "\n",
      "    accuracy                           0.86      1737\n",
      "   macro avg       0.86      0.86      0.86      1737\n",
      "weighted avg       0.86      0.86      0.86      1737\n",
      "\n"
     ]
    }
   ],
   "source": [
    "print(classification_report(y_val, y_pred))"
   ]
  },
  {
   "cell_type": "markdown",
   "metadata": {},
   "source": [
    "confusion matrix"
   ]
  },
  {
   "cell_type": "code",
   "execution_count": 359,
   "metadata": {},
   "outputs": [
    {
     "data": {
      "text/plain": [
       "array([[700, 157],\n",
       "       [ 93, 787]], dtype=int64)"
      ]
     },
     "execution_count": 359,
     "metadata": {},
     "output_type": "execute_result"
    }
   ],
   "source": [
    "cm = confusion_matrix(y_val, y_pred)\n",
    "cm"
   ]
  },
  {
   "cell_type": "markdown",
   "metadata": {},
   "source": [
    "plot heatmap for confusion matrix"
   ]
  },
  {
   "cell_type": "code",
   "execution_count": 360,
   "metadata": {},
   "outputs": [
    {
     "data": {
      "image/png": "[encoded data removed]",
      "text/plain": [
       "<Figure size 1000x800 with 2 Axes>"
      ]
     },
     "metadata": {},
     "output_type": "display_data"
    }
   ],
   "source": [
    "plt.figure(figsize=(10,8))\n",
    "labels = ['Not Disaster', 'Disaster']\n",
    "sns.heatmap(cm,\n",
    "            xticklabels=labels, \n",
    "            yticklabels=labels,\n",
    "            annot= True,\n",
    "            cmap= 'Blues',\n",
    "            fmt= 'g')\n",
    "plt.show()"
   ]
  },
  {
   "cell_type": "markdown",
   "metadata": {},
   "source": [
    "# Save Model Naive bayes"
   ]
  },
  {
   "cell_type": "code",
   "execution_count": 361,
   "metadata": {},
   "outputs": [],
   "source": [
    "import joblib"
   ]
  },
  {
   "cell_type": "code",
   "execution_count": 362,
   "metadata": {},
   "outputs": [
    {
     "data": {
      "text/plain": [
       "['model_nb.pkl']"
      ]
     },
     "execution_count": 362,
     "metadata": {},
     "output_type": "execute_result"
    }
   ],
   "source": [
    "joblib.dump(model_nb, 'model_nb.pkl')"
   ]
  },
  {
   "cell_type": "markdown",
   "metadata": {},
   "source": [
    "# pretrained model using API"
   ]
  },
  {
   "cell_type": "code",
   "execution_count": 363,
   "metadata": {},
   "outputs": [],
   "source": [
    "import requests"
   ]
  },
  {
   "cell_type": "markdown",
   "metadata": {},
   "source": [
    "https://huggingface.co/distilbert-base-uncased-finetuned-sst-2-english?text=I+like+you.++good\n",
    "\n",
    "https://huggingface.co/lxyuan/distilbert-base-multilingual-cased-sentiments-student?text=this+is+bad"
   ]
  },
  {
   "cell_type": "code",
   "execution_count": 364,
   "metadata": {},
   "outputs": [],
   "source": [
    "API_TOKEN = \"your_key\"\n",
    "model_url = \"distilbert-base-uncased-finetuned-sst-2-english\"\n",
    "# model_url = \"lxyuan/distilbert-base-multilingual-cased-sentiments-student\""
   ]
  },
  {
   "cell_type": "code",
   "execution_count": 365,
   "metadata": {},
   "outputs": [],
   "source": [
    "def query(prompt, model_url):\n",
    "    API_URL = f\"https://api-inference.huggingface.co/models/{model_url}\"\n",
    "    headers = {\"Authorization\": f\"Bearer {API_TOKEN}\"}\n",
    "    payload = {\"inputs\": prompt}\n",
    "    response = requests.post(API_URL, \n",
    "                             headers=headers, \n",
    "                             json=payload)\n",
    "\n",
    "    label = response.json()[0][0]['label']\n",
    "    score = response.json()[0][0]['score']\n",
    "    return label, score"
   ]
  },
  {
   "cell_type": "code",
   "execution_count": 366,
   "metadata": {},
   "outputs": [],
   "source": [
    "# response = [[{'label': 'POSITIVE', 'score': 0.9998738765716553},\n",
    "#   {'label': 'NEGATIVE', 'score': 0.00012611268903128803}]]\n",
    "\n",
    "# label = x[0][0]['label']\n",
    "# score = x[0][0]['score']"
   ]
  },
  {
   "cell_type": "markdown",
   "metadata": {},
   "source": [
    "# Load pretrainded model "
   ]
  },
  {
   "cell_type": "code",
   "execution_count": null,
   "metadata": {},
   "outputs": [],
   "source": [
    "import torch\n",
    "from transformers import DistilBertTokenizer, DistilBertForSequenceClassification\n",
    "from sklearn.model_selection import train_test_split\n",
    "from sklearn.metrics import accuracy_score, precision_score, recall_score"
   ]
  },
  {
   "cell_type": "code",
   "execution_count": null,
   "metadata": {},
   "outputs": [],
   "source": []
  },
  {
   "cell_type": "code",
   "execution_count": null,
   "metadata": {},
   "outputs": [],
   "source": []
  },
  {
   "cell_type": "code",
   "execution_count": null,
   "metadata": {},
   "outputs": [],
   "source": []
  },
  {
   "cell_type": "markdown",
   "metadata": {},
   "source": [
    "# Deep learning using LSTM model"
   ]
  },
  {
   "cell_type": "code",
   "execution_count": 367,
   "metadata": {},
   "outputs": [],
   "source": [
    "from tensorflow.keras.preprocessing.text import Tokenizer\n",
    "from tensorflow.keras.preprocessing.sequence import pad_sequences\n",
    "from tensorflow.keras import models, layers, optimizers, losses\n"
   ]
  },
  {
   "cell_type": "markdown",
   "metadata": {},
   "source": [
    "preprocessing data"
   ]
  },
  {
   "cell_type": "code",
   "execution_count": 368,
   "metadata": {},
   "outputs": [],
   "source": [
    "def preprocess_for_lstm(x_train, x_val, max_words=5000, max_len=100):\n",
    "    \"\"\"\n",
    "    Preprocess text data for LSTM model.\n",
    "\n",
    "    Parameters:\n",
    "    - x_train: Training text data\n",
    "    - x_val: Testing text data\n",
    "    - max_words: Maximum number of words to be used in tokenization\n",
    "    - max_len: Maximum length of sequences after padding\n",
    "\n",
    "    Returns:\n",
    "    - Tuple of preprocessed training and testing data (x_train_pad, x_test_pad, tokenizer)\n",
    "    \"\"\"\n",
    "\n",
    "    # Tokenize the text data for  pass them to LSTM model\n",
    "    tokenizer = Tokenizer(num_words=max_words)\n",
    "    tokenizer.fit_on_texts(x_train)\n",
    "    total_words = len(tokenizer.word_index) + 1\n",
    "\n",
    "    # Convert text to sequences and pad them\n",
    "    x_train_seq = tokenizer.texts_to_sequences(x_train)\n",
    "    x_val_seq = tokenizer.texts_to_sequences(x_val)\n",
    "\n",
    "    x_train_pad = pad_sequences(x_train_seq, maxlen=max_len)\n",
    "    x_val_pad = pad_sequences(x_val_seq, maxlen=max_len)\n",
    "\n",
    "    return x_train_pad, x_val_pad, tokenizer, total_words\n",
    "\n",
    "x_train_pad, x_val_pad, tokenizer, total_words = preprocess_for_lstm(X_train, X_val)\n"
   ]
  },
  {
   "cell_type": "markdown",
   "metadata": {},
   "source": [
    "Build LSTM Model"
   ]
  },
  {
   "cell_type": "code",
   "execution_count": 369,
   "metadata": {},
   "outputs": [
    {
     "name": "stdout",
     "output_type": "stream",
     "text": [
      "Model: \"sequential_13\"\n",
      "_________________________________________________________________\n",
      " Layer (type)                Output Shape              Param #   \n",
      "=================================================================\n",
      " embedding_9 (Embedding)     (None, None, 64)          747648    \n",
      "                                                                 \n",
      " lstm_9 (LSTM)               (None, 100)               66000     \n",
      "                                                                 \n",
      " dropout_9 (Dropout)         (None, 100)               0         \n",
      "                                                                 \n",
      " flatten_9 (Flatten)         (None, 100)               0         \n",
      "                                                                 \n",
      " dense_9 (Dense)             (None, 1)                 101       \n",
      "                                                                 \n",
      "=================================================================\n",
      "Total params: 813749 (3.10 MB)\n",
      "Trainable params: 813749 (3.10 MB)\n",
      "Non-trainable params: 0 (0.00 Byte)\n",
      "_________________________________________________________________\n"
     ]
    }
   ],
   "source": [
    "model_lstm = models.Sequential()\n",
    "model_lstm.add(layers.Embedding(total_words,\n",
    "                                output_dim=64))\n",
    "model_lstm.add(layers.LSTM(100))\n",
    "model_lstm.add(layers.Dropout(0.2))\n",
    "model_lstm.add(layers.Flatten())\n",
    "model_lstm.add(layers.Dense(1, activation='sigmoid'))\n",
    "\n",
    "model_lstm.compile(optimizer= optimizers.Adam(),\n",
    "                   loss= losses.binary_crossentropy,\n",
    "                   metrics=['accuracy'])\n",
    "model_lstm.summary()"
   ]
  },
  {
   "cell_type": "markdown",
   "metadata": {},
   "source": [
    "Train LSTM model"
   ]
  },
  {
   "cell_type": "code",
   "execution_count": 370,
   "metadata": {},
   "outputs": [
    {
     "name": "stdout",
     "output_type": "stream",
     "text": [
      "Epoch 1/5\n"
     ]
    },
    {
     "name": "stdout",
     "output_type": "stream",
     "text": [
      "218/218 [==============================] - 17s 68ms/step - loss: 0.4937 - accuracy: 0.7554 - val_loss: 0.3890 - val_accuracy: 0.8267\n",
      "Epoch 2/5\n",
      "218/218 [==============================] - 14s 66ms/step - loss: 0.2791 - accuracy: 0.8894 - val_loss: 0.3660 - val_accuracy: 0.8446\n",
      "Epoch 3/5\n",
      "218/218 [==============================] - 15s 67ms/step - loss: 0.1979 - accuracy: 0.9269 - val_loss: 0.3905 - val_accuracy: 0.8538\n",
      "Epoch 4/5\n",
      "218/218 [==============================] - 15s 68ms/step - loss: 0.1556 - accuracy: 0.9457 - val_loss: 0.3981 - val_accuracy: 0.8561\n",
      "Epoch 5/5\n",
      "218/218 [==============================] - 15s 68ms/step - loss: 0.1286 - accuracy: 0.9535 - val_loss: 0.4509 - val_accuracy: 0.8538\n"
     ]
    },
    {
     "data": {
      "text/plain": [
       "<keras.src.callbacks.History at 0x21429afd290>"
      ]
     },
     "execution_count": 370,
     "metadata": {},
     "output_type": "execute_result"
    }
   ],
   "source": [
    "model_lstm.fit(x_train_pad,\n",
    "               y_train,\n",
    "               validation_data=(x_val_pad, y_val), \n",
    "               epochs=5, \n",
    "               batch_size=32)"
   ]
  },
  {
   "cell_type": "markdown",
   "metadata": {},
   "source": [
    "Evaluate LSTM model "
   ]
  },
  {
   "cell_type": "code",
   "execution_count": 371,
   "metadata": {},
   "outputs": [],
   "source": [
    "from sklearn.metrics import accuracy_score, classification_report, confusion_matrix, ConfusionMatrixDisplay"
   ]
  },
  {
   "cell_type": "code",
   "execution_count": 372,
   "metadata": {},
   "outputs": [
    {
     "name": "stdout",
     "output_type": "stream",
     "text": [
      "55/55 [==============================] - 2s 18ms/step\n"
     ]
    },
    {
     "data": {
      "text/plain": [
       "array([[0.9998726 ],\n",
       "       [0.05751383],\n",
       "       [0.999997  ],\n",
       "       ...,\n",
       "       [0.7026033 ],\n",
       "       [0.01370114],\n",
       "       [0.9999937 ]], dtype=float32)"
      ]
     },
     "execution_count": 372,
     "metadata": {},
     "output_type": "execute_result"
    }
   ],
   "source": [
    "y_pred_lstm= model_lstm.predict(x_val_pad)\n",
    "y_pred_lstm"
   ]
  },
  {
   "cell_type": "code",
   "execution_count": 373,
   "metadata": {},
   "outputs": [],
   "source": [
    "import numpy as np"
   ]
  },
  {
   "cell_type": "code",
   "execution_count": 374,
   "metadata": {},
   "outputs": [
    {
     "data": {
      "text/plain": [
       "array([[1.],\n",
       "       [0.],\n",
       "       [1.],\n",
       "       ...,\n",
       "       [1.],\n",
       "       [0.],\n",
       "       [1.]], dtype=float32)"
      ]
     },
     "execution_count": 374,
     "metadata": {},
     "output_type": "execute_result"
    }
   ],
   "source": [
    "y_pred_lstm = np.round(y_pred_lstm)\n",
    "y_pred_lstm"
   ]
  },
  {
   "cell_type": "code",
   "execution_count": 375,
   "metadata": {},
   "outputs": [
    {
     "name": "stdout",
     "output_type": "stream",
     "text": [
      "LSTM Model Accuracy: 85.38%\n"
     ]
    }
   ],
   "source": [
    "accuracy_lstm = accuracy_score(y_val, y_pred_lstm)\n",
    "print(f\"LSTM Model Accuracy: {accuracy_lstm*100:.2f}%\")"
   ]
  },
  {
   "cell_type": "code",
   "execution_count": 376,
   "metadata": {},
   "outputs": [
    {
     "name": "stdout",
     "output_type": "stream",
     "text": [
      "              precision    recall  f1-score   support\n",
      "\n",
      "           0       0.86      0.84      0.85       857\n",
      "           1       0.85      0.87      0.86       880\n",
      "\n",
      "    accuracy                           0.85      1737\n",
      "   macro avg       0.85      0.85      0.85      1737\n",
      "weighted avg       0.85      0.85      0.85      1737\n",
      "\n"
     ]
    }
   ],
   "source": [
    "cr = classification_report(y_val, np.round(y_pred_lstm))\n",
    "print(cr)"
   ]
  },
  {
   "cell_type": "code",
   "execution_count": 377,
   "metadata": {},
   "outputs": [
    {
     "data": {
      "text/plain": [
       "<sklearn.metrics._plot.confusion_matrix.ConfusionMatrixDisplay at 0x214241cbcd0>"
      ]
     },
     "execution_count": 377,
     "metadata": {},
     "output_type": "execute_result"
    },
    {
     "data": {
      "image/png": "[encoded data removed]",
      "text/plain": [
       "<Figure size 640x480 with 2 Axes>"
      ]
     },
     "metadata": {},
     "output_type": "display_data"
    }
   ],
   "source": [
    "cm = confusion_matrix(y_val, np.round(y_pred_lstm))\n",
    "cmd = ConfusionMatrixDisplay(cm)\n",
    "cmd.plot()"
   ]
  },
  {
   "cell_type": "markdown",
   "metadata": {},
   "source": [
    "Save LSTM model "
   ]
  },
  {
   "cell_type": "code",
   "execution_count": 378,
   "metadata": {},
   "outputs": [
    {
     "name": "stderr",
     "output_type": "stream",
     "text": [
      "c:\\Users\\CENTER_ELRahama\\AppData\\Local\\Programs\\Python\\Python311\\Lib\\site-packages\\keras\\src\\engine\\training.py:3103: UserWarning: You are saving your model as an HDF5 file via `model.save()`. This file format is considered legacy. We recommend using instead the native Keras format, e.g. `model.save('my_model.keras')`.\n",
      "  saving_api.save_model(\n"
     ]
    }
   ],
   "source": [
    "model_lstm.save(\"model_lstm.h5\")"
   ]
  },
  {
   "cell_type": "markdown",
   "metadata": {},
   "source": [
    "# Test new data"
   ]
  },
  {
   "cell_type": "markdown",
   "metadata": {},
   "source": [
    "load data"
   ]
  },
  {
   "cell_type": "code",
   "execution_count": 379,
   "metadata": {},
   "outputs": [
    {
     "data": {
      "text/html": [
       "<div>\n",
       "<style scoped>\n",
       "    .dataframe tbody tr th:only-of-type {\n",
       "        vertical-align: middle;\n",
       "    }\n",
       "\n",
       "    .dataframe tbody tr th {\n",
       "        vertical-align: top;\n",
       "    }\n",
       "\n",
       "    .dataframe thead th {\n",
       "        text-align: right;\n",
       "    }\n",
       "</style>\n",
       "<table border=\"1\" class=\"dataframe\">\n",
       "  <thead>\n",
       "    <tr style=\"text-align: right;\">\n",
       "      <th></th>\n",
       "      <th>id</th>\n",
       "      <th>keyword</th>\n",
       "      <th>location</th>\n",
       "      <th>text</th>\n",
       "    </tr>\n",
       "  </thead>\n",
       "  <tbody>\n",
       "    <tr>\n",
       "      <th>0</th>\n",
       "      <td>0</td>\n",
       "      <td>NaN</td>\n",
       "      <td>NaN</td>\n",
       "      <td>Just happened a terrible car crash</td>\n",
       "    </tr>\n",
       "    <tr>\n",
       "      <th>1</th>\n",
       "      <td>2</td>\n",
       "      <td>NaN</td>\n",
       "      <td>NaN</td>\n",
       "      <td>Heard about #earthquake is different cities, s...</td>\n",
       "    </tr>\n",
       "    <tr>\n",
       "      <th>2</th>\n",
       "      <td>3</td>\n",
       "      <td>NaN</td>\n",
       "      <td>NaN</td>\n",
       "      <td>there is a forest fire at spot pond, geese are...</td>\n",
       "    </tr>\n",
       "    <tr>\n",
       "      <th>3</th>\n",
       "      <td>9</td>\n",
       "      <td>NaN</td>\n",
       "      <td>NaN</td>\n",
       "      <td>Apocalypse lighting. #Spokane #wildfires</td>\n",
       "    </tr>\n",
       "    <tr>\n",
       "      <th>4</th>\n",
       "      <td>11</td>\n",
       "      <td>NaN</td>\n",
       "      <td>NaN</td>\n",
       "      <td>Typhoon Soudelor kills 28 in China and Taiwan</td>\n",
       "    </tr>\n",
       "  </tbody>\n",
       "</table>\n",
       "</div>"
      ],
      "text/plain": [
       "   id keyword location                                               text\n",
       "0   0     NaN      NaN                 Just happened a terrible car crash\n",
       "1   2     NaN      NaN  Heard about #earthquake is different cities, s...\n",
       "2   3     NaN      NaN  there is a forest fire at spot pond, geese are...\n",
       "3   9     NaN      NaN           Apocalypse lighting. #Spokane #wildfires\n",
       "4  11     NaN      NaN      Typhoon Soudelor kills 28 in China and Taiwan"
      ]
     },
     "execution_count": 379,
     "metadata": {},
     "output_type": "execute_result"
    }
   ],
   "source": [
    "test_data = pd.read_csv(r'test.csv')\n",
    "test_data.head()"
   ]
  },
  {
   "cell_type": "code",
   "execution_count": 380,
   "metadata": {},
   "outputs": [
    {
     "data": {
      "text/html": [
       "<div>\n",
       "<style scoped>\n",
       "    .dataframe tbody tr th:only-of-type {\n",
       "        vertical-align: middle;\n",
       "    }\n",
       "\n",
       "    .dataframe tbody tr th {\n",
       "        vertical-align: top;\n",
       "    }\n",
       "\n",
       "    .dataframe thead th {\n",
       "        text-align: right;\n",
       "    }\n",
       "</style>\n",
       "<table border=\"1\" class=\"dataframe\">\n",
       "  <thead>\n",
       "    <tr style=\"text-align: right;\">\n",
       "      <th></th>\n",
       "      <th>text</th>\n",
       "    </tr>\n",
       "  </thead>\n",
       "  <tbody>\n",
       "    <tr>\n",
       "      <th>0</th>\n",
       "      <td>Just happened a terrible car crash</td>\n",
       "    </tr>\n",
       "    <tr>\n",
       "      <th>1</th>\n",
       "      <td>Heard about #earthquake is different cities, s...</td>\n",
       "    </tr>\n",
       "    <tr>\n",
       "      <th>2</th>\n",
       "      <td>there is a forest fire at spot pond, geese are...</td>\n",
       "    </tr>\n",
       "    <tr>\n",
       "      <th>3</th>\n",
       "      <td>Apocalypse lighting. #Spokane #wildfires</td>\n",
       "    </tr>\n",
       "    <tr>\n",
       "      <th>4</th>\n",
       "      <td>Typhoon Soudelor kills 28 in China and Taiwan</td>\n",
       "    </tr>\n",
       "  </tbody>\n",
       "</table>\n",
       "</div>"
      ],
      "text/plain": [
       "                                                text\n",
       "0                 Just happened a terrible car crash\n",
       "1  Heard about #earthquake is different cities, s...\n",
       "2  there is a forest fire at spot pond, geese are...\n",
       "3           Apocalypse lighting. #Spokane #wildfires\n",
       "4      Typhoon Soudelor kills 28 in China and Taiwan"
      ]
     },
     "execution_count": 380,
     "metadata": {},
     "output_type": "execute_result"
    }
   ],
   "source": [
    "test_data = test_data.loc[:, ['text']]\n",
    "test_data.head()"
   ]
  },
  {
   "cell_type": "code",
   "execution_count": 381,
   "metadata": {},
   "outputs": [
    {
     "data": {
      "text/html": [
       "<div>\n",
       "<style scoped>\n",
       "    .dataframe tbody tr th:only-of-type {\n",
       "        vertical-align: middle;\n",
       "    }\n",
       "\n",
       "    .dataframe tbody tr th {\n",
       "        vertical-align: top;\n",
       "    }\n",
       "\n",
       "    .dataframe thead th {\n",
       "        text-align: right;\n",
       "    }\n",
       "</style>\n",
       "<table border=\"1\" class=\"dataframe\">\n",
       "  <thead>\n",
       "    <tr style=\"text-align: right;\">\n",
       "      <th></th>\n",
       "      <th>text</th>\n",
       "    </tr>\n",
       "  </thead>\n",
       "  <tbody>\n",
       "    <tr>\n",
       "      <th>3258</th>\n",
       "      <td>EARTHQUAKE SAFETY LOS ANGELES ÛÒ SAFETY FASTE...</td>\n",
       "    </tr>\n",
       "    <tr>\n",
       "      <th>3259</th>\n",
       "      <td>Storm in RI worse than last hurricane. My city...</td>\n",
       "    </tr>\n",
       "    <tr>\n",
       "      <th>3260</th>\n",
       "      <td>Green Line derailment in Chicago http://t.co/U...</td>\n",
       "    </tr>\n",
       "    <tr>\n",
       "      <th>3261</th>\n",
       "      <td>MEG issues Hazardous Weather Outlook (HWO) htt...</td>\n",
       "    </tr>\n",
       "    <tr>\n",
       "      <th>3262</th>\n",
       "      <td>#CityofCalgary has activated its Municipal Eme...</td>\n",
       "    </tr>\n",
       "  </tbody>\n",
       "</table>\n",
       "</div>"
      ],
      "text/plain": [
       "                                                   text\n",
       "3258  EARTHQUAKE SAFETY LOS ANGELES ÛÒ SAFETY FASTE...\n",
       "3259  Storm in RI worse than last hurricane. My city...\n",
       "3260  Green Line derailment in Chicago http://t.co/U...\n",
       "3261  MEG issues Hazardous Weather Outlook (HWO) htt...\n",
       "3262  #CityofCalgary has activated its Municipal Eme..."
      ]
     },
     "execution_count": 381,
     "metadata": {},
     "output_type": "execute_result"
    }
   ],
   "source": [
    "test_data.tail()"
   ]
  },
  {
   "cell_type": "markdown",
   "metadata": {},
   "source": [
    "preprocessing data "
   ]
  },
  {
   "cell_type": "code",
   "execution_count": 382,
   "metadata": {},
   "outputs": [
    {
     "data": {
      "text/html": [
       "<div>\n",
       "<style scoped>\n",
       "    .dataframe tbody tr th:only-of-type {\n",
       "        vertical-align: middle;\n",
       "    }\n",
       "\n",
       "    .dataframe tbody tr th {\n",
       "        vertical-align: top;\n",
       "    }\n",
       "\n",
       "    .dataframe thead th {\n",
       "        text-align: right;\n",
       "    }\n",
       "</style>\n",
       "<table border=\"1\" class=\"dataframe\">\n",
       "  <thead>\n",
       "    <tr style=\"text-align: right;\">\n",
       "      <th></th>\n",
       "      <th>text</th>\n",
       "      <th>clean_text</th>\n",
       "    </tr>\n",
       "  </thead>\n",
       "  <tbody>\n",
       "    <tr>\n",
       "      <th>0</th>\n",
       "      <td>Just happened a terrible car crash</td>\n",
       "      <td>happen terribl car crash</td>\n",
       "    </tr>\n",
       "    <tr>\n",
       "      <th>1</th>\n",
       "      <td>Heard about #earthquake is different cities, s...</td>\n",
       "      <td>heard earthquak differ citi stay safe everyon</td>\n",
       "    </tr>\n",
       "    <tr>\n",
       "      <th>2</th>\n",
       "      <td>there is a forest fire at spot pond, geese are...</td>\n",
       "      <td>forest fire spot pond gee flee across street n...</td>\n",
       "    </tr>\n",
       "    <tr>\n",
       "      <th>3</th>\n",
       "      <td>Apocalypse lighting. #Spokane #wildfires</td>\n",
       "      <td>apocalyps light spokan wildfir</td>\n",
       "    </tr>\n",
       "    <tr>\n",
       "      <th>4</th>\n",
       "      <td>Typhoon Soudelor kills 28 in China and Taiwan</td>\n",
       "      <td>typhoon soudelor kill china taiwan</td>\n",
       "    </tr>\n",
       "  </tbody>\n",
       "</table>\n",
       "</div>"
      ],
      "text/plain": [
       "                                                text  \\\n",
       "0                 Just happened a terrible car crash   \n",
       "1  Heard about #earthquake is different cities, s...   \n",
       "2  there is a forest fire at spot pond, geese are...   \n",
       "3           Apocalypse lighting. #Spokane #wildfires   \n",
       "4      Typhoon Soudelor kills 28 in China and Taiwan   \n",
       "\n",
       "                                          clean_text  \n",
       "0                           happen terribl car crash  \n",
       "1      heard earthquak differ citi stay safe everyon  \n",
       "2  forest fire spot pond gee flee across street n...  \n",
       "3                     apocalyps light spokan wildfir  \n",
       "4                 typhoon soudelor kill china taiwan  "
      ]
     },
     "execution_count": 382,
     "metadata": {},
     "output_type": "execute_result"
    }
   ],
   "source": [
    "test_data['clean_text'] = preprocessing_data(test_data['text'].values)\n",
    "test_data.head()"
   ]
  },
  {
   "cell_type": "markdown",
   "metadata": {},
   "source": [
    "Naive Bayes"
   ]
  },
  {
   "cell_type": "code",
   "execution_count": 384,
   "metadata": {},
   "outputs": [],
   "source": [
    "test_data['preds_nb'] = model_nb.predict(test_data['clean_text'])\n",
    "test_data['prob_nb'] = model_nb.predict_proba(test_data['clean_text'])[:, 1]"
   ]
  },
  {
   "cell_type": "code",
   "execution_count": 385,
   "metadata": {},
   "outputs": [
    {
     "data": {
      "text/plain": [
       "0       1\n",
       "1       1\n",
       "2       1\n",
       "3       1\n",
       "4       1\n",
       "       ..\n",
       "3258    0\n",
       "3259    1\n",
       "3260    1\n",
       "3261    1\n",
       "3262    1\n",
       "Name: preds_nb, Length: 3263, dtype: int64"
      ]
     },
     "execution_count": 385,
     "metadata": {},
     "output_type": "execute_result"
    }
   ],
   "source": [
    "test_data['preds_nb']"
   ]
  },
  {
   "cell_type": "code",
   "execution_count": 386,
   "metadata": {},
   "outputs": [
    {
     "data": {
      "text/plain": [
       "0       0.759310\n",
       "1       0.770017\n",
       "2       0.951587\n",
       "3       0.801003\n",
       "4       0.997280\n",
       "          ...   \n",
       "3258    0.497019\n",
       "3259    0.604979\n",
       "3260    0.973673\n",
       "3261    0.995976\n",
       "3262    0.996943\n",
       "Name: prob_nb, Length: 3263, dtype: float64"
      ]
     },
     "execution_count": 386,
     "metadata": {},
     "output_type": "execute_result"
    }
   ],
   "source": [
    "test_data['prob_nb']"
   ]
  },
  {
   "cell_type": "code",
   "execution_count": 387,
   "metadata": {},
   "outputs": [
    {
     "data": {
      "text/html": [
       "<div>\n",
       "<style scoped>\n",
       "    .dataframe tbody tr th:only-of-type {\n",
       "        vertical-align: middle;\n",
       "    }\n",
       "\n",
       "    .dataframe tbody tr th {\n",
       "        vertical-align: top;\n",
       "    }\n",
       "\n",
       "    .dataframe thead th {\n",
       "        text-align: right;\n",
       "    }\n",
       "</style>\n",
       "<table border=\"1\" class=\"dataframe\">\n",
       "  <thead>\n",
       "    <tr style=\"text-align: right;\">\n",
       "      <th></th>\n",
       "      <th>text</th>\n",
       "      <th>clean_text</th>\n",
       "      <th>preds_nb</th>\n",
       "      <th>prob_nb</th>\n",
       "    </tr>\n",
       "  </thead>\n",
       "  <tbody>\n",
       "    <tr>\n",
       "      <th>0</th>\n",
       "      <td>Just happened a terrible car crash</td>\n",
       "      <td>happen terribl car crash</td>\n",
       "      <td>1</td>\n",
       "      <td>0.759310</td>\n",
       "    </tr>\n",
       "    <tr>\n",
       "      <th>1</th>\n",
       "      <td>Heard about #earthquake is different cities, s...</td>\n",
       "      <td>heard earthquak differ citi stay safe everyon</td>\n",
       "      <td>1</td>\n",
       "      <td>0.770017</td>\n",
       "    </tr>\n",
       "    <tr>\n",
       "      <th>2</th>\n",
       "      <td>there is a forest fire at spot pond, geese are...</td>\n",
       "      <td>forest fire spot pond gee flee across street n...</td>\n",
       "      <td>1</td>\n",
       "      <td>0.951587</td>\n",
       "    </tr>\n",
       "    <tr>\n",
       "      <th>3</th>\n",
       "      <td>Apocalypse lighting. #Spokane #wildfires</td>\n",
       "      <td>apocalyps light spokan wildfir</td>\n",
       "      <td>1</td>\n",
       "      <td>0.801003</td>\n",
       "    </tr>\n",
       "    <tr>\n",
       "      <th>4</th>\n",
       "      <td>Typhoon Soudelor kills 28 in China and Taiwan</td>\n",
       "      <td>typhoon soudelor kill china taiwan</td>\n",
       "      <td>1</td>\n",
       "      <td>0.997280</td>\n",
       "    </tr>\n",
       "  </tbody>\n",
       "</table>\n",
       "</div>"
      ],
      "text/plain": [
       "                                                text  \\\n",
       "0                 Just happened a terrible car crash   \n",
       "1  Heard about #earthquake is different cities, s...   \n",
       "2  there is a forest fire at spot pond, geese are...   \n",
       "3           Apocalypse lighting. #Spokane #wildfires   \n",
       "4      Typhoon Soudelor kills 28 in China and Taiwan   \n",
       "\n",
       "                                          clean_text  preds_nb   prob_nb  \n",
       "0                           happen terribl car crash         1  0.759310  \n",
       "1      heard earthquak differ citi stay safe everyon         1  0.770017  \n",
       "2  forest fire spot pond gee flee across street n...         1  0.951587  \n",
       "3                     apocalyps light spokan wildfir         1  0.801003  \n",
       "4                 typhoon soudelor kill china taiwan         1  0.997280  "
      ]
     },
     "execution_count": 387,
     "metadata": {},
     "output_type": "execute_result"
    }
   ],
   "source": [
    "test_data.head()"
   ]
  },
  {
   "cell_type": "markdown",
   "metadata": {},
   "source": [
    "Pretrained model"
   ]
  },
  {
   "cell_type": "markdown",
   "metadata": {},
   "source": [
    "prepaire data before passing to model"
   ]
  },
  {
   "cell_type": "code",
   "execution_count": 388,
   "metadata": {},
   "outputs": [],
   "source": [
    "clean_text_list = test_data['clean_text'].tolist()"
   ]
  },
  {
   "cell_type": "code",
   "execution_count": 389,
   "metadata": {},
   "outputs": [],
   "source": [
    "test_data['preds_hf'], test_data['prob_hf'] = query(clean_text_list, \n",
    "                                                    model_url)"
   ]
  },
  {
   "cell_type": "code",
   "execution_count": 390,
   "metadata": {},
   "outputs": [
    {
     "data": {
      "text/plain": [
       "0       NEGATIVE\n",
       "1       NEGATIVE\n",
       "2       NEGATIVE\n",
       "3       NEGATIVE\n",
       "4       NEGATIVE\n",
       "          ...   \n",
       "3258    NEGATIVE\n",
       "3259    NEGATIVE\n",
       "3260    NEGATIVE\n",
       "3261    NEGATIVE\n",
       "3262    NEGATIVE\n",
       "Name: preds_hf, Length: 3263, dtype: object"
      ]
     },
     "execution_count": 390,
     "metadata": {},
     "output_type": "execute_result"
    }
   ],
   "source": [
    "test_data['preds_hf']"
   ]
  },
  {
   "cell_type": "code",
   "execution_count": 391,
   "metadata": {},
   "outputs": [
    {
     "data": {
      "text/plain": [
       "0       0.999121\n",
       "1       0.999121\n",
       "2       0.999121\n",
       "3       0.999121\n",
       "4       0.999121\n",
       "          ...   \n",
       "3258    0.999121\n",
       "3259    0.999121\n",
       "3260    0.999121\n",
       "3261    0.999121\n",
       "3262    0.999121\n",
       "Name: prob_hf, Length: 3263, dtype: float64"
      ]
     },
     "execution_count": 391,
     "metadata": {},
     "output_type": "execute_result"
    }
   ],
   "source": [
    "test_data['prob_hf']"
   ]
  },
  {
   "cell_type": "code",
   "execution_count": 392,
   "metadata": {},
   "outputs": [
    {
     "data": {
      "text/html": [
       "<div>\n",
       "<style scoped>\n",
       "    .dataframe tbody tr th:only-of-type {\n",
       "        vertical-align: middle;\n",
       "    }\n",
       "\n",
       "    .dataframe tbody tr th {\n",
       "        vertical-align: top;\n",
       "    }\n",
       "\n",
       "    .dataframe thead th {\n",
       "        text-align: right;\n",
       "    }\n",
       "</style>\n",
       "<table border=\"1\" class=\"dataframe\">\n",
       "  <thead>\n",
       "    <tr style=\"text-align: right;\">\n",
       "      <th></th>\n",
       "      <th>text</th>\n",
       "      <th>clean_text</th>\n",
       "      <th>preds_nb</th>\n",
       "      <th>prob_nb</th>\n",
       "      <th>preds_hf</th>\n",
       "      <th>prob_hf</th>\n",
       "    </tr>\n",
       "  </thead>\n",
       "  <tbody>\n",
       "    <tr>\n",
       "      <th>0</th>\n",
       "      <td>Just happened a terrible car crash</td>\n",
       "      <td>happen terribl car crash</td>\n",
       "      <td>1</td>\n",
       "      <td>0.759310</td>\n",
       "      <td>NEGATIVE</td>\n",
       "      <td>0.999121</td>\n",
       "    </tr>\n",
       "    <tr>\n",
       "      <th>1</th>\n",
       "      <td>Heard about #earthquake is different cities, s...</td>\n",
       "      <td>heard earthquak differ citi stay safe everyon</td>\n",
       "      <td>1</td>\n",
       "      <td>0.770017</td>\n",
       "      <td>NEGATIVE</td>\n",
       "      <td>0.999121</td>\n",
       "    </tr>\n",
       "    <tr>\n",
       "      <th>2</th>\n",
       "      <td>there is a forest fire at spot pond, geese are...</td>\n",
       "      <td>forest fire spot pond gee flee across street n...</td>\n",
       "      <td>1</td>\n",
       "      <td>0.951587</td>\n",
       "      <td>NEGATIVE</td>\n",
       "      <td>0.999121</td>\n",
       "    </tr>\n",
       "    <tr>\n",
       "      <th>3</th>\n",
       "      <td>Apocalypse lighting. #Spokane #wildfires</td>\n",
       "      <td>apocalyps light spokan wildfir</td>\n",
       "      <td>1</td>\n",
       "      <td>0.801003</td>\n",
       "      <td>NEGATIVE</td>\n",
       "      <td>0.999121</td>\n",
       "    </tr>\n",
       "    <tr>\n",
       "      <th>4</th>\n",
       "      <td>Typhoon Soudelor kills 28 in China and Taiwan</td>\n",
       "      <td>typhoon soudelor kill china taiwan</td>\n",
       "      <td>1</td>\n",
       "      <td>0.997280</td>\n",
       "      <td>NEGATIVE</td>\n",
       "      <td>0.999121</td>\n",
       "    </tr>\n",
       "  </tbody>\n",
       "</table>\n",
       "</div>"
      ],
      "text/plain": [
       "                                                text  \\\n",
       "0                 Just happened a terrible car crash   \n",
       "1  Heard about #earthquake is different cities, s...   \n",
       "2  there is a forest fire at spot pond, geese are...   \n",
       "3           Apocalypse lighting. #Spokane #wildfires   \n",
       "4      Typhoon Soudelor kills 28 in China and Taiwan   \n",
       "\n",
       "                                          clean_text  preds_nb   prob_nb  \\\n",
       "0                           happen terribl car crash         1  0.759310   \n",
       "1      heard earthquak differ citi stay safe everyon         1  0.770017   \n",
       "2  forest fire spot pond gee flee across street n...         1  0.951587   \n",
       "3                     apocalyps light spokan wildfir         1  0.801003   \n",
       "4                 typhoon soudelor kill china taiwan         1  0.997280   \n",
       "\n",
       "   preds_hf   prob_hf  \n",
       "0  NEGATIVE  0.999121  \n",
       "1  NEGATIVE  0.999121  \n",
       "2  NEGATIVE  0.999121  \n",
       "3  NEGATIVE  0.999121  \n",
       "4  NEGATIVE  0.999121  "
      ]
     },
     "execution_count": 392,
     "metadata": {},
     "output_type": "execute_result"
    }
   ],
   "source": [
    "test_data.head()"
   ]
  },
  {
   "cell_type": "code",
   "execution_count": 393,
   "metadata": {},
   "outputs": [
    {
     "data": {
      "text/plain": [
       "preds_hf\n",
       "NEGATIVE    3263\n",
       "Name: count, dtype: int64"
      ]
     },
     "execution_count": 393,
     "metadata": {},
     "output_type": "execute_result"
    }
   ],
   "source": [
    "test_data['preds_hf'].value_counts()"
   ]
  },
  {
   "cell_type": "markdown",
   "metadata": {},
   "source": [
    "LSTM model"
   ]
  },
  {
   "cell_type": "markdown",
   "metadata": {},
   "source": [
    "prepaire data before passing to model"
   ]
  },
  {
   "cell_type": "code",
   "execution_count": 394,
   "metadata": {},
   "outputs": [],
   "source": [
    "x_test_seq = tokenizer.texts_to_sequences(test_data['clean_text'])\n",
    "x_test_pad = pad_sequences(x_test_seq, maxlen=100)"
   ]
  },
  {
   "cell_type": "code",
   "execution_count": 395,
   "metadata": {},
   "outputs": [
    {
     "name": "stdout",
     "output_type": "stream",
     "text": [
      " 39/102 [==========>...................] - ETA: 2s"
     ]
    },
    {
     "name": "stdout",
     "output_type": "stream",
     "text": [
      "102/102 [==============================] - 4s 40ms/step\n"
     ]
    }
   ],
   "source": [
    "preds_lstm_model = model_lstm.predict(x_test_pad)\n",
    "test_data['preds_lstm'] = np.round(preds_lstm_model)\n",
    "test_data['prob_lstm'] = preds_lstm_model"
   ]
  },
  {
   "cell_type": "code",
   "execution_count": 396,
   "metadata": {},
   "outputs": [
    {
     "data": {
      "text/html": [
       "<div>\n",
       "<style scoped>\n",
       "    .dataframe tbody tr th:only-of-type {\n",
       "        vertical-align: middle;\n",
       "    }\n",
       "\n",
       "    .dataframe tbody tr th {\n",
       "        vertical-align: top;\n",
       "    }\n",
       "\n",
       "    .dataframe thead th {\n",
       "        text-align: right;\n",
       "    }\n",
       "</style>\n",
       "<table border=\"1\" class=\"dataframe\">\n",
       "  <thead>\n",
       "    <tr style=\"text-align: right;\">\n",
       "      <th></th>\n",
       "      <th>text</th>\n",
       "      <th>clean_text</th>\n",
       "      <th>preds_nb</th>\n",
       "      <th>prob_nb</th>\n",
       "      <th>preds_hf</th>\n",
       "      <th>prob_hf</th>\n",
       "      <th>preds_lstm</th>\n",
       "      <th>prob_lstm</th>\n",
       "    </tr>\n",
       "  </thead>\n",
       "  <tbody>\n",
       "    <tr>\n",
       "      <th>0</th>\n",
       "      <td>Just happened a terrible car crash</td>\n",
       "      <td>happen terribl car crash</td>\n",
       "      <td>1</td>\n",
       "      <td>0.759310</td>\n",
       "      <td>NEGATIVE</td>\n",
       "      <td>0.999121</td>\n",
       "      <td>1.0</td>\n",
       "      <td>0.850921</td>\n",
       "    </tr>\n",
       "    <tr>\n",
       "      <th>1</th>\n",
       "      <td>Heard about #earthquake is different cities, s...</td>\n",
       "      <td>heard earthquak differ citi stay safe everyon</td>\n",
       "      <td>1</td>\n",
       "      <td>0.770017</td>\n",
       "      <td>NEGATIVE</td>\n",
       "      <td>0.999121</td>\n",
       "      <td>1.0</td>\n",
       "      <td>0.733995</td>\n",
       "    </tr>\n",
       "    <tr>\n",
       "      <th>2</th>\n",
       "      <td>there is a forest fire at spot pond, geese are...</td>\n",
       "      <td>forest fire spot pond gee flee across street n...</td>\n",
       "      <td>1</td>\n",
       "      <td>0.951587</td>\n",
       "      <td>NEGATIVE</td>\n",
       "      <td>0.999121</td>\n",
       "      <td>0.0</td>\n",
       "      <td>0.288071</td>\n",
       "    </tr>\n",
       "    <tr>\n",
       "      <th>3</th>\n",
       "      <td>Apocalypse lighting. #Spokane #wildfires</td>\n",
       "      <td>apocalyps light spokan wildfir</td>\n",
       "      <td>1</td>\n",
       "      <td>0.801003</td>\n",
       "      <td>NEGATIVE</td>\n",
       "      <td>0.999121</td>\n",
       "      <td>1.0</td>\n",
       "      <td>0.798540</td>\n",
       "    </tr>\n",
       "    <tr>\n",
       "      <th>4</th>\n",
       "      <td>Typhoon Soudelor kills 28 in China and Taiwan</td>\n",
       "      <td>typhoon soudelor kill china taiwan</td>\n",
       "      <td>1</td>\n",
       "      <td>0.997280</td>\n",
       "      <td>NEGATIVE</td>\n",
       "      <td>0.999121</td>\n",
       "      <td>1.0</td>\n",
       "      <td>0.999936</td>\n",
       "    </tr>\n",
       "  </tbody>\n",
       "</table>\n",
       "</div>"
      ],
      "text/plain": [
       "                                                text  \\\n",
       "0                 Just happened a terrible car crash   \n",
       "1  Heard about #earthquake is different cities, s...   \n",
       "2  there is a forest fire at spot pond, geese are...   \n",
       "3           Apocalypse lighting. #Spokane #wildfires   \n",
       "4      Typhoon Soudelor kills 28 in China and Taiwan   \n",
       "\n",
       "                                          clean_text  preds_nb   prob_nb  \\\n",
       "0                           happen terribl car crash         1  0.759310   \n",
       "1      heard earthquak differ citi stay safe everyon         1  0.770017   \n",
       "2  forest fire spot pond gee flee across street n...         1  0.951587   \n",
       "3                     apocalyps light spokan wildfir         1  0.801003   \n",
       "4                 typhoon soudelor kill china taiwan         1  0.997280   \n",
       "\n",
       "   preds_hf   prob_hf  preds_lstm  prob_lstm  \n",
       "0  NEGATIVE  0.999121         1.0   0.850921  \n",
       "1  NEGATIVE  0.999121         1.0   0.733995  \n",
       "2  NEGATIVE  0.999121         0.0   0.288071  \n",
       "3  NEGATIVE  0.999121         1.0   0.798540  \n",
       "4  NEGATIVE  0.999121         1.0   0.999936  "
      ]
     },
     "execution_count": 396,
     "metadata": {},
     "output_type": "execute_result"
    }
   ],
   "source": [
    "test_data.head()"
   ]
  }
 ],
 "metadata": {
  "kernelspec": {
   "display_name": "Python 3",
   "language": "python",
   "name": "python3"
  },
  "language_info": {
   "codemirror_mode": {
    "name": "ipython",
    "version": 3
   },
   "file_extension": ".py",
   "mimetype": "text/x-python",
   "name": "python",
   "nbconvert_exporter": "python",
   "pygments_lexer": "ipython3",
   "version": "3.11.4"
  },
  "orig_nbformat": 4
 },
 "nbformat": 4,
 "nbformat_minor": 2
}
