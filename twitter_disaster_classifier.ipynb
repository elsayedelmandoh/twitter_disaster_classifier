{
 "cells": [
  {
   "cell_type": "markdown",
   "metadata": {},
   "source": [
    "# Capstone NLP "
   ]
  },
  {
   "cell_type": "markdown",
   "metadata": {},
   "source": [
    "# Define Project Objectives"
   ]
  },
  {
   "cell_type": "markdown",
   "metadata": {},
   "source": [
    "Natural disasters can have a significant impact on people's lives, and social media has become an important source of information during such events. \n",
    "\n",
    "In this project, \n",
    "\n",
    "we aim to build a machine learning model that can `classify` tweets as `disaster-related or not`, based on their `text content`. \n",
    "\n",
    "We will use Natural Language Processing (NLP) techniques to `preprocess` and `analyze` the text, and `train` several machine learning models to `predict` the classification of each tweet. \n",
    "\n",
    "This project will provide an opportunity to apply NLP and machine learning techniques to a real-world problem and gain experience in data analysis, modeling, and interpretation. \n",
    "\n",
    "Data: https://www.kaggle.com/competitions/nlp-getting-started/data\n"
   ]
  },
  {
   "cell_type": "markdown",
   "metadata": {},
   "source": [
    "# Data Acquisition"
   ]
  },
  {
   "cell_type": "markdown",
   "metadata": {},
   "source": [
    "Data Importing"
   ]
  },
  {
   "cell_type": "code",
   "execution_count": 1,
   "metadata": {},
   "outputs": [],
   "source": [
    "import pandas as pd"
   ]
  },
  {
   "cell_type": "markdown",
   "metadata": {},
   "source": [
    "import training data"
   ]
  },
  {
   "cell_type": "code",
   "execution_count": 2,
   "metadata": {},
   "outputs": [
    {
     "data": {
      "text/html": [
       "<div>\n",
       "<style scoped>\n",
       "    .dataframe tbody tr th:only-of-type {\n",
       "        vertical-align: middle;\n",
       "    }\n",
       "\n",
       "    .dataframe tbody tr th {\n",
       "        vertical-align: top;\n",
       "    }\n",
       "\n",
       "    .dataframe thead th {\n",
       "        text-align: right;\n",
       "    }\n",
       "</style>\n",
       "<table border=\"1\" class=\"dataframe\">\n",
       "  <thead>\n",
       "    <tr style=\"text-align: right;\">\n",
       "      <th></th>\n",
       "      <th>id</th>\n",
       "      <th>keyword</th>\n",
       "      <th>location</th>\n",
       "      <th>text</th>\n",
       "      <th>target</th>\n",
       "    </tr>\n",
       "  </thead>\n",
       "  <tbody>\n",
       "    <tr>\n",
       "      <th>0</th>\n",
       "      <td>1</td>\n",
       "      <td>NaN</td>\n",
       "      <td>NaN</td>\n",
       "      <td>Our Deeds are the Reason of this #earthquake M...</td>\n",
       "      <td>1</td>\n",
       "    </tr>\n",
       "    <tr>\n",
       "      <th>1</th>\n",
       "      <td>4</td>\n",
       "      <td>NaN</td>\n",
       "      <td>NaN</td>\n",
       "      <td>Forest fire near La Ronge Sask. Canada</td>\n",
       "      <td>1</td>\n",
       "    </tr>\n",
       "    <tr>\n",
       "      <th>2</th>\n",
       "      <td>5</td>\n",
       "      <td>NaN</td>\n",
       "      <td>NaN</td>\n",
       "      <td>All residents asked to 'shelter in place' are ...</td>\n",
       "      <td>1</td>\n",
       "    </tr>\n",
       "    <tr>\n",
       "      <th>3</th>\n",
       "      <td>6</td>\n",
       "      <td>NaN</td>\n",
       "      <td>NaN</td>\n",
       "      <td>13,000 people receive #wildfires evacuation or...</td>\n",
       "      <td>1</td>\n",
       "    </tr>\n",
       "    <tr>\n",
       "      <th>4</th>\n",
       "      <td>7</td>\n",
       "      <td>NaN</td>\n",
       "      <td>NaN</td>\n",
       "      <td>Just got sent this photo from Ruby #Alaska as ...</td>\n",
       "      <td>1</td>\n",
       "    </tr>\n",
       "  </tbody>\n",
       "</table>\n",
       "</div>"
      ],
      "text/plain": [
       "   id keyword location                                               text  \\\n",
       "0   1     NaN      NaN  Our Deeds are the Reason of this #earthquake M...   \n",
       "1   4     NaN      NaN             Forest fire near La Ronge Sask. Canada   \n",
       "2   5     NaN      NaN  All residents asked to 'shelter in place' are ...   \n",
       "3   6     NaN      NaN  13,000 people receive #wildfires evacuation or...   \n",
       "4   7     NaN      NaN  Just got sent this photo from Ruby #Alaska as ...   \n",
       "\n",
       "   target  \n",
       "0       1  \n",
       "1       1  \n",
       "2       1  \n",
       "3       1  \n",
       "4       1  "
      ]
     },
     "execution_count": 2,
     "metadata": {},
     "output_type": "execute_result"
    }
   ],
   "source": [
    "train_data = pd.read_csv(r\"train.csv\")\n",
    "train_data.head()"
   ]
  },
  {
   "cell_type": "code",
   "execution_count": 3,
   "metadata": {},
   "outputs": [
    {
     "data": {
      "text/html": [
       "<div>\n",
       "<style scoped>\n",
       "    .dataframe tbody tr th:only-of-type {\n",
       "        vertical-align: middle;\n",
       "    }\n",
       "\n",
       "    .dataframe tbody tr th {\n",
       "        vertical-align: top;\n",
       "    }\n",
       "\n",
       "    .dataframe thead th {\n",
       "        text-align: right;\n",
       "    }\n",
       "</style>\n",
       "<table border=\"1\" class=\"dataframe\">\n",
       "  <thead>\n",
       "    <tr style=\"text-align: right;\">\n",
       "      <th></th>\n",
       "      <th>text</th>\n",
       "      <th>target</th>\n",
       "    </tr>\n",
       "  </thead>\n",
       "  <tbody>\n",
       "    <tr>\n",
       "      <th>0</th>\n",
       "      <td>Our Deeds are the Reason of this #earthquake M...</td>\n",
       "      <td>1</td>\n",
       "    </tr>\n",
       "    <tr>\n",
       "      <th>1</th>\n",
       "      <td>Forest fire near La Ronge Sask. Canada</td>\n",
       "      <td>1</td>\n",
       "    </tr>\n",
       "    <tr>\n",
       "      <th>2</th>\n",
       "      <td>All residents asked to 'shelter in place' are ...</td>\n",
       "      <td>1</td>\n",
       "    </tr>\n",
       "    <tr>\n",
       "      <th>3</th>\n",
       "      <td>13,000 people receive #wildfires evacuation or...</td>\n",
       "      <td>1</td>\n",
       "    </tr>\n",
       "    <tr>\n",
       "      <th>4</th>\n",
       "      <td>Just got sent this photo from Ruby #Alaska as ...</td>\n",
       "      <td>1</td>\n",
       "    </tr>\n",
       "  </tbody>\n",
       "</table>\n",
       "</div>"
      ],
      "text/plain": [
       "                                                text  target\n",
       "0  Our Deeds are the Reason of this #earthquake M...       1\n",
       "1             Forest fire near La Ronge Sask. Canada       1\n",
       "2  All residents asked to 'shelter in place' are ...       1\n",
       "3  13,000 people receive #wildfires evacuation or...       1\n",
       "4  Just got sent this photo from Ruby #Alaska as ...       1"
      ]
     },
     "execution_count": 3,
     "metadata": {},
     "output_type": "execute_result"
    }
   ],
   "source": [
    "train_data = train_data.loc[:, ['text', 'target']]\n",
    "train_data.head()"
   ]
  },
  {
   "cell_type": "code",
   "execution_count": 4,
   "metadata": {},
   "outputs": [
    {
     "data": {
      "text/html": [
       "<div>\n",
       "<style scoped>\n",
       "    .dataframe tbody tr th:only-of-type {\n",
       "        vertical-align: middle;\n",
       "    }\n",
       "\n",
       "    .dataframe tbody tr th {\n",
       "        vertical-align: top;\n",
       "    }\n",
       "\n",
       "    .dataframe thead th {\n",
       "        text-align: right;\n",
       "    }\n",
       "</style>\n",
       "<table border=\"1\" class=\"dataframe\">\n",
       "  <thead>\n",
       "    <tr style=\"text-align: right;\">\n",
       "      <th></th>\n",
       "      <th>text</th>\n",
       "      <th>target</th>\n",
       "    </tr>\n",
       "  </thead>\n",
       "  <tbody>\n",
       "    <tr>\n",
       "      <th>7608</th>\n",
       "      <td>Two giant cranes holding a bridge collapse int...</td>\n",
       "      <td>1</td>\n",
       "    </tr>\n",
       "    <tr>\n",
       "      <th>7609</th>\n",
       "      <td>@aria_ahrary @TheTawniest The out of control w...</td>\n",
       "      <td>1</td>\n",
       "    </tr>\n",
       "    <tr>\n",
       "      <th>7610</th>\n",
       "      <td>M1.94 [01:04 UTC]?5km S of Volcano Hawaii. htt...</td>\n",
       "      <td>1</td>\n",
       "    </tr>\n",
       "    <tr>\n",
       "      <th>7611</th>\n",
       "      <td>Police investigating after an e-bike collided ...</td>\n",
       "      <td>1</td>\n",
       "    </tr>\n",
       "    <tr>\n",
       "      <th>7612</th>\n",
       "      <td>The Latest: More Homes Razed by Northern Calif...</td>\n",
       "      <td>1</td>\n",
       "    </tr>\n",
       "  </tbody>\n",
       "</table>\n",
       "</div>"
      ],
      "text/plain": [
       "                                                   text  target\n",
       "7608  Two giant cranes holding a bridge collapse int...       1\n",
       "7609  @aria_ahrary @TheTawniest The out of control w...       1\n",
       "7610  M1.94 [01:04 UTC]?5km S of Volcano Hawaii. htt...       1\n",
       "7611  Police investigating after an e-bike collided ...       1\n",
       "7612  The Latest: More Homes Razed by Northern Calif...       1"
      ]
     },
     "execution_count": 4,
     "metadata": {},
     "output_type": "execute_result"
    }
   ],
   "source": [
    "train_data.tail()"
   ]
  },
  {
   "cell_type": "markdown",
   "metadata": {},
   "source": [
    "# Data Exploration"
   ]
  },
  {
   "cell_type": "code",
   "execution_count": 8,
   "metadata": {},
   "outputs": [],
   "source": [
    "import numpy as np\n",
    "import matplotlib.pyplot as plt\n",
    "import seaborn as sns"
   ]
  },
  {
   "cell_type": "code",
   "execution_count": 9,
   "metadata": {},
   "outputs": [
    {
     "name": "stdout",
     "output_type": "stream",
     "text": [
      "<class 'pandas.core.frame.DataFrame'>\n",
      "RangeIndex: 7613 entries, 0 to 7612\n",
      "Data columns (total 2 columns):\n",
      " #   Column  Non-Null Count  Dtype \n",
      "---  ------  --------------  ----- \n",
      " 0   text    7613 non-null   object\n",
      " 1   target  7613 non-null   int64 \n",
      "dtypes: int64(1), object(1)\n",
      "memory usage: 119.1+ KB\n"
     ]
    }
   ],
   "source": [
    "train_data.info()"
   ]
  },
  {
   "cell_type": "markdown",
   "metadata": {},
   "source": [
    "get `Number of tokens`"
   ]
  },
  {
   "cell_type": "code",
   "execution_count": 10,
   "metadata": {},
   "outputs": [
    {
     "data": {
      "text/html": [
       "<div>\n",
       "<style scoped>\n",
       "    .dataframe tbody tr th:only-of-type {\n",
       "        vertical-align: middle;\n",
       "    }\n",
       "\n",
       "    .dataframe tbody tr th {\n",
       "        vertical-align: top;\n",
       "    }\n",
       "\n",
       "    .dataframe thead th {\n",
       "        text-align: right;\n",
       "    }\n",
       "</style>\n",
       "<table border=\"1\" class=\"dataframe\">\n",
       "  <thead>\n",
       "    <tr style=\"text-align: right;\">\n",
       "      <th></th>\n",
       "      <th>text</th>\n",
       "      <th>target</th>\n",
       "      <th>no_tokens</th>\n",
       "    </tr>\n",
       "  </thead>\n",
       "  <tbody>\n",
       "    <tr>\n",
       "      <th>4429</th>\n",
       "      <td>@susanj357 @msnbc @allinwithchris it's like wa...</td>\n",
       "      <td>0</td>\n",
       "      <td>19</td>\n",
       "    </tr>\n",
       "    <tr>\n",
       "      <th>2113</th>\n",
       "      <td>Ted Cruz Bashes Obama Comparison GOP To Irania...</td>\n",
       "      <td>1</td>\n",
       "      <td>15</td>\n",
       "    </tr>\n",
       "    <tr>\n",
       "      <th>4546</th>\n",
       "      <td>@michaelgbaron how come scott rice doesn't get...</td>\n",
       "      <td>0</td>\n",
       "      <td>18</td>\n",
       "    </tr>\n",
       "    <tr>\n",
       "      <th>5270</th>\n",
       "      <td>Refugio oil spill may have been costlier bigge...</td>\n",
       "      <td>1</td>\n",
       "      <td>11</td>\n",
       "    </tr>\n",
       "    <tr>\n",
       "      <th>2909</th>\n",
       "      <td>No one told me you can drown yourself by drink...</td>\n",
       "      <td>0</td>\n",
       "      <td>13</td>\n",
       "    </tr>\n",
       "    <tr>\n",
       "      <th>5894</th>\n",
       "      <td>Watch This Airport Get Swallowed Up By A Sands...</td>\n",
       "      <td>1</td>\n",
       "      <td>14</td>\n",
       "    </tr>\n",
       "    <tr>\n",
       "      <th>4416</th>\n",
       "      <td>The Murderous Story Of AmericaÛªs First Hijac...</td>\n",
       "      <td>1</td>\n",
       "      <td>8</td>\n",
       "    </tr>\n",
       "    <tr>\n",
       "      <th>2756</th>\n",
       "      <td>@ssssnell yeah I agree but it's the shock fact...</td>\n",
       "      <td>0</td>\n",
       "      <td>22</td>\n",
       "    </tr>\n",
       "    <tr>\n",
       "      <th>1227</th>\n",
       "      <td>Witness video shows car explode behind burning...</td>\n",
       "      <td>1</td>\n",
       "      <td>17</td>\n",
       "    </tr>\n",
       "    <tr>\n",
       "      <th>1468</th>\n",
       "      <td>#iphone #twist Ultimate #preparedness library:...</td>\n",
       "      <td>0</td>\n",
       "      <td>13</td>\n",
       "    </tr>\n",
       "  </tbody>\n",
       "</table>\n",
       "</div>"
      ],
      "text/plain": [
       "                                                   text  target  no_tokens\n",
       "4429  @susanj357 @msnbc @allinwithchris it's like wa...       0         19\n",
       "2113  Ted Cruz Bashes Obama Comparison GOP To Irania...       1         15\n",
       "4546  @michaelgbaron how come scott rice doesn't get...       0         18\n",
       "5270  Refugio oil spill may have been costlier bigge...       1         11\n",
       "2909  No one told me you can drown yourself by drink...       0         13\n",
       "5894  Watch This Airport Get Swallowed Up By A Sands...       1         14\n",
       "4416  The Murderous Story Of AmericaÛªs First Hijac...       1          8\n",
       "2756  @ssssnell yeah I agree but it's the shock fact...       0         22\n",
       "1227  Witness video shows car explode behind burning...       1         17\n",
       "1468  #iphone #twist Ultimate #preparedness library:...       0         13"
      ]
     },
     "execution_count": 10,
     "metadata": {},
     "output_type": "execute_result"
    }
   ],
   "source": [
    "train_data['no_tokens'] = train_data['text'].str.split().map(lambda token: len(token)) \n",
    "train_data.sample(10)"
   ]
  },
  {
   "cell_type": "code",
   "execution_count": 11,
   "metadata": {},
   "outputs": [
    {
     "data": {
      "image/png": "[encoded data removed]",
      "text/plain": [
       "<Figure size 1000x600 with 1 Axes>"
      ]
     },
     "metadata": {},
     "output_type": "display_data"
    }
   ],
   "source": [
    "plt.figure(figsize=(10, 6)) \n",
    "\n",
    "train_data[train_data['target'] == 0]['no_tokens'].plot(bins=35, \n",
    "                                                kind='hist', \n",
    "                                                color='red', \n",
    "                                                label='Not disaster', \n",
    "                                                alpha=0.6)\n",
    "\n",
    "train_data[train_data['target'] == 1]['no_tokens'].plot(kind='hist', \n",
    "                                                color='green', \n",
    "                                                label='Disaster', \n",
    "                                                alpha=0.6)\n",
    "\n",
    "plt.legend(loc='upper right')\n",
    "plt.xlabel(\"Numbers of tokens\")\n",
    "plt.ylabel(\"Numbers of texts\")\n",
    "plt.show()"
   ]
  },
  {
   "cell_type": "markdown",
   "metadata": {},
   "source": [
    "The most distribution of `Not disaster` are range `14 to 16` tokens.\n",
    "\n",
    "The most distribution of `Disaster` are range `12 to 20` tokens."
   ]
  },
  {
   "cell_type": "markdown",
   "metadata": {},
   "source": [
    "`Average token` length in a text"
   ]
  },
  {
   "cell_type": "code",
   "execution_count": 12,
   "metadata": {},
   "outputs": [
    {
     "name": "stderr",
     "output_type": "stream",
     "text": [
      "c:\\Users\\CENTER_ELRahama\\AppData\\Local\\Programs\\Python\\Python311\\Lib\\site-packages\\seaborn\\_oldcore.py:1498: FutureWarning: is_categorical_dtype is deprecated and will be removed in a future version. Use isinstance(dtype, CategoricalDtype) instead\n",
      "  if pd.api.types.is_categorical_dtype(vector):\n",
      "c:\\Users\\CENTER_ELRahama\\AppData\\Local\\Programs\\Python\\Python311\\Lib\\site-packages\\seaborn\\_oldcore.py:1119: FutureWarning: use_inf_as_na option is deprecated and will be removed in a future version. Convert inf values to NaN before operating instead.\n",
      "  with pd.option_context('mode.use_inf_as_na', True):\n",
      "c:\\Users\\CENTER_ELRahama\\AppData\\Local\\Programs\\Python\\Python311\\Lib\\site-packages\\seaborn\\_oldcore.py:1498: FutureWarning: is_categorical_dtype is deprecated and will be removed in a future version. Use isinstance(dtype, CategoricalDtype) instead\n",
      "  if pd.api.types.is_categorical_dtype(vector):\n",
      "c:\\Users\\CENTER_ELRahama\\AppData\\Local\\Programs\\Python\\Python311\\Lib\\site-packages\\seaborn\\_oldcore.py:1119: FutureWarning: use_inf_as_na option is deprecated and will be removed in a future version. Convert inf values to NaN before operating instead.\n",
      "  with pd.option_context('mode.use_inf_as_na', True):\n"
     ]
    },
    {
     "data": {
      "image/png": "[encoded data removed]",
      "text/plain": [
       "<Figure size 1000x500 with 2 Axes>"
      ]
     },
     "metadata": {},
     "output_type": "display_data"
    }
   ],
   "source": [
    "fig,(ax1, ax2)=plt.subplots(1,2,figsize=(10,5))\n",
    "\n",
    "avg_tokens= train_data[train_data['target'] == 0]['text'].str.split().apply(lambda token : [len(char) for char in token]).map(lambda x: np.mean(x))\n",
    "sns.histplot(avg_tokens, ax=ax1, color='red')\n",
    "ax1.set_title('Not disaster')\n",
    "\n",
    "avg_tokens= train_data[train_data['target'] == 1]['text'].str.split().apply(lambda token : [len(char) for char in token]).map(lambda x: np.mean(x))\n",
    "sns.histplot(avg_tokens, ax=ax2, color='green')\n",
    "ax2.set_title('Disaster')\n",
    "\n",
    "fig.suptitle('Average token length in each text')\n",
    "plt.show()"
   ]
  },
  {
   "cell_type": "markdown",
   "metadata": {},
   "source": [
    "The most distribution of `Not disaster` are average `4 to 8` text.\n",
    "\n",
    "The most distribution of `Disaster` are average `12 to 20` text."
   ]
  },
  {
   "cell_type": "markdown",
   "metadata": {},
   "source": [
    "# Data Preparation"
   ]
  },
  {
   "cell_type": "code",
   "execution_count": 13,
   "metadata": {},
   "outputs": [],
   "source": [
    "from nltk.tokenize import word_tokenize\n",
    "from nltk.corpus import stopwords\n",
    "from nltk.stem import PorterStemmer, WordNetLemmatizer\n",
    "import re"
   ]
  },
  {
   "cell_type": "markdown",
   "metadata": {},
   "source": [
    "Missing data"
   ]
  },
  {
   "cell_type": "code",
   "execution_count": 14,
   "metadata": {},
   "outputs": [
    {
     "data": {
      "text/plain": [
       "text         0\n",
       "target       0\n",
       "no_tokens    0\n",
       "dtype: int64"
      ]
     },
     "execution_count": 14,
     "metadata": {},
     "output_type": "execute_result"
    }
   ],
   "source": [
    "train_data.isnull().sum()"
   ]
  },
  {
   "cell_type": "markdown",
   "metadata": {},
   "source": [
    "Noise Removal"
   ]
  },
  {
   "cell_type": "code",
   "execution_count": 15,
   "metadata": {},
   "outputs": [
    {
     "name": "stdout",
     "output_type": "stream",
     "text": [
      "['i', 'me', 'my', 'myself', 'we', 'our', 'ours', 'ourselves', 'you', \"you're\", \"you've\", \"you'll\", \"you'd\", 'your', 'yours', 'yourself', 'yourselves', 'he', 'him', 'his', 'himself', 'she', \"she's\", 'her', 'hers', 'herself', 'it', \"it's\", 'its', 'itself', 'they', 'them', 'their', 'theirs', 'themselves', 'what', 'which', 'who', 'whom', 'this', 'that', \"that'll\", 'these', 'those', 'am', 'is', 'are', 'was', 'were', 'be', 'been', 'being', 'have', 'has', 'had', 'having', 'do', 'does', 'did', 'doing', 'a', 'an', 'the', 'and', 'but', 'if', 'or', 'because', 'as', 'until', 'while', 'of', 'at', 'by', 'for', 'with', 'about', 'against', 'between', 'into', 'through', 'during', 'before', 'after', 'above', 'below', 'to', 'from', 'up', 'down', 'in', 'out', 'on', 'off', 'over', 'under', 'again', 'further', 'then', 'once', 'here', 'there', 'when', 'where', 'why', 'how', 'all', 'any', 'both', 'each', 'few', 'more', 'most', 'other', 'some', 'such', 'no', 'nor', 'not', 'only', 'own', 'same', 'so', 'than', 'too', 'very', 's', 't', 'can', 'will', 'just', 'don', \"don't\", 'should', \"should've\", 'now', 'd', 'll', 'm', 'o', 're', 've', 'y', 'ain', 'aren', \"aren't\", 'couldn', \"couldn't\", 'didn', \"didn't\", 'doesn', \"doesn't\", 'hadn', \"hadn't\", 'hasn', \"hasn't\", 'haven', \"haven't\", 'isn', \"isn't\", 'ma', 'mightn', \"mightn't\", 'mustn', \"mustn't\", 'needn', \"needn't\", 'shan', \"shan't\", 'shouldn', \"shouldn't\", 'wasn', \"wasn't\", 'weren', \"weren't\", 'won', \"won't\", 'wouldn', \"wouldn't\"]\n"
     ]
    }
   ],
   "source": [
    "stop_words = stopwords.words('english')\n",
    "print(stop_words)"
   ]
  },
  {
   "cell_type": "code",
   "execution_count": 16,
   "metadata": {},
   "outputs": [
    {
     "data": {
      "text/plain": [
       "179"
      ]
     },
     "execution_count": 16,
     "metadata": {},
     "output_type": "execute_result"
    }
   ],
   "source": [
    "len(stop_words)"
   ]
  },
  {
   "cell_type": "markdown",
   "metadata": {},
   "source": [
    "Excluding some useful words from stop words list|"
   ]
  },
  {
   "cell_type": "code",
   "execution_count": 17,
   "metadata": {},
   "outputs": [
    {
     "data": {
      "text/plain": [
       "143"
      ]
     },
     "execution_count": 17,
     "metadata": {},
     "output_type": "execute_result"
    }
   ],
   "source": [
    "excluding= ['againts','no' ,'not', 'don', \"don't\", 'ain', 'aren', \"aren't\", 'couldn', \"couldn't\", 'didn', \n",
    "            \"didn't\",'doesn', \"doesn't\", 'hadn', \"hadn't\", 'has', \"hasn't\", 'haven', \"haven't\", 'isn', \n",
    "            \"isn't\", 'might', \"mightn't\", 'mustn', \"mustn't\", 'needn', \"needn't\", 'shouldn', \"shouldn't\", \n",
    "            'wasn', \"wasn't\", 'weren', \"weren't\", 'won', \"won't\", 'wouldn', \"wouldn't\"]\n",
    "\n",
    "stop_words= [word for word in stop_words if word not in excluding]\n",
    "len(stop_words)"
   ]
  },
  {
   "cell_type": "markdown",
   "metadata": {},
   "source": [
    "word normalization"
   ]
  },
  {
   "cell_type": "code",
   "execution_count": 18,
   "metadata": {},
   "outputs": [],
   "source": [
    "stemmer = PorterStemmer()\n",
    "lemmatizer = WordNetLemmatizer()"
   ]
  },
  {
   "cell_type": "code",
   "execution_count": 19,
   "metadata": {},
   "outputs": [],
   "source": [
    "def preprocessing_data(texts):\n",
    "    cleaned_texts = []  \n",
    "\n",
    "    for sent in texts: \n",
    "        filtered_sent = []\n",
    "        sent_no_links = re.sub(r'http[s]?://[^\\s]+', '', sent) \n",
    "        tokens = word_tokenize(sent_no_links.lower())\n",
    "        \n",
    "        for token in tokens:\n",
    "            token = re.sub(r'\\W', '', token)\n",
    "            if (not token.isnumeric()) and (len(token) > 2) and (token not in stop_words):\n",
    "                filtered_sent.append(lemmatizer.lemmatize(stemmer.stem(token)))\n",
    "                \n",
    "        text = \" \".join(filtered_sent)\n",
    "        cleaned_texts.append(text)\n",
    "    \n",
    "    return cleaned_texts"
   ]
  },
  {
   "cell_type": "code",
   "execution_count": 20,
   "metadata": {},
   "outputs": [
    {
     "data": {
      "text/plain": [
       "array(['Our Deeds are the Reason of this #earthquake May ALLAH Forgive us all',\n",
       "       'Forest fire near La Ronge Sask. Canada',\n",
       "       \"All residents asked to 'shelter in place' are being notified by officers. No other evacuation or shelter in place orders are expected\",\n",
       "       ...,\n",
       "       'M1.94 [01:04 UTC]?5km S of Volcano Hawaii. http://t.co/zDtoyd8EbJ',\n",
       "       'Police investigating after an e-bike collided with a car in Little Portugal. E-bike rider suffered serious non-life threatening injuries.',\n",
       "       'The Latest: More Homes Razed by Northern California Wildfire - ABC News http://t.co/YmY4rSkQ3d'],\n",
       "      dtype=object)"
      ]
     },
     "execution_count": 20,
     "metadata": {},
     "output_type": "execute_result"
    }
   ],
   "source": [
    "train_data['text'].values"
   ]
  },
  {
   "cell_type": "code",
   "execution_count": 21,
   "metadata": {},
   "outputs": [
    {
     "data": {
      "text/html": [
       "<div>\n",
       "<style scoped>\n",
       "    .dataframe tbody tr th:only-of-type {\n",
       "        vertical-align: middle;\n",
       "    }\n",
       "\n",
       "    .dataframe tbody tr th {\n",
       "        vertical-align: top;\n",
       "    }\n",
       "\n",
       "    .dataframe thead th {\n",
       "        text-align: right;\n",
       "    }\n",
       "</style>\n",
       "<table border=\"1\" class=\"dataframe\">\n",
       "  <thead>\n",
       "    <tr style=\"text-align: right;\">\n",
       "      <th></th>\n",
       "      <th>text</th>\n",
       "      <th>target</th>\n",
       "      <th>no_tokens</th>\n",
       "      <th>clean_text</th>\n",
       "    </tr>\n",
       "  </thead>\n",
       "  <tbody>\n",
       "    <tr>\n",
       "      <th>0</th>\n",
       "      <td>Our Deeds are the Reason of this #earthquake M...</td>\n",
       "      <td>1</td>\n",
       "      <td>13</td>\n",
       "      <td>deed reason earthquak may allah forgiv</td>\n",
       "    </tr>\n",
       "    <tr>\n",
       "      <th>1</th>\n",
       "      <td>Forest fire near La Ronge Sask. Canada</td>\n",
       "      <td>1</td>\n",
       "      <td>7</td>\n",
       "      <td>forest fire near rong sask canada</td>\n",
       "    </tr>\n",
       "    <tr>\n",
       "      <th>2</th>\n",
       "      <td>All residents asked to 'shelter in place' are ...</td>\n",
       "      <td>1</td>\n",
       "      <td>22</td>\n",
       "      <td>resid ask shelter place notifi offic evacu she...</td>\n",
       "    </tr>\n",
       "    <tr>\n",
       "      <th>3</th>\n",
       "      <td>13,000 people receive #wildfires evacuation or...</td>\n",
       "      <td>1</td>\n",
       "      <td>8</td>\n",
       "      <td>peopl receiv wildfir evacu order california</td>\n",
       "    </tr>\n",
       "    <tr>\n",
       "      <th>4</th>\n",
       "      <td>Just got sent this photo from Ruby #Alaska as ...</td>\n",
       "      <td>1</td>\n",
       "      <td>16</td>\n",
       "      <td>got sent photo rubi alaska smoke wildfir pour ...</td>\n",
       "    </tr>\n",
       "  </tbody>\n",
       "</table>\n",
       "</div>"
      ],
      "text/plain": [
       "                                                text  target  no_tokens  \\\n",
       "0  Our Deeds are the Reason of this #earthquake M...       1         13   \n",
       "1             Forest fire near La Ronge Sask. Canada       1          7   \n",
       "2  All residents asked to 'shelter in place' are ...       1         22   \n",
       "3  13,000 people receive #wildfires evacuation or...       1          8   \n",
       "4  Just got sent this photo from Ruby #Alaska as ...       1         16   \n",
       "\n",
       "                                          clean_text  \n",
       "0             deed reason earthquak may allah forgiv  \n",
       "1                  forest fire near rong sask canada  \n",
       "2  resid ask shelter place notifi offic evacu she...  \n",
       "3        peopl receiv wildfir evacu order california  \n",
       "4  got sent photo rubi alaska smoke wildfir pour ...  "
      ]
     },
     "execution_count": 21,
     "metadata": {},
     "output_type": "execute_result"
    }
   ],
   "source": [
    "train_data['clean_text'] = preprocessing_data(train_data['text'].values)\n",
    "train_data.head()"
   ]
  },
  {
   "cell_type": "code",
   "execution_count": 22,
   "metadata": {},
   "outputs": [
    {
     "data": {
      "text/plain": [
       "'Road Hazard @ CASCADE RD SW / CHILDRESS DR SW http://t.co/DilyvRoWyJ'"
      ]
     },
     "execution_count": 22,
     "metadata": {},
     "output_type": "execute_result"
    }
   ],
   "source": [
    "train_data['text'].iloc[4187]"
   ]
  },
  {
   "cell_type": "code",
   "execution_count": 23,
   "metadata": {},
   "outputs": [
    {
     "data": {
      "text/plain": [
       "'road hazard cascad childress'"
      ]
     },
     "execution_count": 23,
     "metadata": {},
     "output_type": "execute_result"
    }
   ],
   "source": [
    "train_data['clean_text'].iloc[4187]"
   ]
  },
  {
   "cell_type": "code",
   "execution_count": 24,
   "metadata": {},
   "outputs": [
    {
     "data": {
      "text/plain": [
       "\"Deepak Chopra's EPIC Twitter Meltdown http://t.co/ethgAGPy5G\""
      ]
     },
     "execution_count": 24,
     "metadata": {},
     "output_type": "execute_result"
    }
   ],
   "source": [
    "train_data['text'].iloc[4945]"
   ]
  },
  {
   "cell_type": "code",
   "execution_count": 25,
   "metadata": {},
   "outputs": [
    {
     "data": {
      "text/plain": [
       "'deepak chopra epic twitter meltdown'"
      ]
     },
     "execution_count": 25,
     "metadata": {},
     "output_type": "execute_result"
    }
   ],
   "source": [
    "train_data['clean_text'].iloc[4945]"
   ]
  },
  {
   "cell_type": "markdown",
   "metadata": {},
   "source": [
    "imbalance target "
   ]
  },
  {
   "cell_type": "code",
   "execution_count": 31,
   "metadata": {},
   "outputs": [
    {
     "data": {
      "text/plain": [
       "target\n",
       "0    4342\n",
       "1    3271\n",
       "Name: count, dtype: int64"
      ]
     },
     "execution_count": 31,
     "metadata": {},
     "output_type": "execute_result"
    }
   ],
   "source": [
    "train_data['target'].value_counts()"
   ]
  },
  {
   "cell_type": "code",
   "execution_count": 32,
   "metadata": {},
   "outputs": [
    {
     "data": {
      "text/plain": [
       "target\n",
       "0    0.57034\n",
       "1    0.42966\n",
       "Name: proportion, dtype: float64"
      ]
     },
     "execution_count": 32,
     "metadata": {},
     "output_type": "execute_result"
    }
   ],
   "source": [
    "train_data['target'].value_counts(normalize=True)"
   ]
  },
  {
   "cell_type": "markdown",
   "metadata": {},
   "source": [
    "plot imbalance between classes"
   ]
  },
  {
   "cell_type": "code",
   "execution_count": 33,
   "metadata": {},
   "outputs": [
    {
     "name": "stderr",
     "output_type": "stream",
     "text": [
      "c:\\Users\\CENTER_ELRahama\\AppData\\Local\\Programs\\Python\\Python311\\Lib\\site-packages\\seaborn\\_oldcore.py:1498: FutureWarning: is_categorical_dtype is deprecated and will be removed in a future version. Use isinstance(dtype, CategoricalDtype) instead\n",
      "  if pd.api.types.is_categorical_dtype(vector):\n",
      "c:\\Users\\CENTER_ELRahama\\AppData\\Local\\Programs\\Python\\Python311\\Lib\\site-packages\\seaborn\\_oldcore.py:1498: FutureWarning: is_categorical_dtype is deprecated and will be removed in a future version. Use isinstance(dtype, CategoricalDtype) instead\n",
      "  if pd.api.types.is_categorical_dtype(vector):\n",
      "c:\\Users\\CENTER_ELRahama\\AppData\\Local\\Programs\\Python\\Python311\\Lib\\site-packages\\seaborn\\_oldcore.py:1498: FutureWarning: is_categorical_dtype is deprecated and will be removed in a future version. Use isinstance(dtype, CategoricalDtype) instead\n",
      "  if pd.api.types.is_categorical_dtype(vector):\n"
     ]
    },
    {
     "data": {
      "image/png": "[encoded data removed]",
      "text/plain": [
       "<Figure size 640x480 with 1 Axes>"
      ]
     },
     "metadata": {},
     "output_type": "display_data"
    }
   ],
   "source": [
    "ax= sns.countplot(x=train_data['target'],\n",
    "                  data=train_data)\n",
    "\n",
    "for p in ax.patches:\n",
    "    x= p.get_bbox().get_points()[:,0] \n",
    "    y= p.get_bbox().get_points()[1,1]\n",
    "    ax.annotate(f'{y:.0f}', (x.mean(), y), ha='center',va='bottom')\n",
    "    \n",
    "plt.title(\"Target rating is imbalance\")\n",
    "plt.show()"
   ]
  },
  {
   "cell_type": "markdown",
   "metadata": {},
   "source": [
    "handel imbalanced classes"
   ]
  },
  {
   "cell_type": "code",
   "execution_count": 34,
   "metadata": {},
   "outputs": [],
   "source": [
    "from sklearn.utils import shuffle, resample"
   ]
  },
  {
   "cell_type": "code",
   "execution_count": 35,
   "metadata": {},
   "outputs": [
    {
     "name": "stdout",
     "output_type": "stream",
     "text": [
      "Number of rows after upsampling: \n",
      "Not Disaster Data: 4342 \n",
      "Disaster Data: 4342\n"
     ]
    }
   ],
   "source": [
    "df2 = train_data\n",
    "\n",
    "not_disaster_data = train_data[train_data['target'] == 0]\n",
    "disaster_data = train_data[train_data['target'] == 1]\n",
    "disaster_data = resample(disaster_data, replace=True, n_samples=len(not_disaster_data))\n",
    "\n",
    "df2 = pd.concat([not_disaster_data, disaster_data], axis=0)\n",
    "\n",
    "balanced_train_data = shuffle(df2)\n",
    "\n",
    "print(\"Number of rows after upsampling: \\nNot Disaster Data:\", len(balanced_train_data[balanced_train_data[\"target\"] == 0]), \n",
    "      \"\\nDisaster Data:\", len(balanced_train_data[balanced_train_data[\"target\"] == 1]))"
   ]
  },
  {
   "cell_type": "code",
   "execution_count": 36,
   "metadata": {},
   "outputs": [
    {
     "name": "stderr",
     "output_type": "stream",
     "text": [
      "c:\\Users\\CENTER_ELRahama\\AppData\\Local\\Programs\\Python\\Python311\\Lib\\site-packages\\seaborn\\_oldcore.py:1498: FutureWarning: is_categorical_dtype is deprecated and will be removed in a future version. Use isinstance(dtype, CategoricalDtype) instead\n",
      "  if pd.api.types.is_categorical_dtype(vector):\n",
      "c:\\Users\\CENTER_ELRahama\\AppData\\Local\\Programs\\Python\\Python311\\Lib\\site-packages\\seaborn\\_oldcore.py:1498: FutureWarning: is_categorical_dtype is deprecated and will be removed in a future version. Use isinstance(dtype, CategoricalDtype) instead\n",
      "  if pd.api.types.is_categorical_dtype(vector):\n",
      "c:\\Users\\CENTER_ELRahama\\AppData\\Local\\Programs\\Python\\Python311\\Lib\\site-packages\\seaborn\\_oldcore.py:1498: FutureWarning: is_categorical_dtype is deprecated and will be removed in a future version. Use isinstance(dtype, CategoricalDtype) instead\n",
      "  if pd.api.types.is_categorical_dtype(vector):\n"
     ]
    },
    {
     "data": {
      "image/png": "[encoded data removed]",
      "text/plain": [
       "<Figure size 640x480 with 1 Axes>"
      ]
     },
     "metadata": {},
     "output_type": "display_data"
    }
   ],
   "source": [
    "ax= sns.countplot(x=balanced_train_data['target'],\n",
    "                  data=balanced_train_data)\n",
    "\n",
    "for p in ax.patches:\n",
    "    x= p.get_bbox().get_points()[:,0] \n",
    "    y= p.get_bbox().get_points()[1,1]\n",
    "    ax.annotate(f'{y:.0f}', (x.mean(), y), ha='center',va='bottom')\n",
    "    \n",
    "plt.title(\"Target rating is balance\")\n",
    "plt.show()"
   ]
  },
  {
   "cell_type": "markdown",
   "metadata": {},
   "source": [
    "split data"
   ]
  },
  {
   "cell_type": "code",
   "execution_count": 37,
   "metadata": {},
   "outputs": [],
   "source": [
    "from sklearn.model_selection import train_test_split"
   ]
  },
  {
   "cell_type": "code",
   "execution_count": 38,
   "metadata": {},
   "outputs": [
    {
     "data": {
      "text/html": [
       "<div>\n",
       "<style scoped>\n",
       "    .dataframe tbody tr th:only-of-type {\n",
       "        vertical-align: middle;\n",
       "    }\n",
       "\n",
       "    .dataframe tbody tr th {\n",
       "        vertical-align: top;\n",
       "    }\n",
       "\n",
       "    .dataframe thead th {\n",
       "        text-align: right;\n",
       "    }\n",
       "</style>\n",
       "<table border=\"1\" class=\"dataframe\">\n",
       "  <thead>\n",
       "    <tr style=\"text-align: right;\">\n",
       "      <th></th>\n",
       "      <th>text</th>\n",
       "      <th>target</th>\n",
       "      <th>no_tokens</th>\n",
       "      <th>clean_text</th>\n",
       "    </tr>\n",
       "  </thead>\n",
       "  <tbody>\n",
       "    <tr>\n",
       "      <th>1773</th>\n",
       "      <td>Motorcyclist bicyclist injured in Denver colli...</td>\n",
       "      <td>1</td>\n",
       "      <td>9</td>\n",
       "      <td>motorcyclist bicyclist injur denver collis bro...</td>\n",
       "    </tr>\n",
       "    <tr>\n",
       "      <th>5365</th>\n",
       "      <td>Is it time to panic now? https://t.co/OrxDQfz0J0</td>\n",
       "      <td>0</td>\n",
       "      <td>7</td>\n",
       "      <td>time panic</td>\n",
       "    </tr>\n",
       "    <tr>\n",
       "      <th>3357</th>\n",
       "      <td>Rocky fire in Northern California swells to 60...</td>\n",
       "      <td>1</td>\n",
       "      <td>17</td>\n",
       "      <td>rocki fire northern california swell acr evacu...</td>\n",
       "    </tr>\n",
       "    <tr>\n",
       "      <th>1425</th>\n",
       "      <td>Afghanistan: sharp rise in women and children ...</td>\n",
       "      <td>1</td>\n",
       "      <td>14</td>\n",
       "      <td>afghanistan sharp rise woman child casualti fi...</td>\n",
       "    </tr>\n",
       "    <tr>\n",
       "      <th>4980</th>\n",
       "      <td>@YMcglaun THANK YOU FOR UNDERSTANDING  THE GOV...</td>\n",
       "      <td>0</td>\n",
       "      <td>25</td>\n",
       "      <td>ymcglaun thank understand gov tell what realli...</td>\n",
       "    </tr>\n",
       "  </tbody>\n",
       "</table>\n",
       "</div>"
      ],
      "text/plain": [
       "                                                   text  target  no_tokens  \\\n",
       "1773  Motorcyclist bicyclist injured in Denver colli...       1          9   \n",
       "5365   Is it time to panic now? https://t.co/OrxDQfz0J0       0          7   \n",
       "3357  Rocky fire in Northern California swells to 60...       1         17   \n",
       "1425  Afghanistan: sharp rise in women and children ...       1         14   \n",
       "4980  @YMcglaun THANK YOU FOR UNDERSTANDING  THE GOV...       0         25   \n",
       "\n",
       "                                             clean_text  \n",
       "1773  motorcyclist bicyclist injur denver collis bro...  \n",
       "5365                                         time panic  \n",
       "3357  rocki fire northern california swell acr evacu...  \n",
       "1425  afghanistan sharp rise woman child casualti fi...  \n",
       "4980  ymcglaun thank understand gov tell what realli...  "
      ]
     },
     "execution_count": 38,
     "metadata": {},
     "output_type": "execute_result"
    }
   ],
   "source": [
    "balanced_train_data.head()"
   ]
  },
  {
   "cell_type": "code",
   "execution_count": 39,
   "metadata": {},
   "outputs": [],
   "source": [
    "X_train, X_test, y_train, y_test = train_test_split(balanced_train_data['clean_text'], balanced_train_data['target'], test_size=0.2, random_state=7)"
   ]
  },
  {
   "cell_type": "code",
   "execution_count": 40,
   "metadata": {},
   "outputs": [
    {
     "name": "stdout",
     "output_type": "stream",
     "text": [
      "(6947,)\n",
      "(1737,)\n",
      "(6947,)\n",
      "(1737,)\n"
     ]
    }
   ],
   "source": [
    "print(X_train.shape)\n",
    "print(X_test.shape)\n",
    "print(y_train.shape)\n",
    "print(y_test.shape)"
   ]
  },
  {
   "cell_type": "markdown",
   "metadata": {},
   "source": [
    "# Build Pipline"
   ]
  },
  {
   "cell_type": "code",
   "execution_count": 41,
   "metadata": {},
   "outputs": [],
   "source": [
    "from sklearn.pipeline import Pipeline"
   ]
  },
  {
   "cell_type": "markdown",
   "metadata": {},
   "source": [
    "apply vectorization"
   ]
  },
  {
   "cell_type": "code",
   "execution_count": 42,
   "metadata": {},
   "outputs": [],
   "source": [
    "from sklearn.feature_extraction.text import TfidfVectorizer\n"
   ]
  },
  {
   "cell_type": "markdown",
   "metadata": {},
   "source": [
    "apply model"
   ]
  },
  {
   "cell_type": "code",
   "execution_count": 43,
   "metadata": {},
   "outputs": [],
   "source": [
    "from sklearn.naive_bayes import MultinomialNB\n"
   ]
  },
  {
   "cell_type": "code",
   "execution_count": 44,
   "metadata": {},
   "outputs": [],
   "source": [
    "pipeline = Pipeline([\n",
    "    ('tfidf', TfidfVectorizer()),\n",
    "    ('nb', MultinomialNB())\n",
    "])"
   ]
  },
  {
   "cell_type": "markdown",
   "metadata": {},
   "source": [
    "apply grid search for hyperparameters"
   ]
  },
  {
   "cell_type": "code",
   "execution_count": 45,
   "metadata": {},
   "outputs": [],
   "source": [
    "from sklearn.model_selection import GridSearchCV"
   ]
  },
  {
   "cell_type": "markdown",
   "metadata": {},
   "source": [
    "define new hyperparameters "
   ]
  },
  {
   "cell_type": "code",
   "execution_count": 46,
   "metadata": {},
   "outputs": [],
   "source": [
    "params = {\n",
    "    'tfidf__ngram_range': [(1,1), (1,2)],\n",
    "    'tfidf__max_df': [0.5, 0.75, 1.0],\n",
    "    'tfidf__min_df': [1, 2, 5],\n",
    "    'nb__alpha': [0.1, 0.5, 1.0],\n",
    "}"
   ]
  },
  {
   "cell_type": "markdown",
   "metadata": {},
   "source": [
    "get the best hyperparameters"
   ]
  },
  {
   "cell_type": "code",
   "execution_count": 47,
   "metadata": {},
   "outputs": [],
   "source": [
    "grid_search = GridSearchCV(estimator= pipeline, \n",
    "                           param_grid= params, \n",
    "                           cv= 5)"
   ]
  },
  {
   "cell_type": "markdown",
   "metadata": {},
   "source": [
    "fit grid search "
   ]
  },
  {
   "cell_type": "code",
   "execution_count": 48,
   "metadata": {},
   "outputs": [
    {
     "data": {
      "text/html": [
       "<style>#sk-container-id-1 {color: black;}#sk-container-id-1 pre{padding: 0;}#sk-container-id-1 div.sk-toggleable {background-color: white;}#sk-container-id-1 label.sk-toggleable__label {cursor: pointer;display: block;width: 100%;margin-bottom: 0;padding: 0.3em;box-sizing: border-box;text-align: center;}#sk-container-id-1 label.sk-toggleable__label-arrow:before {content: \"▸\";float: left;margin-right: 0.25em;color: #696969;}#sk-container-id-1 label.sk-toggleable__label-arrow:hover:before {color: black;}#sk-container-id-1 div.sk-estimator:hover label.sk-toggleable__label-arrow:before {color: black;}#sk-container-id-1 div.sk-toggleable__content {max-height: 0;max-width: 0;overflow: hidden;text-align: left;background-color: #f0f8ff;}#sk-container-id-1 div.sk-toggleable__content pre {margin: 0.2em;color: black;border-radius: 0.25em;background-color: #f0f8ff;}#sk-container-id-1 input.sk-toggleable__control:checked~div.sk-toggleable__content {max-height: 200px;max-width: 100%;overflow: auto;}#sk-container-id-1 input.sk-toggleable__control:checked~label.sk-toggleable__label-arrow:before {content: \"▾\";}#sk-container-id-1 div.sk-estimator input.sk-toggleable__control:checked~label.sk-toggleable__label {background-color: #d4ebff;}#sk-container-id-1 div.sk-label input.sk-toggleable__control:checked~label.sk-toggleable__label {background-color: #d4ebff;}#sk-container-id-1 input.sk-hidden--visually {border: 0;clip: rect(1px 1px 1px 1px);clip: rect(1px, 1px, 1px, 1px);height: 1px;margin: -1px;overflow: hidden;padding: 0;position: absolute;width: 1px;}#sk-container-id-1 div.sk-estimator {font-family: monospace;background-color: #f0f8ff;border: 1px dotted black;border-radius: 0.25em;box-sizing: border-box;margin-bottom: 0.5em;}#sk-container-id-1 div.sk-estimator:hover {background-color: #d4ebff;}#sk-container-id-1 div.sk-parallel-item::after {content: \"\";width: 100%;border-bottom: 1px solid gray;flex-grow: 1;}#sk-container-id-1 div.sk-label:hover label.sk-toggleable__label {background-color: #d4ebff;}#sk-container-id-1 div.sk-serial::before {content: \"\";position: absolute;border-left: 1px solid gray;box-sizing: border-box;top: 0;bottom: 0;left: 50%;z-index: 0;}#sk-container-id-1 div.sk-serial {display: flex;flex-direction: column;align-items: center;background-color: white;padding-right: 0.2em;padding-left: 0.2em;position: relative;}#sk-container-id-1 div.sk-item {position: relative;z-index: 1;}#sk-container-id-1 div.sk-parallel {display: flex;align-items: stretch;justify-content: center;background-color: white;position: relative;}#sk-container-id-1 div.sk-item::before, #sk-container-id-1 div.sk-parallel-item::before {content: \"\";position: absolute;border-left: 1px solid gray;box-sizing: border-box;top: 0;bottom: 0;left: 50%;z-index: -1;}#sk-container-id-1 div.sk-parallel-item {display: flex;flex-direction: column;z-index: 1;position: relative;background-color: white;}#sk-container-id-1 div.sk-parallel-item:first-child::after {align-self: flex-end;width: 50%;}#sk-container-id-1 div.sk-parallel-item:last-child::after {align-self: flex-start;width: 50%;}#sk-container-id-1 div.sk-parallel-item:only-child::after {width: 0;}#sk-container-id-1 div.sk-dashed-wrapped {border: 1px dashed gray;margin: 0 0.4em 0.5em 0.4em;box-sizing: border-box;padding-bottom: 0.4em;background-color: white;}#sk-container-id-1 div.sk-label label {font-family: monospace;font-weight: bold;display: inline-block;line-height: 1.2em;}#sk-container-id-1 div.sk-label-container {text-align: center;}#sk-container-id-1 div.sk-container {/* jupyter's `normalize.less` sets `[hidden] { display: none; }` but bootstrap.min.css set `[hidden] { display: none !important; }` so we also need the `!important` here to be able to override the default hidden behavior on the sphinx rendered scikit-learn.org. See: https://github.com/scikit-learn/scikit-learn/issues/21755 */display: inline-block !important;position: relative;}#sk-container-id-1 div.sk-text-repr-fallback {display: none;}</style><div id=\"sk-container-id-1\" class=\"sk-top-container\"><div class=\"sk-text-repr-fallback\"><pre>GridSearchCV(cv=5,\n",
       "             estimator=Pipeline(steps=[(&#x27;tfidf&#x27;, TfidfVectorizer()),\n",
       "                                       (&#x27;nb&#x27;, MultinomialNB())]),\n",
       "             param_grid={&#x27;nb__alpha&#x27;: [0.1, 0.5, 1.0],\n",
       "                         &#x27;tfidf__max_df&#x27;: [0.5, 0.75, 1.0],\n",
       "                         &#x27;tfidf__min_df&#x27;: [1, 2, 5],\n",
       "                         &#x27;tfidf__ngram_range&#x27;: [(1, 1), (1, 2)]})</pre><b>In a Jupyter environment, please rerun this cell to show the HTML representation or trust the notebook. <br />On GitHub, the HTML representation is unable to render, please try loading this page with nbviewer.org.</b></div><div class=\"sk-container\" hidden><div class=\"sk-item sk-dashed-wrapped\"><div class=\"sk-label-container\"><div class=\"sk-label sk-toggleable\"><input class=\"sk-toggleable__control sk-hidden--visually\" id=\"sk-estimator-id-1\" type=\"checkbox\" ><label for=\"sk-estimator-id-1\" class=\"sk-toggleable__label sk-toggleable__label-arrow\">GridSearchCV</label><div class=\"sk-toggleable__content\"><pre>GridSearchCV(cv=5,\n",
       "             estimator=Pipeline(steps=[(&#x27;tfidf&#x27;, TfidfVectorizer()),\n",
       "                                       (&#x27;nb&#x27;, MultinomialNB())]),\n",
       "             param_grid={&#x27;nb__alpha&#x27;: [0.1, 0.5, 1.0],\n",
       "                         &#x27;tfidf__max_df&#x27;: [0.5, 0.75, 1.0],\n",
       "                         &#x27;tfidf__min_df&#x27;: [1, 2, 5],\n",
       "                         &#x27;tfidf__ngram_range&#x27;: [(1, 1), (1, 2)]})</pre></div></div></div><div class=\"sk-parallel\"><div class=\"sk-parallel-item\"><div class=\"sk-item\"><div class=\"sk-label-container\"><div class=\"sk-label sk-toggleable\"><input class=\"sk-toggleable__control sk-hidden--visually\" id=\"sk-estimator-id-2\" type=\"checkbox\" ><label for=\"sk-estimator-id-2\" class=\"sk-toggleable__label sk-toggleable__label-arrow\">estimator: Pipeline</label><div class=\"sk-toggleable__content\"><pre>Pipeline(steps=[(&#x27;tfidf&#x27;, TfidfVectorizer()), (&#x27;nb&#x27;, MultinomialNB())])</pre></div></div></div><div class=\"sk-serial\"><div class=\"sk-item\"><div class=\"sk-serial\"><div class=\"sk-item\"><div class=\"sk-estimator sk-toggleable\"><input class=\"sk-toggleable__control sk-hidden--visually\" id=\"sk-estimator-id-3\" type=\"checkbox\" ><label for=\"sk-estimator-id-3\" class=\"sk-toggleable__label sk-toggleable__label-arrow\">TfidfVectorizer</label><div class=\"sk-toggleable__content\"><pre>TfidfVectorizer()</pre></div></div></div><div class=\"sk-item\"><div class=\"sk-estimator sk-toggleable\"><input class=\"sk-toggleable__control sk-hidden--visually\" id=\"sk-estimator-id-4\" type=\"checkbox\" ><label for=\"sk-estimator-id-4\" class=\"sk-toggleable__label sk-toggleable__label-arrow\">MultinomialNB</label><div class=\"sk-toggleable__content\"><pre>MultinomialNB()</pre></div></div></div></div></div></div></div></div></div></div></div></div>"
      ],
      "text/plain": [
       "GridSearchCV(cv=5,\n",
       "             estimator=Pipeline(steps=[('tfidf', TfidfVectorizer()),\n",
       "                                       ('nb', MultinomialNB())]),\n",
       "             param_grid={'nb__alpha': [0.1, 0.5, 1.0],\n",
       "                         'tfidf__max_df': [0.5, 0.75, 1.0],\n",
       "                         'tfidf__min_df': [1, 2, 5],\n",
       "                         'tfidf__ngram_range': [(1, 1), (1, 2)]})"
      ]
     },
     "execution_count": 48,
     "metadata": {},
     "output_type": "execute_result"
    }
   ],
   "source": [
    "grid_search.fit(X_train, y_train)"
   ]
  },
  {
   "cell_type": "markdown",
   "metadata": {},
   "source": [
    "params for each iteration"
   ]
  },
  {
   "cell_type": "code",
   "execution_count": 49,
   "metadata": {},
   "outputs": [
    {
     "data": {
      "text/html": [
       "<div>\n",
       "<style scoped>\n",
       "    .dataframe tbody tr th:only-of-type {\n",
       "        vertical-align: middle;\n",
       "    }\n",
       "\n",
       "    .dataframe tbody tr th {\n",
       "        vertical-align: top;\n",
       "    }\n",
       "\n",
       "    .dataframe thead th {\n",
       "        text-align: right;\n",
       "    }\n",
       "</style>\n",
       "<table border=\"1\" class=\"dataframe\">\n",
       "  <thead>\n",
       "    <tr style=\"text-align: right;\">\n",
       "      <th></th>\n",
       "      <th>mean_fit_time</th>\n",
       "      <th>std_fit_time</th>\n",
       "      <th>mean_score_time</th>\n",
       "      <th>std_score_time</th>\n",
       "      <th>param_nb__alpha</th>\n",
       "      <th>param_tfidf__max_df</th>\n",
       "      <th>param_tfidf__min_df</th>\n",
       "      <th>param_tfidf__ngram_range</th>\n",
       "      <th>params</th>\n",
       "      <th>split0_test_score</th>\n",
       "      <th>split1_test_score</th>\n",
       "      <th>split2_test_score</th>\n",
       "      <th>split3_test_score</th>\n",
       "      <th>split4_test_score</th>\n",
       "      <th>mean_test_score</th>\n",
       "      <th>std_test_score</th>\n",
       "      <th>rank_test_score</th>\n",
       "    </tr>\n",
       "  </thead>\n",
       "  <tbody>\n",
       "    <tr>\n",
       "      <th>0</th>\n",
       "      <td>0.218536</td>\n",
       "      <td>0.035599</td>\n",
       "      <td>0.052390</td>\n",
       "      <td>0.013631</td>\n",
       "      <td>0.1</td>\n",
       "      <td>0.5</td>\n",
       "      <td>1</td>\n",
       "      <td>(1, 1)</td>\n",
       "      <td>{'nb__alpha': 0.1, 'tfidf__max_df': 0.5, 'tfid...</td>\n",
       "      <td>0.841007</td>\n",
       "      <td>0.832374</td>\n",
       "      <td>0.830094</td>\n",
       "      <td>0.828654</td>\n",
       "      <td>0.846652</td>\n",
       "      <td>0.835756</td>\n",
       "      <td>0.006932</td>\n",
       "      <td>10</td>\n",
       "    </tr>\n",
       "    <tr>\n",
       "      <th>1</th>\n",
       "      <td>0.399855</td>\n",
       "      <td>0.114722</td>\n",
       "      <td>0.056223</td>\n",
       "      <td>0.016060</td>\n",
       "      <td>0.1</td>\n",
       "      <td>0.5</td>\n",
       "      <td>1</td>\n",
       "      <td>(1, 2)</td>\n",
       "      <td>{'nb__alpha': 0.1, 'tfidf__max_df': 0.5, 'tfid...</td>\n",
       "      <td>0.851799</td>\n",
       "      <td>0.846763</td>\n",
       "      <td>0.853132</td>\n",
       "      <td>0.838733</td>\n",
       "      <td>0.856012</td>\n",
       "      <td>0.849287</td>\n",
       "      <td>0.006067</td>\n",
       "      <td>1</td>\n",
       "    </tr>\n",
       "    <tr>\n",
       "      <th>2</th>\n",
       "      <td>0.095863</td>\n",
       "      <td>0.014379</td>\n",
       "      <td>0.029441</td>\n",
       "      <td>0.006061</td>\n",
       "      <td>0.1</td>\n",
       "      <td>0.5</td>\n",
       "      <td>2</td>\n",
       "      <td>(1, 1)</td>\n",
       "      <td>{'nb__alpha': 0.1, 'tfidf__max_df': 0.5, 'tfid...</td>\n",
       "      <td>0.812950</td>\n",
       "      <td>0.825899</td>\n",
       "      <td>0.806335</td>\n",
       "      <td>0.804896</td>\n",
       "      <td>0.830814</td>\n",
       "      <td>0.816179</td>\n",
       "      <td>0.010424</td>\n",
       "      <td>31</td>\n",
       "    </tr>\n",
       "    <tr>\n",
       "      <th>3</th>\n",
       "      <td>0.248505</td>\n",
       "      <td>0.012611</td>\n",
       "      <td>0.051656</td>\n",
       "      <td>0.005496</td>\n",
       "      <td>0.1</td>\n",
       "      <td>0.5</td>\n",
       "      <td>2</td>\n",
       "      <td>(1, 2)</td>\n",
       "      <td>{'nb__alpha': 0.1, 'tfidf__max_df': 0.5, 'tfid...</td>\n",
       "      <td>0.820144</td>\n",
       "      <td>0.821583</td>\n",
       "      <td>0.811375</td>\n",
       "      <td>0.820734</td>\n",
       "      <td>0.839453</td>\n",
       "      <td>0.822658</td>\n",
       "      <td>0.009171</td>\n",
       "      <td>22</td>\n",
       "    </tr>\n",
       "    <tr>\n",
       "      <th>4</th>\n",
       "      <td>0.133309</td>\n",
       "      <td>0.025721</td>\n",
       "      <td>0.036178</td>\n",
       "      <td>0.006854</td>\n",
       "      <td>0.1</td>\n",
       "      <td>0.5</td>\n",
       "      <td>5</td>\n",
       "      <td>(1, 1)</td>\n",
       "      <td>{'nb__alpha': 0.1, 'tfidf__max_df': 0.5, 'tfid...</td>\n",
       "      <td>0.789928</td>\n",
       "      <td>0.799281</td>\n",
       "      <td>0.798416</td>\n",
       "      <td>0.784017</td>\n",
       "      <td>0.815695</td>\n",
       "      <td>0.797467</td>\n",
       "      <td>0.010716</td>\n",
       "      <td>52</td>\n",
       "    </tr>\n",
       "    <tr>\n",
       "      <th>5</th>\n",
       "      <td>0.268308</td>\n",
       "      <td>0.045762</td>\n",
       "      <td>0.068783</td>\n",
       "      <td>0.020021</td>\n",
       "      <td>0.1</td>\n",
       "      <td>0.5</td>\n",
       "      <td>5</td>\n",
       "      <td>(1, 2)</td>\n",
       "      <td>{'nb__alpha': 0.1, 'tfidf__max_df': 0.5, 'tfid...</td>\n",
       "      <td>0.794245</td>\n",
       "      <td>0.800719</td>\n",
       "      <td>0.799856</td>\n",
       "      <td>0.783297</td>\n",
       "      <td>0.822894</td>\n",
       "      <td>0.800202</td>\n",
       "      <td>0.012935</td>\n",
       "      <td>37</td>\n",
       "    </tr>\n",
       "    <tr>\n",
       "      <th>6</th>\n",
       "      <td>0.178673</td>\n",
       "      <td>0.007898</td>\n",
       "      <td>0.045989</td>\n",
       "      <td>0.009958</td>\n",
       "      <td>0.1</td>\n",
       "      <td>0.75</td>\n",
       "      <td>1</td>\n",
       "      <td>(1, 1)</td>\n",
       "      <td>{'nb__alpha': 0.1, 'tfidf__max_df': 0.75, 'tfi...</td>\n",
       "      <td>0.841007</td>\n",
       "      <td>0.832374</td>\n",
       "      <td>0.830094</td>\n",
       "      <td>0.828654</td>\n",
       "      <td>0.846652</td>\n",
       "      <td>0.835756</td>\n",
       "      <td>0.006932</td>\n",
       "      <td>10</td>\n",
       "    </tr>\n",
       "    <tr>\n",
       "      <th>7</th>\n",
       "      <td>0.691752</td>\n",
       "      <td>0.119520</td>\n",
       "      <td>0.102242</td>\n",
       "      <td>0.035517</td>\n",
       "      <td>0.1</td>\n",
       "      <td>0.75</td>\n",
       "      <td>1</td>\n",
       "      <td>(1, 2)</td>\n",
       "      <td>{'nb__alpha': 0.1, 'tfidf__max_df': 0.75, 'tfi...</td>\n",
       "      <td>0.851799</td>\n",
       "      <td>0.846763</td>\n",
       "      <td>0.853132</td>\n",
       "      <td>0.838733</td>\n",
       "      <td>0.856012</td>\n",
       "      <td>0.849287</td>\n",
       "      <td>0.006067</td>\n",
       "      <td>1</td>\n",
       "    </tr>\n",
       "    <tr>\n",
       "      <th>8</th>\n",
       "      <td>0.195252</td>\n",
       "      <td>0.063218</td>\n",
       "      <td>0.046633</td>\n",
       "      <td>0.016392</td>\n",
       "      <td>0.1</td>\n",
       "      <td>0.75</td>\n",
       "      <td>2</td>\n",
       "      <td>(1, 1)</td>\n",
       "      <td>{'nb__alpha': 0.1, 'tfidf__max_df': 0.75, 'tfi...</td>\n",
       "      <td>0.812950</td>\n",
       "      <td>0.825899</td>\n",
       "      <td>0.806335</td>\n",
       "      <td>0.804896</td>\n",
       "      <td>0.830814</td>\n",
       "      <td>0.816179</td>\n",
       "      <td>0.010424</td>\n",
       "      <td>31</td>\n",
       "    </tr>\n",
       "    <tr>\n",
       "      <th>9</th>\n",
       "      <td>0.318428</td>\n",
       "      <td>0.133164</td>\n",
       "      <td>0.047784</td>\n",
       "      <td>0.011179</td>\n",
       "      <td>0.1</td>\n",
       "      <td>0.75</td>\n",
       "      <td>2</td>\n",
       "      <td>(1, 2)</td>\n",
       "      <td>{'nb__alpha': 0.1, 'tfidf__max_df': 0.75, 'tfi...</td>\n",
       "      <td>0.820144</td>\n",
       "      <td>0.821583</td>\n",
       "      <td>0.811375</td>\n",
       "      <td>0.820734</td>\n",
       "      <td>0.839453</td>\n",
       "      <td>0.822658</td>\n",
       "      <td>0.009171</td>\n",
       "      <td>22</td>\n",
       "    </tr>\n",
       "    <tr>\n",
       "      <th>10</th>\n",
       "      <td>0.137418</td>\n",
       "      <td>0.031599</td>\n",
       "      <td>0.037508</td>\n",
       "      <td>0.010165</td>\n",
       "      <td>0.1</td>\n",
       "      <td>0.75</td>\n",
       "      <td>5</td>\n",
       "      <td>(1, 1)</td>\n",
       "      <td>{'nb__alpha': 0.1, 'tfidf__max_df': 0.75, 'tfi...</td>\n",
       "      <td>0.789928</td>\n",
       "      <td>0.799281</td>\n",
       "      <td>0.798416</td>\n",
       "      <td>0.784017</td>\n",
       "      <td>0.815695</td>\n",
       "      <td>0.797467</td>\n",
       "      <td>0.010716</td>\n",
       "      <td>52</td>\n",
       "    </tr>\n",
       "    <tr>\n",
       "      <th>11</th>\n",
       "      <td>0.300171</td>\n",
       "      <td>0.062328</td>\n",
       "      <td>0.060372</td>\n",
       "      <td>0.020831</td>\n",
       "      <td>0.1</td>\n",
       "      <td>0.75</td>\n",
       "      <td>5</td>\n",
       "      <td>(1, 2)</td>\n",
       "      <td>{'nb__alpha': 0.1, 'tfidf__max_df': 0.75, 'tfi...</td>\n",
       "      <td>0.794245</td>\n",
       "      <td>0.800719</td>\n",
       "      <td>0.799856</td>\n",
       "      <td>0.783297</td>\n",
       "      <td>0.822894</td>\n",
       "      <td>0.800202</td>\n",
       "      <td>0.012935</td>\n",
       "      <td>37</td>\n",
       "    </tr>\n",
       "    <tr>\n",
       "      <th>12</th>\n",
       "      <td>0.231518</td>\n",
       "      <td>0.033305</td>\n",
       "      <td>0.051979</td>\n",
       "      <td>0.030190</td>\n",
       "      <td>0.1</td>\n",
       "      <td>1.0</td>\n",
       "      <td>1</td>\n",
       "      <td>(1, 1)</td>\n",
       "      <td>{'nb__alpha': 0.1, 'tfidf__max_df': 1.0, 'tfid...</td>\n",
       "      <td>0.841007</td>\n",
       "      <td>0.832374</td>\n",
       "      <td>0.830094</td>\n",
       "      <td>0.828654</td>\n",
       "      <td>0.846652</td>\n",
       "      <td>0.835756</td>\n",
       "      <td>0.006932</td>\n",
       "      <td>10</td>\n",
       "    </tr>\n",
       "    <tr>\n",
       "      <th>13</th>\n",
       "      <td>0.418003</td>\n",
       "      <td>0.102319</td>\n",
       "      <td>0.078624</td>\n",
       "      <td>0.010186</td>\n",
       "      <td>0.1</td>\n",
       "      <td>1.0</td>\n",
       "      <td>1</td>\n",
       "      <td>(1, 2)</td>\n",
       "      <td>{'nb__alpha': 0.1, 'tfidf__max_df': 1.0, 'tfid...</td>\n",
       "      <td>0.851799</td>\n",
       "      <td>0.846763</td>\n",
       "      <td>0.853132</td>\n",
       "      <td>0.838733</td>\n",
       "      <td>0.856012</td>\n",
       "      <td>0.849287</td>\n",
       "      <td>0.006067</td>\n",
       "      <td>1</td>\n",
       "    </tr>\n",
       "    <tr>\n",
       "      <th>14</th>\n",
       "      <td>0.130264</td>\n",
       "      <td>0.021500</td>\n",
       "      <td>0.022912</td>\n",
       "      <td>0.009039</td>\n",
       "      <td>0.1</td>\n",
       "      <td>1.0</td>\n",
       "      <td>2</td>\n",
       "      <td>(1, 1)</td>\n",
       "      <td>{'nb__alpha': 0.1, 'tfidf__max_df': 1.0, 'tfid...</td>\n",
       "      <td>0.812950</td>\n",
       "      <td>0.825899</td>\n",
       "      <td>0.806335</td>\n",
       "      <td>0.804896</td>\n",
       "      <td>0.830814</td>\n",
       "      <td>0.816179</td>\n",
       "      <td>0.010424</td>\n",
       "      <td>31</td>\n",
       "    </tr>\n",
       "    <tr>\n",
       "      <th>15</th>\n",
       "      <td>0.277784</td>\n",
       "      <td>0.004088</td>\n",
       "      <td>0.048310</td>\n",
       "      <td>0.005344</td>\n",
       "      <td>0.1</td>\n",
       "      <td>1.0</td>\n",
       "      <td>2</td>\n",
       "      <td>(1, 2)</td>\n",
       "      <td>{'nb__alpha': 0.1, 'tfidf__max_df': 1.0, 'tfid...</td>\n",
       "      <td>0.820144</td>\n",
       "      <td>0.821583</td>\n",
       "      <td>0.811375</td>\n",
       "      <td>0.820734</td>\n",
       "      <td>0.839453</td>\n",
       "      <td>0.822658</td>\n",
       "      <td>0.009171</td>\n",
       "      <td>22</td>\n",
       "    </tr>\n",
       "    <tr>\n",
       "      <th>16</th>\n",
       "      <td>0.114340</td>\n",
       "      <td>0.010213</td>\n",
       "      <td>0.026710</td>\n",
       "      <td>0.006476</td>\n",
       "      <td>0.1</td>\n",
       "      <td>1.0</td>\n",
       "      <td>5</td>\n",
       "      <td>(1, 1)</td>\n",
       "      <td>{'nb__alpha': 0.1, 'tfidf__max_df': 1.0, 'tfid...</td>\n",
       "      <td>0.789928</td>\n",
       "      <td>0.799281</td>\n",
       "      <td>0.798416</td>\n",
       "      <td>0.784017</td>\n",
       "      <td>0.815695</td>\n",
       "      <td>0.797467</td>\n",
       "      <td>0.010716</td>\n",
       "      <td>52</td>\n",
       "    </tr>\n",
       "    <tr>\n",
       "      <th>17</th>\n",
       "      <td>0.282870</td>\n",
       "      <td>0.028583</td>\n",
       "      <td>0.071335</td>\n",
       "      <td>0.015289</td>\n",
       "      <td>0.1</td>\n",
       "      <td>1.0</td>\n",
       "      <td>5</td>\n",
       "      <td>(1, 2)</td>\n",
       "      <td>{'nb__alpha': 0.1, 'tfidf__max_df': 1.0, 'tfid...</td>\n",
       "      <td>0.794245</td>\n",
       "      <td>0.800719</td>\n",
       "      <td>0.799856</td>\n",
       "      <td>0.783297</td>\n",
       "      <td>0.822894</td>\n",
       "      <td>0.800202</td>\n",
       "      <td>0.012935</td>\n",
       "      <td>37</td>\n",
       "    </tr>\n",
       "    <tr>\n",
       "      <th>18</th>\n",
       "      <td>0.166120</td>\n",
       "      <td>0.007390</td>\n",
       "      <td>0.032348</td>\n",
       "      <td>0.004740</td>\n",
       "      <td>0.5</td>\n",
       "      <td>0.5</td>\n",
       "      <td>1</td>\n",
       "      <td>(1, 1)</td>\n",
       "      <td>{'nb__alpha': 0.5, 'tfidf__max_df': 0.5, 'tfid...</td>\n",
       "      <td>0.833094</td>\n",
       "      <td>0.825899</td>\n",
       "      <td>0.830094</td>\n",
       "      <td>0.825774</td>\n",
       "      <td>0.839453</td>\n",
       "      <td>0.830863</td>\n",
       "      <td>0.005097</td>\n",
       "      <td>13</td>\n",
       "    </tr>\n",
       "    <tr>\n",
       "      <th>19</th>\n",
       "      <td>0.350758</td>\n",
       "      <td>0.032529</td>\n",
       "      <td>0.059576</td>\n",
       "      <td>0.018009</td>\n",
       "      <td>0.5</td>\n",
       "      <td>0.5</td>\n",
       "      <td>1</td>\n",
       "      <td>(1, 2)</td>\n",
       "      <td>{'nb__alpha': 0.5, 'tfidf__max_df': 0.5, 'tfid...</td>\n",
       "      <td>0.842446</td>\n",
       "      <td>0.841727</td>\n",
       "      <td>0.850252</td>\n",
       "      <td>0.839453</td>\n",
       "      <td>0.858891</td>\n",
       "      <td>0.846554</td>\n",
       "      <td>0.007162</td>\n",
       "      <td>4</td>\n",
       "    </tr>\n",
       "    <tr>\n",
       "      <th>20</th>\n",
       "      <td>0.194874</td>\n",
       "      <td>0.026445</td>\n",
       "      <td>0.044595</td>\n",
       "      <td>0.006210</td>\n",
       "      <td>0.5</td>\n",
       "      <td>0.5</td>\n",
       "      <td>2</td>\n",
       "      <td>(1, 1)</td>\n",
       "      <td>{'nb__alpha': 0.5, 'tfidf__max_df': 0.5, 'tfid...</td>\n",
       "      <td>0.810791</td>\n",
       "      <td>0.819424</td>\n",
       "      <td>0.812095</td>\n",
       "      <td>0.813535</td>\n",
       "      <td>0.835133</td>\n",
       "      <td>0.818196</td>\n",
       "      <td>0.008968</td>\n",
       "      <td>28</td>\n",
       "    </tr>\n",
       "    <tr>\n",
       "      <th>21</th>\n",
       "      <td>0.212122</td>\n",
       "      <td>0.017962</td>\n",
       "      <td>0.039582</td>\n",
       "      <td>0.005211</td>\n",
       "      <td>0.5</td>\n",
       "      <td>0.5</td>\n",
       "      <td>2</td>\n",
       "      <td>(1, 2)</td>\n",
       "      <td>{'nb__alpha': 0.5, 'tfidf__max_df': 0.5, 'tfid...</td>\n",
       "      <td>0.818705</td>\n",
       "      <td>0.817986</td>\n",
       "      <td>0.817855</td>\n",
       "      <td>0.818575</td>\n",
       "      <td>0.840173</td>\n",
       "      <td>0.822659</td>\n",
       "      <td>0.008763</td>\n",
       "      <td>19</td>\n",
       "    </tr>\n",
       "    <tr>\n",
       "      <th>22</th>\n",
       "      <td>0.095147</td>\n",
       "      <td>0.019458</td>\n",
       "      <td>0.025544</td>\n",
       "      <td>0.007349</td>\n",
       "      <td>0.5</td>\n",
       "      <td>0.5</td>\n",
       "      <td>5</td>\n",
       "      <td>(1, 1)</td>\n",
       "      <td>{'nb__alpha': 0.5, 'tfidf__max_df': 0.5, 'tfid...</td>\n",
       "      <td>0.789928</td>\n",
       "      <td>0.799281</td>\n",
       "      <td>0.800576</td>\n",
       "      <td>0.785457</td>\n",
       "      <td>0.816415</td>\n",
       "      <td>0.798331</td>\n",
       "      <td>0.010671</td>\n",
       "      <td>49</td>\n",
       "    </tr>\n",
       "    <tr>\n",
       "      <th>23</th>\n",
       "      <td>0.194837</td>\n",
       "      <td>0.026376</td>\n",
       "      <td>0.038671</td>\n",
       "      <td>0.006001</td>\n",
       "      <td>0.5</td>\n",
       "      <td>0.5</td>\n",
       "      <td>5</td>\n",
       "      <td>(1, 2)</td>\n",
       "      <td>{'nb__alpha': 0.5, 'tfidf__max_df': 0.5, 'tfid...</td>\n",
       "      <td>0.792086</td>\n",
       "      <td>0.796403</td>\n",
       "      <td>0.802016</td>\n",
       "      <td>0.786897</td>\n",
       "      <td>0.820014</td>\n",
       "      <td>0.799483</td>\n",
       "      <td>0.011407</td>\n",
       "      <td>43</td>\n",
       "    </tr>\n",
       "    <tr>\n",
       "      <th>24</th>\n",
       "      <td>0.114464</td>\n",
       "      <td>0.008397</td>\n",
       "      <td>0.024315</td>\n",
       "      <td>0.006377</td>\n",
       "      <td>0.5</td>\n",
       "      <td>0.75</td>\n",
       "      <td>1</td>\n",
       "      <td>(1, 1)</td>\n",
       "      <td>{'nb__alpha': 0.5, 'tfidf__max_df': 0.75, 'tfi...</td>\n",
       "      <td>0.833094</td>\n",
       "      <td>0.825899</td>\n",
       "      <td>0.830094</td>\n",
       "      <td>0.825774</td>\n",
       "      <td>0.839453</td>\n",
       "      <td>0.830863</td>\n",
       "      <td>0.005097</td>\n",
       "      <td>13</td>\n",
       "    </tr>\n",
       "    <tr>\n",
       "      <th>25</th>\n",
       "      <td>0.468737</td>\n",
       "      <td>0.164634</td>\n",
       "      <td>0.084145</td>\n",
       "      <td>0.016997</td>\n",
       "      <td>0.5</td>\n",
       "      <td>0.75</td>\n",
       "      <td>1</td>\n",
       "      <td>(1, 2)</td>\n",
       "      <td>{'nb__alpha': 0.5, 'tfidf__max_df': 0.75, 'tfi...</td>\n",
       "      <td>0.842446</td>\n",
       "      <td>0.841727</td>\n",
       "      <td>0.850252</td>\n",
       "      <td>0.839453</td>\n",
       "      <td>0.858891</td>\n",
       "      <td>0.846554</td>\n",
       "      <td>0.007162</td>\n",
       "      <td>4</td>\n",
       "    </tr>\n",
       "    <tr>\n",
       "      <th>26</th>\n",
       "      <td>0.212433</td>\n",
       "      <td>0.031530</td>\n",
       "      <td>0.048004</td>\n",
       "      <td>0.008069</td>\n",
       "      <td>0.5</td>\n",
       "      <td>0.75</td>\n",
       "      <td>2</td>\n",
       "      <td>(1, 1)</td>\n",
       "      <td>{'nb__alpha': 0.5, 'tfidf__max_df': 0.75, 'tfi...</td>\n",
       "      <td>0.810791</td>\n",
       "      <td>0.819424</td>\n",
       "      <td>0.812095</td>\n",
       "      <td>0.813535</td>\n",
       "      <td>0.835133</td>\n",
       "      <td>0.818196</td>\n",
       "      <td>0.008968</td>\n",
       "      <td>28</td>\n",
       "    </tr>\n",
       "    <tr>\n",
       "      <th>27</th>\n",
       "      <td>0.413696</td>\n",
       "      <td>0.084331</td>\n",
       "      <td>0.095565</td>\n",
       "      <td>0.028682</td>\n",
       "      <td>0.5</td>\n",
       "      <td>0.75</td>\n",
       "      <td>2</td>\n",
       "      <td>(1, 2)</td>\n",
       "      <td>{'nb__alpha': 0.5, 'tfidf__max_df': 0.75, 'tfi...</td>\n",
       "      <td>0.818705</td>\n",
       "      <td>0.817986</td>\n",
       "      <td>0.817855</td>\n",
       "      <td>0.818575</td>\n",
       "      <td>0.840173</td>\n",
       "      <td>0.822659</td>\n",
       "      <td>0.008763</td>\n",
       "      <td>19</td>\n",
       "    </tr>\n",
       "    <tr>\n",
       "      <th>28</th>\n",
       "      <td>0.217029</td>\n",
       "      <td>0.020765</td>\n",
       "      <td>0.051769</td>\n",
       "      <td>0.007464</td>\n",
       "      <td>0.5</td>\n",
       "      <td>0.75</td>\n",
       "      <td>5</td>\n",
       "      <td>(1, 1)</td>\n",
       "      <td>{'nb__alpha': 0.5, 'tfidf__max_df': 0.75, 'tfi...</td>\n",
       "      <td>0.789928</td>\n",
       "      <td>0.799281</td>\n",
       "      <td>0.800576</td>\n",
       "      <td>0.785457</td>\n",
       "      <td>0.816415</td>\n",
       "      <td>0.798331</td>\n",
       "      <td>0.010671</td>\n",
       "      <td>49</td>\n",
       "    </tr>\n",
       "    <tr>\n",
       "      <th>29</th>\n",
       "      <td>0.344178</td>\n",
       "      <td>0.045844</td>\n",
       "      <td>0.094494</td>\n",
       "      <td>0.027327</td>\n",
       "      <td>0.5</td>\n",
       "      <td>0.75</td>\n",
       "      <td>5</td>\n",
       "      <td>(1, 2)</td>\n",
       "      <td>{'nb__alpha': 0.5, 'tfidf__max_df': 0.75, 'tfi...</td>\n",
       "      <td>0.792086</td>\n",
       "      <td>0.796403</td>\n",
       "      <td>0.802016</td>\n",
       "      <td>0.786897</td>\n",
       "      <td>0.820014</td>\n",
       "      <td>0.799483</td>\n",
       "      <td>0.011407</td>\n",
       "      <td>43</td>\n",
       "    </tr>\n",
       "    <tr>\n",
       "      <th>30</th>\n",
       "      <td>0.203776</td>\n",
       "      <td>0.028721</td>\n",
       "      <td>0.038239</td>\n",
       "      <td>0.007867</td>\n",
       "      <td>0.5</td>\n",
       "      <td>1.0</td>\n",
       "      <td>1</td>\n",
       "      <td>(1, 1)</td>\n",
       "      <td>{'nb__alpha': 0.5, 'tfidf__max_df': 1.0, 'tfid...</td>\n",
       "      <td>0.833094</td>\n",
       "      <td>0.825899</td>\n",
       "      <td>0.830094</td>\n",
       "      <td>0.825774</td>\n",
       "      <td>0.839453</td>\n",
       "      <td>0.830863</td>\n",
       "      <td>0.005097</td>\n",
       "      <td>13</td>\n",
       "    </tr>\n",
       "    <tr>\n",
       "      <th>31</th>\n",
       "      <td>0.387566</td>\n",
       "      <td>0.075741</td>\n",
       "      <td>0.068861</td>\n",
       "      <td>0.015702</td>\n",
       "      <td>0.5</td>\n",
       "      <td>1.0</td>\n",
       "      <td>1</td>\n",
       "      <td>(1, 2)</td>\n",
       "      <td>{'nb__alpha': 0.5, 'tfidf__max_df': 1.0, 'tfid...</td>\n",
       "      <td>0.842446</td>\n",
       "      <td>0.841727</td>\n",
       "      <td>0.850252</td>\n",
       "      <td>0.839453</td>\n",
       "      <td>0.858891</td>\n",
       "      <td>0.846554</td>\n",
       "      <td>0.007162</td>\n",
       "      <td>4</td>\n",
       "    </tr>\n",
       "    <tr>\n",
       "      <th>32</th>\n",
       "      <td>0.112916</td>\n",
       "      <td>0.014270</td>\n",
       "      <td>0.028321</td>\n",
       "      <td>0.005855</td>\n",
       "      <td>0.5</td>\n",
       "      <td>1.0</td>\n",
       "      <td>2</td>\n",
       "      <td>(1, 1)</td>\n",
       "      <td>{'nb__alpha': 0.5, 'tfidf__max_df': 1.0, 'tfid...</td>\n",
       "      <td>0.810791</td>\n",
       "      <td>0.819424</td>\n",
       "      <td>0.812095</td>\n",
       "      <td>0.813535</td>\n",
       "      <td>0.835133</td>\n",
       "      <td>0.818196</td>\n",
       "      <td>0.008968</td>\n",
       "      <td>28</td>\n",
       "    </tr>\n",
       "    <tr>\n",
       "      <th>33</th>\n",
       "      <td>0.247776</td>\n",
       "      <td>0.038144</td>\n",
       "      <td>0.052462</td>\n",
       "      <td>0.005989</td>\n",
       "      <td>0.5</td>\n",
       "      <td>1.0</td>\n",
       "      <td>2</td>\n",
       "      <td>(1, 2)</td>\n",
       "      <td>{'nb__alpha': 0.5, 'tfidf__max_df': 1.0, 'tfid...</td>\n",
       "      <td>0.818705</td>\n",
       "      <td>0.817986</td>\n",
       "      <td>0.817855</td>\n",
       "      <td>0.818575</td>\n",
       "      <td>0.840173</td>\n",
       "      <td>0.822659</td>\n",
       "      <td>0.008763</td>\n",
       "      <td>19</td>\n",
       "    </tr>\n",
       "    <tr>\n",
       "      <th>34</th>\n",
       "      <td>0.201643</td>\n",
       "      <td>0.078109</td>\n",
       "      <td>0.040819</td>\n",
       "      <td>0.019436</td>\n",
       "      <td>0.5</td>\n",
       "      <td>1.0</td>\n",
       "      <td>5</td>\n",
       "      <td>(1, 1)</td>\n",
       "      <td>{'nb__alpha': 0.5, 'tfidf__max_df': 1.0, 'tfid...</td>\n",
       "      <td>0.789928</td>\n",
       "      <td>0.799281</td>\n",
       "      <td>0.800576</td>\n",
       "      <td>0.785457</td>\n",
       "      <td>0.816415</td>\n",
       "      <td>0.798331</td>\n",
       "      <td>0.010671</td>\n",
       "      <td>49</td>\n",
       "    </tr>\n",
       "    <tr>\n",
       "      <th>35</th>\n",
       "      <td>0.371704</td>\n",
       "      <td>0.087108</td>\n",
       "      <td>0.081336</td>\n",
       "      <td>0.019356</td>\n",
       "      <td>0.5</td>\n",
       "      <td>1.0</td>\n",
       "      <td>5</td>\n",
       "      <td>(1, 2)</td>\n",
       "      <td>{'nb__alpha': 0.5, 'tfidf__max_df': 1.0, 'tfid...</td>\n",
       "      <td>0.792086</td>\n",
       "      <td>0.796403</td>\n",
       "      <td>0.802016</td>\n",
       "      <td>0.786897</td>\n",
       "      <td>0.820014</td>\n",
       "      <td>0.799483</td>\n",
       "      <td>0.011407</td>\n",
       "      <td>43</td>\n",
       "    </tr>\n",
       "    <tr>\n",
       "      <th>36</th>\n",
       "      <td>0.174074</td>\n",
       "      <td>0.010666</td>\n",
       "      <td>0.033872</td>\n",
       "      <td>0.004225</td>\n",
       "      <td>1.0</td>\n",
       "      <td>0.5</td>\n",
       "      <td>1</td>\n",
       "      <td>(1, 1)</td>\n",
       "      <td>{'nb__alpha': 1.0, 'tfidf__max_df': 0.5, 'tfid...</td>\n",
       "      <td>0.831655</td>\n",
       "      <td>0.819424</td>\n",
       "      <td>0.822174</td>\n",
       "      <td>0.819294</td>\n",
       "      <td>0.837293</td>\n",
       "      <td>0.825968</td>\n",
       "      <td>0.007243</td>\n",
       "      <td>16</td>\n",
       "    </tr>\n",
       "    <tr>\n",
       "      <th>37</th>\n",
       "      <td>0.530184</td>\n",
       "      <td>0.100008</td>\n",
       "      <td>0.106366</td>\n",
       "      <td>0.041125</td>\n",
       "      <td>1.0</td>\n",
       "      <td>0.5</td>\n",
       "      <td>1</td>\n",
       "      <td>(1, 2)</td>\n",
       "      <td>{'nb__alpha': 1.0, 'tfidf__max_df': 0.5, 'tfid...</td>\n",
       "      <td>0.842446</td>\n",
       "      <td>0.833094</td>\n",
       "      <td>0.841613</td>\n",
       "      <td>0.834413</td>\n",
       "      <td>0.854572</td>\n",
       "      <td>0.841227</td>\n",
       "      <td>0.007646</td>\n",
       "      <td>7</td>\n",
       "    </tr>\n",
       "    <tr>\n",
       "      <th>38</th>\n",
       "      <td>0.165438</td>\n",
       "      <td>0.029524</td>\n",
       "      <td>0.033634</td>\n",
       "      <td>0.002136</td>\n",
       "      <td>1.0</td>\n",
       "      <td>0.5</td>\n",
       "      <td>2</td>\n",
       "      <td>(1, 1)</td>\n",
       "      <td>{'nb__alpha': 1.0, 'tfidf__max_df': 0.5, 'tfid...</td>\n",
       "      <td>0.805755</td>\n",
       "      <td>0.815108</td>\n",
       "      <td>0.814975</td>\n",
       "      <td>0.807055</td>\n",
       "      <td>0.833693</td>\n",
       "      <td>0.815317</td>\n",
       "      <td>0.009975</td>\n",
       "      <td>34</td>\n",
       "    </tr>\n",
       "    <tr>\n",
       "      <th>39</th>\n",
       "      <td>0.263724</td>\n",
       "      <td>0.020689</td>\n",
       "      <td>0.064188</td>\n",
       "      <td>0.017886</td>\n",
       "      <td>1.0</td>\n",
       "      <td>0.5</td>\n",
       "      <td>2</td>\n",
       "      <td>(1, 2)</td>\n",
       "      <td>{'nb__alpha': 1.0, 'tfidf__max_df': 0.5, 'tfid...</td>\n",
       "      <td>0.815827</td>\n",
       "      <td>0.814388</td>\n",
       "      <td>0.817135</td>\n",
       "      <td>0.818575</td>\n",
       "      <td>0.833693</td>\n",
       "      <td>0.819924</td>\n",
       "      <td>0.007023</td>\n",
       "      <td>25</td>\n",
       "    </tr>\n",
       "    <tr>\n",
       "      <th>40</th>\n",
       "      <td>0.189265</td>\n",
       "      <td>0.020914</td>\n",
       "      <td>0.047176</td>\n",
       "      <td>0.006815</td>\n",
       "      <td>1.0</td>\n",
       "      <td>0.5</td>\n",
       "      <td>5</td>\n",
       "      <td>(1, 1)</td>\n",
       "      <td>{'nb__alpha': 1.0, 'tfidf__max_df': 0.5, 'tfid...</td>\n",
       "      <td>0.788489</td>\n",
       "      <td>0.801439</td>\n",
       "      <td>0.807775</td>\n",
       "      <td>0.784017</td>\n",
       "      <td>0.815695</td>\n",
       "      <td>0.799483</td>\n",
       "      <td>0.011794</td>\n",
       "      <td>46</td>\n",
       "    </tr>\n",
       "    <tr>\n",
       "      <th>41</th>\n",
       "      <td>0.267462</td>\n",
       "      <td>0.029111</td>\n",
       "      <td>0.058353</td>\n",
       "      <td>0.022698</td>\n",
       "      <td>1.0</td>\n",
       "      <td>0.5</td>\n",
       "      <td>5</td>\n",
       "      <td>(1, 2)</td>\n",
       "      <td>{'nb__alpha': 1.0, 'tfidf__max_df': 0.5, 'tfid...</td>\n",
       "      <td>0.791367</td>\n",
       "      <td>0.797842</td>\n",
       "      <td>0.801296</td>\n",
       "      <td>0.788337</td>\n",
       "      <td>0.819294</td>\n",
       "      <td>0.799627</td>\n",
       "      <td>0.010849</td>\n",
       "      <td>40</td>\n",
       "    </tr>\n",
       "    <tr>\n",
       "      <th>42</th>\n",
       "      <td>0.234930</td>\n",
       "      <td>0.057610</td>\n",
       "      <td>0.046618</td>\n",
       "      <td>0.014293</td>\n",
       "      <td>1.0</td>\n",
       "      <td>0.75</td>\n",
       "      <td>1</td>\n",
       "      <td>(1, 1)</td>\n",
       "      <td>{'nb__alpha': 1.0, 'tfidf__max_df': 0.75, 'tfi...</td>\n",
       "      <td>0.831655</td>\n",
       "      <td>0.819424</td>\n",
       "      <td>0.822174</td>\n",
       "      <td>0.819294</td>\n",
       "      <td>0.837293</td>\n",
       "      <td>0.825968</td>\n",
       "      <td>0.007243</td>\n",
       "      <td>16</td>\n",
       "    </tr>\n",
       "    <tr>\n",
       "      <th>43</th>\n",
       "      <td>0.396002</td>\n",
       "      <td>0.073259</td>\n",
       "      <td>0.062052</td>\n",
       "      <td>0.015929</td>\n",
       "      <td>1.0</td>\n",
       "      <td>0.75</td>\n",
       "      <td>1</td>\n",
       "      <td>(1, 2)</td>\n",
       "      <td>{'nb__alpha': 1.0, 'tfidf__max_df': 0.75, 'tfi...</td>\n",
       "      <td>0.842446</td>\n",
       "      <td>0.833094</td>\n",
       "      <td>0.841613</td>\n",
       "      <td>0.834413</td>\n",
       "      <td>0.854572</td>\n",
       "      <td>0.841227</td>\n",
       "      <td>0.007646</td>\n",
       "      <td>7</td>\n",
       "    </tr>\n",
       "    <tr>\n",
       "      <th>44</th>\n",
       "      <td>0.135943</td>\n",
       "      <td>0.041382</td>\n",
       "      <td>0.034946</td>\n",
       "      <td>0.016141</td>\n",
       "      <td>1.0</td>\n",
       "      <td>0.75</td>\n",
       "      <td>2</td>\n",
       "      <td>(1, 1)</td>\n",
       "      <td>{'nb__alpha': 1.0, 'tfidf__max_df': 0.75, 'tfi...</td>\n",
       "      <td>0.805755</td>\n",
       "      <td>0.815108</td>\n",
       "      <td>0.814975</td>\n",
       "      <td>0.807055</td>\n",
       "      <td>0.833693</td>\n",
       "      <td>0.815317</td>\n",
       "      <td>0.009975</td>\n",
       "      <td>34</td>\n",
       "    </tr>\n",
       "    <tr>\n",
       "      <th>45</th>\n",
       "      <td>0.387405</td>\n",
       "      <td>0.054776</td>\n",
       "      <td>0.077058</td>\n",
       "      <td>0.032133</td>\n",
       "      <td>1.0</td>\n",
       "      <td>0.75</td>\n",
       "      <td>2</td>\n",
       "      <td>(1, 2)</td>\n",
       "      <td>{'nb__alpha': 1.0, 'tfidf__max_df': 0.75, 'tfi...</td>\n",
       "      <td>0.815827</td>\n",
       "      <td>0.814388</td>\n",
       "      <td>0.817135</td>\n",
       "      <td>0.818575</td>\n",
       "      <td>0.833693</td>\n",
       "      <td>0.819924</td>\n",
       "      <td>0.007023</td>\n",
       "      <td>25</td>\n",
       "    </tr>\n",
       "    <tr>\n",
       "      <th>46</th>\n",
       "      <td>0.129556</td>\n",
       "      <td>0.022917</td>\n",
       "      <td>0.031200</td>\n",
       "      <td>0.008127</td>\n",
       "      <td>1.0</td>\n",
       "      <td>0.75</td>\n",
       "      <td>5</td>\n",
       "      <td>(1, 1)</td>\n",
       "      <td>{'nb__alpha': 1.0, 'tfidf__max_df': 0.75, 'tfi...</td>\n",
       "      <td>0.788489</td>\n",
       "      <td>0.801439</td>\n",
       "      <td>0.807775</td>\n",
       "      <td>0.784017</td>\n",
       "      <td>0.815695</td>\n",
       "      <td>0.799483</td>\n",
       "      <td>0.011794</td>\n",
       "      <td>46</td>\n",
       "    </tr>\n",
       "    <tr>\n",
       "      <th>47</th>\n",
       "      <td>0.290111</td>\n",
       "      <td>0.055640</td>\n",
       "      <td>0.069980</td>\n",
       "      <td>0.007691</td>\n",
       "      <td>1.0</td>\n",
       "      <td>0.75</td>\n",
       "      <td>5</td>\n",
       "      <td>(1, 2)</td>\n",
       "      <td>{'nb__alpha': 1.0, 'tfidf__max_df': 0.75, 'tfi...</td>\n",
       "      <td>0.791367</td>\n",
       "      <td>0.797842</td>\n",
       "      <td>0.801296</td>\n",
       "      <td>0.788337</td>\n",
       "      <td>0.819294</td>\n",
       "      <td>0.799627</td>\n",
       "      <td>0.010849</td>\n",
       "      <td>40</td>\n",
       "    </tr>\n",
       "    <tr>\n",
       "      <th>48</th>\n",
       "      <td>0.155067</td>\n",
       "      <td>0.029149</td>\n",
       "      <td>0.033916</td>\n",
       "      <td>0.011996</td>\n",
       "      <td>1.0</td>\n",
       "      <td>1.0</td>\n",
       "      <td>1</td>\n",
       "      <td>(1, 1)</td>\n",
       "      <td>{'nb__alpha': 1.0, 'tfidf__max_df': 1.0, 'tfid...</td>\n",
       "      <td>0.831655</td>\n",
       "      <td>0.819424</td>\n",
       "      <td>0.822174</td>\n",
       "      <td>0.819294</td>\n",
       "      <td>0.837293</td>\n",
       "      <td>0.825968</td>\n",
       "      <td>0.007243</td>\n",
       "      <td>16</td>\n",
       "    </tr>\n",
       "    <tr>\n",
       "      <th>49</th>\n",
       "      <td>0.482654</td>\n",
       "      <td>0.086063</td>\n",
       "      <td>0.076129</td>\n",
       "      <td>0.028879</td>\n",
       "      <td>1.0</td>\n",
       "      <td>1.0</td>\n",
       "      <td>1</td>\n",
       "      <td>(1, 2)</td>\n",
       "      <td>{'nb__alpha': 1.0, 'tfidf__max_df': 1.0, 'tfid...</td>\n",
       "      <td>0.842446</td>\n",
       "      <td>0.833094</td>\n",
       "      <td>0.841613</td>\n",
       "      <td>0.834413</td>\n",
       "      <td>0.854572</td>\n",
       "      <td>0.841227</td>\n",
       "      <td>0.007646</td>\n",
       "      <td>7</td>\n",
       "    </tr>\n",
       "    <tr>\n",
       "      <th>50</th>\n",
       "      <td>0.114090</td>\n",
       "      <td>0.010064</td>\n",
       "      <td>0.024821</td>\n",
       "      <td>0.005103</td>\n",
       "      <td>1.0</td>\n",
       "      <td>1.0</td>\n",
       "      <td>2</td>\n",
       "      <td>(1, 1)</td>\n",
       "      <td>{'nb__alpha': 1.0, 'tfidf__max_df': 1.0, 'tfid...</td>\n",
       "      <td>0.805755</td>\n",
       "      <td>0.815108</td>\n",
       "      <td>0.814975</td>\n",
       "      <td>0.807055</td>\n",
       "      <td>0.833693</td>\n",
       "      <td>0.815317</td>\n",
       "      <td>0.009975</td>\n",
       "      <td>34</td>\n",
       "    </tr>\n",
       "    <tr>\n",
       "      <th>51</th>\n",
       "      <td>0.220972</td>\n",
       "      <td>0.069544</td>\n",
       "      <td>0.046879</td>\n",
       "      <td>0.014535</td>\n",
       "      <td>1.0</td>\n",
       "      <td>1.0</td>\n",
       "      <td>2</td>\n",
       "      <td>(1, 2)</td>\n",
       "      <td>{'nb__alpha': 1.0, 'tfidf__max_df': 1.0, 'tfid...</td>\n",
       "      <td>0.815827</td>\n",
       "      <td>0.814388</td>\n",
       "      <td>0.817135</td>\n",
       "      <td>0.818575</td>\n",
       "      <td>0.833693</td>\n",
       "      <td>0.819924</td>\n",
       "      <td>0.007023</td>\n",
       "      <td>25</td>\n",
       "    </tr>\n",
       "    <tr>\n",
       "      <th>52</th>\n",
       "      <td>0.098991</td>\n",
       "      <td>0.012910</td>\n",
       "      <td>0.024360</td>\n",
       "      <td>0.007690</td>\n",
       "      <td>1.0</td>\n",
       "      <td>1.0</td>\n",
       "      <td>5</td>\n",
       "      <td>(1, 1)</td>\n",
       "      <td>{'nb__alpha': 1.0, 'tfidf__max_df': 1.0, 'tfid...</td>\n",
       "      <td>0.788489</td>\n",
       "      <td>0.801439</td>\n",
       "      <td>0.807775</td>\n",
       "      <td>0.784017</td>\n",
       "      <td>0.815695</td>\n",
       "      <td>0.799483</td>\n",
       "      <td>0.011794</td>\n",
       "      <td>46</td>\n",
       "    </tr>\n",
       "    <tr>\n",
       "      <th>53</th>\n",
       "      <td>0.196897</td>\n",
       "      <td>0.017519</td>\n",
       "      <td>0.044872</td>\n",
       "      <td>0.010453</td>\n",
       "      <td>1.0</td>\n",
       "      <td>1.0</td>\n",
       "      <td>5</td>\n",
       "      <td>(1, 2)</td>\n",
       "      <td>{'nb__alpha': 1.0, 'tfidf__max_df': 1.0, 'tfid...</td>\n",
       "      <td>0.791367</td>\n",
       "      <td>0.797842</td>\n",
       "      <td>0.801296</td>\n",
       "      <td>0.788337</td>\n",
       "      <td>0.819294</td>\n",
       "      <td>0.799627</td>\n",
       "      <td>0.010849</td>\n",
       "      <td>40</td>\n",
       "    </tr>\n",
       "  </tbody>\n",
       "</table>\n",
       "</div>"
      ],
      "text/plain": [
       "    mean_fit_time  std_fit_time  mean_score_time  std_score_time  \\\n",
       "0        0.218536      0.035599         0.052390        0.013631   \n",
       "1        0.399855      0.114722         0.056223        0.016060   \n",
       "2        0.095863      0.014379         0.029441        0.006061   \n",
       "3        0.248505      0.012611         0.051656        0.005496   \n",
       "4        0.133309      0.025721         0.036178        0.006854   \n",
       "5        0.268308      0.045762         0.068783        0.020021   \n",
       "6        0.178673      0.007898         0.045989        0.009958   \n",
       "7        0.691752      0.119520         0.102242        0.035517   \n",
       "8        0.195252      0.063218         0.046633        0.016392   \n",
       "9        0.318428      0.133164         0.047784        0.011179   \n",
       "10       0.137418      0.031599         0.037508        0.010165   \n",
       "11       0.300171      0.062328         0.060372        0.020831   \n",
       "12       0.231518      0.033305         0.051979        0.030190   \n",
       "13       0.418003      0.102319         0.078624        0.010186   \n",
       "14       0.130264      0.021500         0.022912        0.009039   \n",
       "15       0.277784      0.004088         0.048310        0.005344   \n",
       "16       0.114340      0.010213         0.026710        0.006476   \n",
       "17       0.282870      0.028583         0.071335        0.015289   \n",
       "18       0.166120      0.007390         0.032348        0.004740   \n",
       "19       0.350758      0.032529         0.059576        0.018009   \n",
       "20       0.194874      0.026445         0.044595        0.006210   \n",
       "21       0.212122      0.017962         0.039582        0.005211   \n",
       "22       0.095147      0.019458         0.025544        0.007349   \n",
       "23       0.194837      0.026376         0.038671        0.006001   \n",
       "24       0.114464      0.008397         0.024315        0.006377   \n",
       "25       0.468737      0.164634         0.084145        0.016997   \n",
       "26       0.212433      0.031530         0.048004        0.008069   \n",
       "27       0.413696      0.084331         0.095565        0.028682   \n",
       "28       0.217029      0.020765         0.051769        0.007464   \n",
       "29       0.344178      0.045844         0.094494        0.027327   \n",
       "30       0.203776      0.028721         0.038239        0.007867   \n",
       "31       0.387566      0.075741         0.068861        0.015702   \n",
       "32       0.112916      0.014270         0.028321        0.005855   \n",
       "33       0.247776      0.038144         0.052462        0.005989   \n",
       "34       0.201643      0.078109         0.040819        0.019436   \n",
       "35       0.371704      0.087108         0.081336        0.019356   \n",
       "36       0.174074      0.010666         0.033872        0.004225   \n",
       "37       0.530184      0.100008         0.106366        0.041125   \n",
       "38       0.165438      0.029524         0.033634        0.002136   \n",
       "39       0.263724      0.020689         0.064188        0.017886   \n",
       "40       0.189265      0.020914         0.047176        0.006815   \n",
       "41       0.267462      0.029111         0.058353        0.022698   \n",
       "42       0.234930      0.057610         0.046618        0.014293   \n",
       "43       0.396002      0.073259         0.062052        0.015929   \n",
       "44       0.135943      0.041382         0.034946        0.016141   \n",
       "45       0.387405      0.054776         0.077058        0.032133   \n",
       "46       0.129556      0.022917         0.031200        0.008127   \n",
       "47       0.290111      0.055640         0.069980        0.007691   \n",
       "48       0.155067      0.029149         0.033916        0.011996   \n",
       "49       0.482654      0.086063         0.076129        0.028879   \n",
       "50       0.114090      0.010064         0.024821        0.005103   \n",
       "51       0.220972      0.069544         0.046879        0.014535   \n",
       "52       0.098991      0.012910         0.024360        0.007690   \n",
       "53       0.196897      0.017519         0.044872        0.010453   \n",
       "\n",
       "   param_nb__alpha param_tfidf__max_df param_tfidf__min_df  \\\n",
       "0              0.1                 0.5                   1   \n",
       "1              0.1                 0.5                   1   \n",
       "2              0.1                 0.5                   2   \n",
       "3              0.1                 0.5                   2   \n",
       "4              0.1                 0.5                   5   \n",
       "5              0.1                 0.5                   5   \n",
       "6              0.1                0.75                   1   \n",
       "7              0.1                0.75                   1   \n",
       "8              0.1                0.75                   2   \n",
       "9              0.1                0.75                   2   \n",
       "10             0.1                0.75                   5   \n",
       "11             0.1                0.75                   5   \n",
       "12             0.1                 1.0                   1   \n",
       "13             0.1                 1.0                   1   \n",
       "14             0.1                 1.0                   2   \n",
       "15             0.1                 1.0                   2   \n",
       "16             0.1                 1.0                   5   \n",
       "17             0.1                 1.0                   5   \n",
       "18             0.5                 0.5                   1   \n",
       "19             0.5                 0.5                   1   \n",
       "20             0.5                 0.5                   2   \n",
       "21             0.5                 0.5                   2   \n",
       "22             0.5                 0.5                   5   \n",
       "23             0.5                 0.5                   5   \n",
       "24             0.5                0.75                   1   \n",
       "25             0.5                0.75                   1   \n",
       "26             0.5                0.75                   2   \n",
       "27             0.5                0.75                   2   \n",
       "28             0.5                0.75                   5   \n",
       "29             0.5                0.75                   5   \n",
       "30             0.5                 1.0                   1   \n",
       "31             0.5                 1.0                   1   \n",
       "32             0.5                 1.0                   2   \n",
       "33             0.5                 1.0                   2   \n",
       "34             0.5                 1.0                   5   \n",
       "35             0.5                 1.0                   5   \n",
       "36             1.0                 0.5                   1   \n",
       "37             1.0                 0.5                   1   \n",
       "38             1.0                 0.5                   2   \n",
       "39             1.0                 0.5                   2   \n",
       "40             1.0                 0.5                   5   \n",
       "41             1.0                 0.5                   5   \n",
       "42             1.0                0.75                   1   \n",
       "43             1.0                0.75                   1   \n",
       "44             1.0                0.75                   2   \n",
       "45             1.0                0.75                   2   \n",
       "46             1.0                0.75                   5   \n",
       "47             1.0                0.75                   5   \n",
       "48             1.0                 1.0                   1   \n",
       "49             1.0                 1.0                   1   \n",
       "50             1.0                 1.0                   2   \n",
       "51             1.0                 1.0                   2   \n",
       "52             1.0                 1.0                   5   \n",
       "53             1.0                 1.0                   5   \n",
       "\n",
       "   param_tfidf__ngram_range  \\\n",
       "0                    (1, 1)   \n",
       "1                    (1, 2)   \n",
       "2                    (1, 1)   \n",
       "3                    (1, 2)   \n",
       "4                    (1, 1)   \n",
       "5                    (1, 2)   \n",
       "6                    (1, 1)   \n",
       "7                    (1, 2)   \n",
       "8                    (1, 1)   \n",
       "9                    (1, 2)   \n",
       "10                   (1, 1)   \n",
       "11                   (1, 2)   \n",
       "12                   (1, 1)   \n",
       "13                   (1, 2)   \n",
       "14                   (1, 1)   \n",
       "15                   (1, 2)   \n",
       "16                   (1, 1)   \n",
       "17                   (1, 2)   \n",
       "18                   (1, 1)   \n",
       "19                   (1, 2)   \n",
       "20                   (1, 1)   \n",
       "21                   (1, 2)   \n",
       "22                   (1, 1)   \n",
       "23                   (1, 2)   \n",
       "24                   (1, 1)   \n",
       "25                   (1, 2)   \n",
       "26                   (1, 1)   \n",
       "27                   (1, 2)   \n",
       "28                   (1, 1)   \n",
       "29                   (1, 2)   \n",
       "30                   (1, 1)   \n",
       "31                   (1, 2)   \n",
       "32                   (1, 1)   \n",
       "33                   (1, 2)   \n",
       "34                   (1, 1)   \n",
       "35                   (1, 2)   \n",
       "36                   (1, 1)   \n",
       "37                   (1, 2)   \n",
       "38                   (1, 1)   \n",
       "39                   (1, 2)   \n",
       "40                   (1, 1)   \n",
       "41                   (1, 2)   \n",
       "42                   (1, 1)   \n",
       "43                   (1, 2)   \n",
       "44                   (1, 1)   \n",
       "45                   (1, 2)   \n",
       "46                   (1, 1)   \n",
       "47                   (1, 2)   \n",
       "48                   (1, 1)   \n",
       "49                   (1, 2)   \n",
       "50                   (1, 1)   \n",
       "51                   (1, 2)   \n",
       "52                   (1, 1)   \n",
       "53                   (1, 2)   \n",
       "\n",
       "                                               params  split0_test_score  \\\n",
       "0   {'nb__alpha': 0.1, 'tfidf__max_df': 0.5, 'tfid...           0.841007   \n",
       "1   {'nb__alpha': 0.1, 'tfidf__max_df': 0.5, 'tfid...           0.851799   \n",
       "2   {'nb__alpha': 0.1, 'tfidf__max_df': 0.5, 'tfid...           0.812950   \n",
       "3   {'nb__alpha': 0.1, 'tfidf__max_df': 0.5, 'tfid...           0.820144   \n",
       "4   {'nb__alpha': 0.1, 'tfidf__max_df': 0.5, 'tfid...           0.789928   \n",
       "5   {'nb__alpha': 0.1, 'tfidf__max_df': 0.5, 'tfid...           0.794245   \n",
       "6   {'nb__alpha': 0.1, 'tfidf__max_df': 0.75, 'tfi...           0.841007   \n",
       "7   {'nb__alpha': 0.1, 'tfidf__max_df': 0.75, 'tfi...           0.851799   \n",
       "8   {'nb__alpha': 0.1, 'tfidf__max_df': 0.75, 'tfi...           0.812950   \n",
       "9   {'nb__alpha': 0.1, 'tfidf__max_df': 0.75, 'tfi...           0.820144   \n",
       "10  {'nb__alpha': 0.1, 'tfidf__max_df': 0.75, 'tfi...           0.789928   \n",
       "11  {'nb__alpha': 0.1, 'tfidf__max_df': 0.75, 'tfi...           0.794245   \n",
       "12  {'nb__alpha': 0.1, 'tfidf__max_df': 1.0, 'tfid...           0.841007   \n",
       "13  {'nb__alpha': 0.1, 'tfidf__max_df': 1.0, 'tfid...           0.851799   \n",
       "14  {'nb__alpha': 0.1, 'tfidf__max_df': 1.0, 'tfid...           0.812950   \n",
       "15  {'nb__alpha': 0.1, 'tfidf__max_df': 1.0, 'tfid...           0.820144   \n",
       "16  {'nb__alpha': 0.1, 'tfidf__max_df': 1.0, 'tfid...           0.789928   \n",
       "17  {'nb__alpha': 0.1, 'tfidf__max_df': 1.0, 'tfid...           0.794245   \n",
       "18  {'nb__alpha': 0.5, 'tfidf__max_df': 0.5, 'tfid...           0.833094   \n",
       "19  {'nb__alpha': 0.5, 'tfidf__max_df': 0.5, 'tfid...           0.842446   \n",
       "20  {'nb__alpha': 0.5, 'tfidf__max_df': 0.5, 'tfid...           0.810791   \n",
       "21  {'nb__alpha': 0.5, 'tfidf__max_df': 0.5, 'tfid...           0.818705   \n",
       "22  {'nb__alpha': 0.5, 'tfidf__max_df': 0.5, 'tfid...           0.789928   \n",
       "23  {'nb__alpha': 0.5, 'tfidf__max_df': 0.5, 'tfid...           0.792086   \n",
       "24  {'nb__alpha': 0.5, 'tfidf__max_df': 0.75, 'tfi...           0.833094   \n",
       "25  {'nb__alpha': 0.5, 'tfidf__max_df': 0.75, 'tfi...           0.842446   \n",
       "26  {'nb__alpha': 0.5, 'tfidf__max_df': 0.75, 'tfi...           0.810791   \n",
       "27  {'nb__alpha': 0.5, 'tfidf__max_df': 0.75, 'tfi...           0.818705   \n",
       "28  {'nb__alpha': 0.5, 'tfidf__max_df': 0.75, 'tfi...           0.789928   \n",
       "29  {'nb__alpha': 0.5, 'tfidf__max_df': 0.75, 'tfi...           0.792086   \n",
       "30  {'nb__alpha': 0.5, 'tfidf__max_df': 1.0, 'tfid...           0.833094   \n",
       "31  {'nb__alpha': 0.5, 'tfidf__max_df': 1.0, 'tfid...           0.842446   \n",
       "32  {'nb__alpha': 0.5, 'tfidf__max_df': 1.0, 'tfid...           0.810791   \n",
       "33  {'nb__alpha': 0.5, 'tfidf__max_df': 1.0, 'tfid...           0.818705   \n",
       "34  {'nb__alpha': 0.5, 'tfidf__max_df': 1.0, 'tfid...           0.789928   \n",
       "35  {'nb__alpha': 0.5, 'tfidf__max_df': 1.0, 'tfid...           0.792086   \n",
       "36  {'nb__alpha': 1.0, 'tfidf__max_df': 0.5, 'tfid...           0.831655   \n",
       "37  {'nb__alpha': 1.0, 'tfidf__max_df': 0.5, 'tfid...           0.842446   \n",
       "38  {'nb__alpha': 1.0, 'tfidf__max_df': 0.5, 'tfid...           0.805755   \n",
       "39  {'nb__alpha': 1.0, 'tfidf__max_df': 0.5, 'tfid...           0.815827   \n",
       "40  {'nb__alpha': 1.0, 'tfidf__max_df': 0.5, 'tfid...           0.788489   \n",
       "41  {'nb__alpha': 1.0, 'tfidf__max_df': 0.5, 'tfid...           0.791367   \n",
       "42  {'nb__alpha': 1.0, 'tfidf__max_df': 0.75, 'tfi...           0.831655   \n",
       "43  {'nb__alpha': 1.0, 'tfidf__max_df': 0.75, 'tfi...           0.842446   \n",
       "44  {'nb__alpha': 1.0, 'tfidf__max_df': 0.75, 'tfi...           0.805755   \n",
       "45  {'nb__alpha': 1.0, 'tfidf__max_df': 0.75, 'tfi...           0.815827   \n",
       "46  {'nb__alpha': 1.0, 'tfidf__max_df': 0.75, 'tfi...           0.788489   \n",
       "47  {'nb__alpha': 1.0, 'tfidf__max_df': 0.75, 'tfi...           0.791367   \n",
       "48  {'nb__alpha': 1.0, 'tfidf__max_df': 1.0, 'tfid...           0.831655   \n",
       "49  {'nb__alpha': 1.0, 'tfidf__max_df': 1.0, 'tfid...           0.842446   \n",
       "50  {'nb__alpha': 1.0, 'tfidf__max_df': 1.0, 'tfid...           0.805755   \n",
       "51  {'nb__alpha': 1.0, 'tfidf__max_df': 1.0, 'tfid...           0.815827   \n",
       "52  {'nb__alpha': 1.0, 'tfidf__max_df': 1.0, 'tfid...           0.788489   \n",
       "53  {'nb__alpha': 1.0, 'tfidf__max_df': 1.0, 'tfid...           0.791367   \n",
       "\n",
       "    split1_test_score  split2_test_score  split3_test_score  \\\n",
       "0            0.832374           0.830094           0.828654   \n",
       "1            0.846763           0.853132           0.838733   \n",
       "2            0.825899           0.806335           0.804896   \n",
       "3            0.821583           0.811375           0.820734   \n",
       "4            0.799281           0.798416           0.784017   \n",
       "5            0.800719           0.799856           0.783297   \n",
       "6            0.832374           0.830094           0.828654   \n",
       "7            0.846763           0.853132           0.838733   \n",
       "8            0.825899           0.806335           0.804896   \n",
       "9            0.821583           0.811375           0.820734   \n",
       "10           0.799281           0.798416           0.784017   \n",
       "11           0.800719           0.799856           0.783297   \n",
       "12           0.832374           0.830094           0.828654   \n",
       "13           0.846763           0.853132           0.838733   \n",
       "14           0.825899           0.806335           0.804896   \n",
       "15           0.821583           0.811375           0.820734   \n",
       "16           0.799281           0.798416           0.784017   \n",
       "17           0.800719           0.799856           0.783297   \n",
       "18           0.825899           0.830094           0.825774   \n",
       "19           0.841727           0.850252           0.839453   \n",
       "20           0.819424           0.812095           0.813535   \n",
       "21           0.817986           0.817855           0.818575   \n",
       "22           0.799281           0.800576           0.785457   \n",
       "23           0.796403           0.802016           0.786897   \n",
       "24           0.825899           0.830094           0.825774   \n",
       "25           0.841727           0.850252           0.839453   \n",
       "26           0.819424           0.812095           0.813535   \n",
       "27           0.817986           0.817855           0.818575   \n",
       "28           0.799281           0.800576           0.785457   \n",
       "29           0.796403           0.802016           0.786897   \n",
       "30           0.825899           0.830094           0.825774   \n",
       "31           0.841727           0.850252           0.839453   \n",
       "32           0.819424           0.812095           0.813535   \n",
       "33           0.817986           0.817855           0.818575   \n",
       "34           0.799281           0.800576           0.785457   \n",
       "35           0.796403           0.802016           0.786897   \n",
       "36           0.819424           0.822174           0.819294   \n",
       "37           0.833094           0.841613           0.834413   \n",
       "38           0.815108           0.814975           0.807055   \n",
       "39           0.814388           0.817135           0.818575   \n",
       "40           0.801439           0.807775           0.784017   \n",
       "41           0.797842           0.801296           0.788337   \n",
       "42           0.819424           0.822174           0.819294   \n",
       "43           0.833094           0.841613           0.834413   \n",
       "44           0.815108           0.814975           0.807055   \n",
       "45           0.814388           0.817135           0.818575   \n",
       "46           0.801439           0.807775           0.784017   \n",
       "47           0.797842           0.801296           0.788337   \n",
       "48           0.819424           0.822174           0.819294   \n",
       "49           0.833094           0.841613           0.834413   \n",
       "50           0.815108           0.814975           0.807055   \n",
       "51           0.814388           0.817135           0.818575   \n",
       "52           0.801439           0.807775           0.784017   \n",
       "53           0.797842           0.801296           0.788337   \n",
       "\n",
       "    split4_test_score  mean_test_score  std_test_score  rank_test_score  \n",
       "0            0.846652         0.835756        0.006932               10  \n",
       "1            0.856012         0.849287        0.006067                1  \n",
       "2            0.830814         0.816179        0.010424               31  \n",
       "3            0.839453         0.822658        0.009171               22  \n",
       "4            0.815695         0.797467        0.010716               52  \n",
       "5            0.822894         0.800202        0.012935               37  \n",
       "6            0.846652         0.835756        0.006932               10  \n",
       "7            0.856012         0.849287        0.006067                1  \n",
       "8            0.830814         0.816179        0.010424               31  \n",
       "9            0.839453         0.822658        0.009171               22  \n",
       "10           0.815695         0.797467        0.010716               52  \n",
       "11           0.822894         0.800202        0.012935               37  \n",
       "12           0.846652         0.835756        0.006932               10  \n",
       "13           0.856012         0.849287        0.006067                1  \n",
       "14           0.830814         0.816179        0.010424               31  \n",
       "15           0.839453         0.822658        0.009171               22  \n",
       "16           0.815695         0.797467        0.010716               52  \n",
       "17           0.822894         0.800202        0.012935               37  \n",
       "18           0.839453         0.830863        0.005097               13  \n",
       "19           0.858891         0.846554        0.007162                4  \n",
       "20           0.835133         0.818196        0.008968               28  \n",
       "21           0.840173         0.822659        0.008763               19  \n",
       "22           0.816415         0.798331        0.010671               49  \n",
       "23           0.820014         0.799483        0.011407               43  \n",
       "24           0.839453         0.830863        0.005097               13  \n",
       "25           0.858891         0.846554        0.007162                4  \n",
       "26           0.835133         0.818196        0.008968               28  \n",
       "27           0.840173         0.822659        0.008763               19  \n",
       "28           0.816415         0.798331        0.010671               49  \n",
       "29           0.820014         0.799483        0.011407               43  \n",
       "30           0.839453         0.830863        0.005097               13  \n",
       "31           0.858891         0.846554        0.007162                4  \n",
       "32           0.835133         0.818196        0.008968               28  \n",
       "33           0.840173         0.822659        0.008763               19  \n",
       "34           0.816415         0.798331        0.010671               49  \n",
       "35           0.820014         0.799483        0.011407               43  \n",
       "36           0.837293         0.825968        0.007243               16  \n",
       "37           0.854572         0.841227        0.007646                7  \n",
       "38           0.833693         0.815317        0.009975               34  \n",
       "39           0.833693         0.819924        0.007023               25  \n",
       "40           0.815695         0.799483        0.011794               46  \n",
       "41           0.819294         0.799627        0.010849               40  \n",
       "42           0.837293         0.825968        0.007243               16  \n",
       "43           0.854572         0.841227        0.007646                7  \n",
       "44           0.833693         0.815317        0.009975               34  \n",
       "45           0.833693         0.819924        0.007023               25  \n",
       "46           0.815695         0.799483        0.011794               46  \n",
       "47           0.819294         0.799627        0.010849               40  \n",
       "48           0.837293         0.825968        0.007243               16  \n",
       "49           0.854572         0.841227        0.007646                7  \n",
       "50           0.833693         0.815317        0.009975               34  \n",
       "51           0.833693         0.819924        0.007023               25  \n",
       "52           0.815695         0.799483        0.011794               46  \n",
       "53           0.819294         0.799627        0.010849               40  "
      ]
     },
     "execution_count": 49,
     "metadata": {},
     "output_type": "execute_result"
    }
   ],
   "source": [
    "pd.DataFrame(grid_search.cv_results_)"
   ]
  },
  {
   "cell_type": "markdown",
   "metadata": {},
   "source": [
    "best hyperparameters"
   ]
  },
  {
   "cell_type": "code",
   "execution_count": 50,
   "metadata": {},
   "outputs": [
    {
     "data": {
      "text/plain": [
       "{'nb__alpha': 0.1,\n",
       " 'tfidf__max_df': 0.5,\n",
       " 'tfidf__min_df': 1,\n",
       " 'tfidf__ngram_range': (1, 2)}"
      ]
     },
     "execution_count": 50,
     "metadata": {},
     "output_type": "execute_result"
    }
   ],
   "source": [
    "best_params = grid_search.best_params_\n",
    "best_params"
   ]
  },
  {
   "cell_type": "markdown",
   "metadata": {},
   "source": [
    "best score"
   ]
  },
  {
   "cell_type": "code",
   "execution_count": 51,
   "metadata": {},
   "outputs": [
    {
     "data": {
      "text/plain": [
       "84.92874641971089"
      ]
     },
     "execution_count": 51,
     "metadata": {},
     "output_type": "execute_result"
    }
   ],
   "source": [
    "best_score = grid_search.best_score_*100\n",
    "best_score"
   ]
  },
  {
   "cell_type": "markdown",
   "metadata": {},
   "source": [
    "# Mode Training"
   ]
  },
  {
   "cell_type": "code",
   "execution_count": 52,
   "metadata": {},
   "outputs": [],
   "source": [
    "from sklearn.naive_bayes import MultinomialNB"
   ]
  },
  {
   "cell_type": "code",
   "execution_count": 53,
   "metadata": {},
   "outputs": [],
   "source": [
    "best_pipeline = Pipeline([\n",
    "    (\n",
    "        'tfidf', TfidfVectorizer(ngram_range=grid_search.best_params_['tfidf__ngram_range'],\n",
    "                              max_df=grid_search.best_params_['tfidf__max_df'],\n",
    "                              min_df=grid_search.best_params_['tfidf__min_df'])\n",
    "     ),\n",
    "\n",
    "    (\n",
    "        'nb', MultinomialNB(alpha=grid_search.best_params_['nb__alpha'])\n",
    "     )\n",
    "\n",
    "])"
   ]
  },
  {
   "cell_type": "code",
   "execution_count": 54,
   "metadata": {},
   "outputs": [
    {
     "data": {
      "text/html": [
       "<style>#sk-container-id-2 {color: black;}#sk-container-id-2 pre{padding: 0;}#sk-container-id-2 div.sk-toggleable {background-color: white;}#sk-container-id-2 label.sk-toggleable__label {cursor: pointer;display: block;width: 100%;margin-bottom: 0;padding: 0.3em;box-sizing: border-box;text-align: center;}#sk-container-id-2 label.sk-toggleable__label-arrow:before {content: \"▸\";float: left;margin-right: 0.25em;color: #696969;}#sk-container-id-2 label.sk-toggleable__label-arrow:hover:before {color: black;}#sk-container-id-2 div.sk-estimator:hover label.sk-toggleable__label-arrow:before {color: black;}#sk-container-id-2 div.sk-toggleable__content {max-height: 0;max-width: 0;overflow: hidden;text-align: left;background-color: #f0f8ff;}#sk-container-id-2 div.sk-toggleable__content pre {margin: 0.2em;color: black;border-radius: 0.25em;background-color: #f0f8ff;}#sk-container-id-2 input.sk-toggleable__control:checked~div.sk-toggleable__content {max-height: 200px;max-width: 100%;overflow: auto;}#sk-container-id-2 input.sk-toggleable__control:checked~label.sk-toggleable__label-arrow:before {content: \"▾\";}#sk-container-id-2 div.sk-estimator input.sk-toggleable__control:checked~label.sk-toggleable__label {background-color: #d4ebff;}#sk-container-id-2 div.sk-label input.sk-toggleable__control:checked~label.sk-toggleable__label {background-color: #d4ebff;}#sk-container-id-2 input.sk-hidden--visually {border: 0;clip: rect(1px 1px 1px 1px);clip: rect(1px, 1px, 1px, 1px);height: 1px;margin: -1px;overflow: hidden;padding: 0;position: absolute;width: 1px;}#sk-container-id-2 div.sk-estimator {font-family: monospace;background-color: #f0f8ff;border: 1px dotted black;border-radius: 0.25em;box-sizing: border-box;margin-bottom: 0.5em;}#sk-container-id-2 div.sk-estimator:hover {background-color: #d4ebff;}#sk-container-id-2 div.sk-parallel-item::after {content: \"\";width: 100%;border-bottom: 1px solid gray;flex-grow: 1;}#sk-container-id-2 div.sk-label:hover label.sk-toggleable__label {background-color: #d4ebff;}#sk-container-id-2 div.sk-serial::before {content: \"\";position: absolute;border-left: 1px solid gray;box-sizing: border-box;top: 0;bottom: 0;left: 50%;z-index: 0;}#sk-container-id-2 div.sk-serial {display: flex;flex-direction: column;align-items: center;background-color: white;padding-right: 0.2em;padding-left: 0.2em;position: relative;}#sk-container-id-2 div.sk-item {position: relative;z-index: 1;}#sk-container-id-2 div.sk-parallel {display: flex;align-items: stretch;justify-content: center;background-color: white;position: relative;}#sk-container-id-2 div.sk-item::before, #sk-container-id-2 div.sk-parallel-item::before {content: \"\";position: absolute;border-left: 1px solid gray;box-sizing: border-box;top: 0;bottom: 0;left: 50%;z-index: -1;}#sk-container-id-2 div.sk-parallel-item {display: flex;flex-direction: column;z-index: 1;position: relative;background-color: white;}#sk-container-id-2 div.sk-parallel-item:first-child::after {align-self: flex-end;width: 50%;}#sk-container-id-2 div.sk-parallel-item:last-child::after {align-self: flex-start;width: 50%;}#sk-container-id-2 div.sk-parallel-item:only-child::after {width: 0;}#sk-container-id-2 div.sk-dashed-wrapped {border: 1px dashed gray;margin: 0 0.4em 0.5em 0.4em;box-sizing: border-box;padding-bottom: 0.4em;background-color: white;}#sk-container-id-2 div.sk-label label {font-family: monospace;font-weight: bold;display: inline-block;line-height: 1.2em;}#sk-container-id-2 div.sk-label-container {text-align: center;}#sk-container-id-2 div.sk-container {/* jupyter's `normalize.less` sets `[hidden] { display: none; }` but bootstrap.min.css set `[hidden] { display: none !important; }` so we also need the `!important` here to be able to override the default hidden behavior on the sphinx rendered scikit-learn.org. See: https://github.com/scikit-learn/scikit-learn/issues/21755 */display: inline-block !important;position: relative;}#sk-container-id-2 div.sk-text-repr-fallback {display: none;}</style><div id=\"sk-container-id-2\" class=\"sk-top-container\"><div class=\"sk-text-repr-fallback\"><pre>Pipeline(steps=[(&#x27;tfidf&#x27;, TfidfVectorizer(max_df=0.5, ngram_range=(1, 2))),\n",
       "                (&#x27;nb&#x27;, MultinomialNB(alpha=0.1))])</pre><b>In a Jupyter environment, please rerun this cell to show the HTML representation or trust the notebook. <br />On GitHub, the HTML representation is unable to render, please try loading this page with nbviewer.org.</b></div><div class=\"sk-container\" hidden><div class=\"sk-item sk-dashed-wrapped\"><div class=\"sk-label-container\"><div class=\"sk-label sk-toggleable\"><input class=\"sk-toggleable__control sk-hidden--visually\" id=\"sk-estimator-id-5\" type=\"checkbox\" ><label for=\"sk-estimator-id-5\" class=\"sk-toggleable__label sk-toggleable__label-arrow\">Pipeline</label><div class=\"sk-toggleable__content\"><pre>Pipeline(steps=[(&#x27;tfidf&#x27;, TfidfVectorizer(max_df=0.5, ngram_range=(1, 2))),\n",
       "                (&#x27;nb&#x27;, MultinomialNB(alpha=0.1))])</pre></div></div></div><div class=\"sk-serial\"><div class=\"sk-item\"><div class=\"sk-estimator sk-toggleable\"><input class=\"sk-toggleable__control sk-hidden--visually\" id=\"sk-estimator-id-6\" type=\"checkbox\" ><label for=\"sk-estimator-id-6\" class=\"sk-toggleable__label sk-toggleable__label-arrow\">TfidfVectorizer</label><div class=\"sk-toggleable__content\"><pre>TfidfVectorizer(max_df=0.5, ngram_range=(1, 2))</pre></div></div></div><div class=\"sk-item\"><div class=\"sk-estimator sk-toggleable\"><input class=\"sk-toggleable__control sk-hidden--visually\" id=\"sk-estimator-id-7\" type=\"checkbox\" ><label for=\"sk-estimator-id-7\" class=\"sk-toggleable__label sk-toggleable__label-arrow\">MultinomialNB</label><div class=\"sk-toggleable__content\"><pre>MultinomialNB(alpha=0.1)</pre></div></div></div></div></div></div></div>"
      ],
      "text/plain": [
       "Pipeline(steps=[('tfidf', TfidfVectorizer(max_df=0.5, ngram_range=(1, 2))),\n",
       "                ('nb', MultinomialNB(alpha=0.1))])"
      ]
     },
     "execution_count": 54,
     "metadata": {},
     "output_type": "execute_result"
    }
   ],
   "source": [
    "best_pipeline.fit(X_train, y_train)"
   ]
  },
  {
   "cell_type": "markdown",
   "metadata": {},
   "source": [
    "# Model Evaluation"
   ]
  },
  {
   "cell_type": "code",
   "execution_count": 55,
   "metadata": {},
   "outputs": [],
   "source": [
    "from sklearn.metrics import accuracy_score, confusion_matrix, classification_report"
   ]
  },
  {
   "cell_type": "code",
   "execution_count": 56,
   "metadata": {},
   "outputs": [],
   "source": [
    "y_pred = best_pipeline.predict(X_test)"
   ]
  },
  {
   "cell_type": "markdown",
   "metadata": {},
   "source": [
    "accuracy score"
   ]
  },
  {
   "cell_type": "code",
   "execution_count": 57,
   "metadata": {},
   "outputs": [
    {
     "data": {
      "text/plain": [
       "85.54979850316637"
      ]
     },
     "execution_count": 57,
     "metadata": {},
     "output_type": "execute_result"
    }
   ],
   "source": [
    "accuracy = accuracy_score(y_test, y_pred)\n",
    "accuracy*100"
   ]
  },
  {
   "cell_type": "markdown",
   "metadata": {},
   "source": [
    "classification report"
   ]
  },
  {
   "cell_type": "code",
   "execution_count": 58,
   "metadata": {},
   "outputs": [
    {
     "name": "stdout",
     "output_type": "stream",
     "text": [
      "              precision    recall  f1-score   support\n",
      "\n",
      "           0       0.89      0.81      0.85       864\n",
      "           1       0.83      0.90      0.86       873\n",
      "\n",
      "    accuracy                           0.86      1737\n",
      "   macro avg       0.86      0.86      0.86      1737\n",
      "weighted avg       0.86      0.86      0.86      1737\n",
      "\n"
     ]
    }
   ],
   "source": [
    "print(classification_report(y_test, y_pred))"
   ]
  },
  {
   "cell_type": "markdown",
   "metadata": {},
   "source": [
    "confusion matrix"
   ]
  },
  {
   "cell_type": "code",
   "execution_count": 59,
   "metadata": {},
   "outputs": [
    {
     "data": {
      "text/plain": [
       "array([[704, 160],\n",
       "       [ 91, 782]], dtype=int64)"
      ]
     },
     "execution_count": 59,
     "metadata": {},
     "output_type": "execute_result"
    }
   ],
   "source": [
    "cm = confusion_matrix(y_test, y_pred)\n",
    "cm"
   ]
  },
  {
   "cell_type": "markdown",
   "metadata": {},
   "source": [
    "plot heatmap for confusion matrix"
   ]
  },
  {
   "cell_type": "code",
   "execution_count": 60,
   "metadata": {},
   "outputs": [
    {
     "data": {
      "image/png": "[encoded data removed]",
      "text/plain": [
       "<Figure size 1000x800 with 2 Axes>"
      ]
     },
     "metadata": {},
     "output_type": "display_data"
    }
   ],
   "source": [
    "plt.figure(figsize=(10,8))\n",
    "labels = ['Not Disaster', 'Disaster']\n",
    "sns.heatmap(cm,\n",
    "            xticklabels=labels, \n",
    "            yticklabels=labels,\n",
    "            annot= True,\n",
    "            cmap= 'Blues',\n",
    "            fmt= 'g')\n",
    "plt.show()"
   ]
  },
  {
   "cell_type": "markdown",
   "metadata": {},
   "source": [
    "# Save Model"
   ]
  },
  {
   "cell_type": "code",
   "execution_count": 61,
   "metadata": {},
   "outputs": [],
   "source": [
    "import joblib"
   ]
  },
  {
   "cell_type": "code",
   "execution_count": 62,
   "metadata": {},
   "outputs": [
    {
     "data": {
      "text/plain": [
       "['disaster_classifier_model.pkl']"
      ]
     },
     "execution_count": 62,
     "metadata": {},
     "output_type": "execute_result"
    }
   ],
   "source": [
    "joblib.dump(best_pipeline, 'disaster_classifier_model.pkl')"
   ]
  },
  {
   "cell_type": "markdown",
   "metadata": {},
   "source": [
    "# Load model for test new data"
   ]
  },
  {
   "cell_type": "code",
   "execution_count": 63,
   "metadata": {},
   "outputs": [
    {
     "data": {
      "text/html": [
       "<style>#sk-container-id-3 {color: black;}#sk-container-id-3 pre{padding: 0;}#sk-container-id-3 div.sk-toggleable {background-color: white;}#sk-container-id-3 label.sk-toggleable__label {cursor: pointer;display: block;width: 100%;margin-bottom: 0;padding: 0.3em;box-sizing: border-box;text-align: center;}#sk-container-id-3 label.sk-toggleable__label-arrow:before {content: \"▸\";float: left;margin-right: 0.25em;color: #696969;}#sk-container-id-3 label.sk-toggleable__label-arrow:hover:before {color: black;}#sk-container-id-3 div.sk-estimator:hover label.sk-toggleable__label-arrow:before {color: black;}#sk-container-id-3 div.sk-toggleable__content {max-height: 0;max-width: 0;overflow: hidden;text-align: left;background-color: #f0f8ff;}#sk-container-id-3 div.sk-toggleable__content pre {margin: 0.2em;color: black;border-radius: 0.25em;background-color: #f0f8ff;}#sk-container-id-3 input.sk-toggleable__control:checked~div.sk-toggleable__content {max-height: 200px;max-width: 100%;overflow: auto;}#sk-container-id-3 input.sk-toggleable__control:checked~label.sk-toggleable__label-arrow:before {content: \"▾\";}#sk-container-id-3 div.sk-estimator input.sk-toggleable__control:checked~label.sk-toggleable__label {background-color: #d4ebff;}#sk-container-id-3 div.sk-label input.sk-toggleable__control:checked~label.sk-toggleable__label {background-color: #d4ebff;}#sk-container-id-3 input.sk-hidden--visually {border: 0;clip: rect(1px 1px 1px 1px);clip: rect(1px, 1px, 1px, 1px);height: 1px;margin: -1px;overflow: hidden;padding: 0;position: absolute;width: 1px;}#sk-container-id-3 div.sk-estimator {font-family: monospace;background-color: #f0f8ff;border: 1px dotted black;border-radius: 0.25em;box-sizing: border-box;margin-bottom: 0.5em;}#sk-container-id-3 div.sk-estimator:hover {background-color: #d4ebff;}#sk-container-id-3 div.sk-parallel-item::after {content: \"\";width: 100%;border-bottom: 1px solid gray;flex-grow: 1;}#sk-container-id-3 div.sk-label:hover label.sk-toggleable__label {background-color: #d4ebff;}#sk-container-id-3 div.sk-serial::before {content: \"\";position: absolute;border-left: 1px solid gray;box-sizing: border-box;top: 0;bottom: 0;left: 50%;z-index: 0;}#sk-container-id-3 div.sk-serial {display: flex;flex-direction: column;align-items: center;background-color: white;padding-right: 0.2em;padding-left: 0.2em;position: relative;}#sk-container-id-3 div.sk-item {position: relative;z-index: 1;}#sk-container-id-3 div.sk-parallel {display: flex;align-items: stretch;justify-content: center;background-color: white;position: relative;}#sk-container-id-3 div.sk-item::before, #sk-container-id-3 div.sk-parallel-item::before {content: \"\";position: absolute;border-left: 1px solid gray;box-sizing: border-box;top: 0;bottom: 0;left: 50%;z-index: -1;}#sk-container-id-3 div.sk-parallel-item {display: flex;flex-direction: column;z-index: 1;position: relative;background-color: white;}#sk-container-id-3 div.sk-parallel-item:first-child::after {align-self: flex-end;width: 50%;}#sk-container-id-3 div.sk-parallel-item:last-child::after {align-self: flex-start;width: 50%;}#sk-container-id-3 div.sk-parallel-item:only-child::after {width: 0;}#sk-container-id-3 div.sk-dashed-wrapped {border: 1px dashed gray;margin: 0 0.4em 0.5em 0.4em;box-sizing: border-box;padding-bottom: 0.4em;background-color: white;}#sk-container-id-3 div.sk-label label {font-family: monospace;font-weight: bold;display: inline-block;line-height: 1.2em;}#sk-container-id-3 div.sk-label-container {text-align: center;}#sk-container-id-3 div.sk-container {/* jupyter's `normalize.less` sets `[hidden] { display: none; }` but bootstrap.min.css set `[hidden] { display: none !important; }` so we also need the `!important` here to be able to override the default hidden behavior on the sphinx rendered scikit-learn.org. See: https://github.com/scikit-learn/scikit-learn/issues/21755 */display: inline-block !important;position: relative;}#sk-container-id-3 div.sk-text-repr-fallback {display: none;}</style><div id=\"sk-container-id-3\" class=\"sk-top-container\"><div class=\"sk-text-repr-fallback\"><pre>Pipeline(steps=[(&#x27;tfidf&#x27;, TfidfVectorizer(max_df=0.5, ngram_range=(1, 2))),\n",
       "                (&#x27;nb&#x27;, MultinomialNB(alpha=0.1))])</pre><b>In a Jupyter environment, please rerun this cell to show the HTML representation or trust the notebook. <br />On GitHub, the HTML representation is unable to render, please try loading this page with nbviewer.org.</b></div><div class=\"sk-container\" hidden><div class=\"sk-item sk-dashed-wrapped\"><div class=\"sk-label-container\"><div class=\"sk-label sk-toggleable\"><input class=\"sk-toggleable__control sk-hidden--visually\" id=\"sk-estimator-id-8\" type=\"checkbox\" ><label for=\"sk-estimator-id-8\" class=\"sk-toggleable__label sk-toggleable__label-arrow\">Pipeline</label><div class=\"sk-toggleable__content\"><pre>Pipeline(steps=[(&#x27;tfidf&#x27;, TfidfVectorizer(max_df=0.5, ngram_range=(1, 2))),\n",
       "                (&#x27;nb&#x27;, MultinomialNB(alpha=0.1))])</pre></div></div></div><div class=\"sk-serial\"><div class=\"sk-item\"><div class=\"sk-estimator sk-toggleable\"><input class=\"sk-toggleable__control sk-hidden--visually\" id=\"sk-estimator-id-9\" type=\"checkbox\" ><label for=\"sk-estimator-id-9\" class=\"sk-toggleable__label sk-toggleable__label-arrow\">TfidfVectorizer</label><div class=\"sk-toggleable__content\"><pre>TfidfVectorizer(max_df=0.5, ngram_range=(1, 2))</pre></div></div></div><div class=\"sk-item\"><div class=\"sk-estimator sk-toggleable\"><input class=\"sk-toggleable__control sk-hidden--visually\" id=\"sk-estimator-id-10\" type=\"checkbox\" ><label for=\"sk-estimator-id-10\" class=\"sk-toggleable__label sk-toggleable__label-arrow\">MultinomialNB</label><div class=\"sk-toggleable__content\"><pre>MultinomialNB(alpha=0.1)</pre></div></div></div></div></div></div></div>"
      ],
      "text/plain": [
       "Pipeline(steps=[('tfidf', TfidfVectorizer(max_df=0.5, ngram_range=(1, 2))),\n",
       "                ('nb', MultinomialNB(alpha=0.1))])"
      ]
     },
     "execution_count": 63,
     "metadata": {},
     "output_type": "execute_result"
    }
   ],
   "source": [
    "model = joblib.load('disaster_classifier_model.pkl')\n",
    "model"
   ]
  },
  {
   "cell_type": "code",
   "execution_count": 64,
   "metadata": {},
   "outputs": [
    {
     "data": {
      "text/html": [
       "<div>\n",
       "<style scoped>\n",
       "    .dataframe tbody tr th:only-of-type {\n",
       "        vertical-align: middle;\n",
       "    }\n",
       "\n",
       "    .dataframe tbody tr th {\n",
       "        vertical-align: top;\n",
       "    }\n",
       "\n",
       "    .dataframe thead th {\n",
       "        text-align: right;\n",
       "    }\n",
       "</style>\n",
       "<table border=\"1\" class=\"dataframe\">\n",
       "  <thead>\n",
       "    <tr style=\"text-align: right;\">\n",
       "      <th></th>\n",
       "      <th>id</th>\n",
       "      <th>keyword</th>\n",
       "      <th>location</th>\n",
       "      <th>text</th>\n",
       "    </tr>\n",
       "  </thead>\n",
       "  <tbody>\n",
       "    <tr>\n",
       "      <th>0</th>\n",
       "      <td>0</td>\n",
       "      <td>NaN</td>\n",
       "      <td>NaN</td>\n",
       "      <td>Just happened a terrible car crash</td>\n",
       "    </tr>\n",
       "    <tr>\n",
       "      <th>1</th>\n",
       "      <td>2</td>\n",
       "      <td>NaN</td>\n",
       "      <td>NaN</td>\n",
       "      <td>Heard about #earthquake is different cities, s...</td>\n",
       "    </tr>\n",
       "    <tr>\n",
       "      <th>2</th>\n",
       "      <td>3</td>\n",
       "      <td>NaN</td>\n",
       "      <td>NaN</td>\n",
       "      <td>there is a forest fire at spot pond, geese are...</td>\n",
       "    </tr>\n",
       "    <tr>\n",
       "      <th>3</th>\n",
       "      <td>9</td>\n",
       "      <td>NaN</td>\n",
       "      <td>NaN</td>\n",
       "      <td>Apocalypse lighting. #Spokane #wildfires</td>\n",
       "    </tr>\n",
       "    <tr>\n",
       "      <th>4</th>\n",
       "      <td>11</td>\n",
       "      <td>NaN</td>\n",
       "      <td>NaN</td>\n",
       "      <td>Typhoon Soudelor kills 28 in China and Taiwan</td>\n",
       "    </tr>\n",
       "  </tbody>\n",
       "</table>\n",
       "</div>"
      ],
      "text/plain": [
       "   id keyword location                                               text\n",
       "0   0     NaN      NaN                 Just happened a terrible car crash\n",
       "1   2     NaN      NaN  Heard about #earthquake is different cities, s...\n",
       "2   3     NaN      NaN  there is a forest fire at spot pond, geese are...\n",
       "3   9     NaN      NaN           Apocalypse lighting. #Spokane #wildfires\n",
       "4  11     NaN      NaN      Typhoon Soudelor kills 28 in China and Taiwan"
      ]
     },
     "execution_count": 64,
     "metadata": {},
     "output_type": "execute_result"
    }
   ],
   "source": [
    "test_data = pd.read_csv(r'test.csv')\n",
    "test_data.head()"
   ]
  },
  {
   "cell_type": "code",
   "execution_count": 65,
   "metadata": {},
   "outputs": [
    {
     "data": {
      "text/html": [
       "<div>\n",
       "<style scoped>\n",
       "    .dataframe tbody tr th:only-of-type {\n",
       "        vertical-align: middle;\n",
       "    }\n",
       "\n",
       "    .dataframe tbody tr th {\n",
       "        vertical-align: top;\n",
       "    }\n",
       "\n",
       "    .dataframe thead th {\n",
       "        text-align: right;\n",
       "    }\n",
       "</style>\n",
       "<table border=\"1\" class=\"dataframe\">\n",
       "  <thead>\n",
       "    <tr style=\"text-align: right;\">\n",
       "      <th></th>\n",
       "      <th>text</th>\n",
       "    </tr>\n",
       "  </thead>\n",
       "  <tbody>\n",
       "    <tr>\n",
       "      <th>0</th>\n",
       "      <td>Just happened a terrible car crash</td>\n",
       "    </tr>\n",
       "    <tr>\n",
       "      <th>1</th>\n",
       "      <td>Heard about #earthquake is different cities, s...</td>\n",
       "    </tr>\n",
       "    <tr>\n",
       "      <th>2</th>\n",
       "      <td>there is a forest fire at spot pond, geese are...</td>\n",
       "    </tr>\n",
       "    <tr>\n",
       "      <th>3</th>\n",
       "      <td>Apocalypse lighting. #Spokane #wildfires</td>\n",
       "    </tr>\n",
       "    <tr>\n",
       "      <th>4</th>\n",
       "      <td>Typhoon Soudelor kills 28 in China and Taiwan</td>\n",
       "    </tr>\n",
       "  </tbody>\n",
       "</table>\n",
       "</div>"
      ],
      "text/plain": [
       "                                                text\n",
       "0                 Just happened a terrible car crash\n",
       "1  Heard about #earthquake is different cities, s...\n",
       "2  there is a forest fire at spot pond, geese are...\n",
       "3           Apocalypse lighting. #Spokane #wildfires\n",
       "4      Typhoon Soudelor kills 28 in China and Taiwan"
      ]
     },
     "execution_count": 65,
     "metadata": {},
     "output_type": "execute_result"
    }
   ],
   "source": [
    "test_data = test_data.loc[:, ['text']]\n",
    "test_data.head()"
   ]
  },
  {
   "cell_type": "code",
   "execution_count": 66,
   "metadata": {},
   "outputs": [
    {
     "data": {
      "text/html": [
       "<div>\n",
       "<style scoped>\n",
       "    .dataframe tbody tr th:only-of-type {\n",
       "        vertical-align: middle;\n",
       "    }\n",
       "\n",
       "    .dataframe tbody tr th {\n",
       "        vertical-align: top;\n",
       "    }\n",
       "\n",
       "    .dataframe thead th {\n",
       "        text-align: right;\n",
       "    }\n",
       "</style>\n",
       "<table border=\"1\" class=\"dataframe\">\n",
       "  <thead>\n",
       "    <tr style=\"text-align: right;\">\n",
       "      <th></th>\n",
       "      <th>text</th>\n",
       "    </tr>\n",
       "  </thead>\n",
       "  <tbody>\n",
       "    <tr>\n",
       "      <th>3258</th>\n",
       "      <td>EARTHQUAKE SAFETY LOS ANGELES ÛÒ SAFETY FASTE...</td>\n",
       "    </tr>\n",
       "    <tr>\n",
       "      <th>3259</th>\n",
       "      <td>Storm in RI worse than last hurricane. My city...</td>\n",
       "    </tr>\n",
       "    <tr>\n",
       "      <th>3260</th>\n",
       "      <td>Green Line derailment in Chicago http://t.co/U...</td>\n",
       "    </tr>\n",
       "    <tr>\n",
       "      <th>3261</th>\n",
       "      <td>MEG issues Hazardous Weather Outlook (HWO) htt...</td>\n",
       "    </tr>\n",
       "    <tr>\n",
       "      <th>3262</th>\n",
       "      <td>#CityofCalgary has activated its Municipal Eme...</td>\n",
       "    </tr>\n",
       "  </tbody>\n",
       "</table>\n",
       "</div>"
      ],
      "text/plain": [
       "                                                   text\n",
       "3258  EARTHQUAKE SAFETY LOS ANGELES ÛÒ SAFETY FASTE...\n",
       "3259  Storm in RI worse than last hurricane. My city...\n",
       "3260  Green Line derailment in Chicago http://t.co/U...\n",
       "3261  MEG issues Hazardous Weather Outlook (HWO) htt...\n",
       "3262  #CityofCalgary has activated its Municipal Eme..."
      ]
     },
     "execution_count": 66,
     "metadata": {},
     "output_type": "execute_result"
    }
   ],
   "source": [
    "test_data.tail()"
   ]
  },
  {
   "cell_type": "code",
   "execution_count": 67,
   "metadata": {},
   "outputs": [
    {
     "data": {
      "text/html": [
       "<div>\n",
       "<style scoped>\n",
       "    .dataframe tbody tr th:only-of-type {\n",
       "        vertical-align: middle;\n",
       "    }\n",
       "\n",
       "    .dataframe tbody tr th {\n",
       "        vertical-align: top;\n",
       "    }\n",
       "\n",
       "    .dataframe thead th {\n",
       "        text-align: right;\n",
       "    }\n",
       "</style>\n",
       "<table border=\"1\" class=\"dataframe\">\n",
       "  <thead>\n",
       "    <tr style=\"text-align: right;\">\n",
       "      <th></th>\n",
       "      <th>text</th>\n",
       "      <th>clean_text</th>\n",
       "    </tr>\n",
       "  </thead>\n",
       "  <tbody>\n",
       "    <tr>\n",
       "      <th>0</th>\n",
       "      <td>Just happened a terrible car crash</td>\n",
       "      <td>happen terribl car crash</td>\n",
       "    </tr>\n",
       "    <tr>\n",
       "      <th>1</th>\n",
       "      <td>Heard about #earthquake is different cities, s...</td>\n",
       "      <td>heard earthquak differ citi stay safe everyon</td>\n",
       "    </tr>\n",
       "    <tr>\n",
       "      <th>2</th>\n",
       "      <td>there is a forest fire at spot pond, geese are...</td>\n",
       "      <td>forest fire spot pond gee flee across street n...</td>\n",
       "    </tr>\n",
       "    <tr>\n",
       "      <th>3</th>\n",
       "      <td>Apocalypse lighting. #Spokane #wildfires</td>\n",
       "      <td>apocalyps light spokan wildfir</td>\n",
       "    </tr>\n",
       "    <tr>\n",
       "      <th>4</th>\n",
       "      <td>Typhoon Soudelor kills 28 in China and Taiwan</td>\n",
       "      <td>typhoon soudelor kill china taiwan</td>\n",
       "    </tr>\n",
       "  </tbody>\n",
       "</table>\n",
       "</div>"
      ],
      "text/plain": [
       "                                                text  \\\n",
       "0                 Just happened a terrible car crash   \n",
       "1  Heard about #earthquake is different cities, s...   \n",
       "2  there is a forest fire at spot pond, geese are...   \n",
       "3           Apocalypse lighting. #Spokane #wildfires   \n",
       "4      Typhoon Soudelor kills 28 in China and Taiwan   \n",
       "\n",
       "                                          clean_text  \n",
       "0                           happen terribl car crash  \n",
       "1      heard earthquak differ citi stay safe everyon  \n",
       "2  forest fire spot pond gee flee across street n...  \n",
       "3                     apocalyps light spokan wildfir  \n",
       "4                 typhoon soudelor kill china taiwan  "
      ]
     },
     "execution_count": 67,
     "metadata": {},
     "output_type": "execute_result"
    }
   ],
   "source": [
    "test_data['clean_text'] = preprocessing_data(test_data['text'].values)\n",
    "test_data.head()"
   ]
  },
  {
   "cell_type": "code",
   "execution_count": 68,
   "metadata": {},
   "outputs": [
    {
     "data": {
      "text/plain": [
       "array([1, 1, 1, ..., 1, 1, 1], dtype=int64)"
      ]
     },
     "execution_count": 68,
     "metadata": {},
     "output_type": "execute_result"
    }
   ],
   "source": [
    "preds = model.predict(test_data['clean_text'])\n",
    "preds"
   ]
  },
  {
   "cell_type": "code",
   "execution_count": 69,
   "metadata": {},
   "outputs": [
    {
     "data": {
      "text/html": [
       "<div>\n",
       "<style scoped>\n",
       "    .dataframe tbody tr th:only-of-type {\n",
       "        vertical-align: middle;\n",
       "    }\n",
       "\n",
       "    .dataframe tbody tr th {\n",
       "        vertical-align: top;\n",
       "    }\n",
       "\n",
       "    .dataframe thead th {\n",
       "        text-align: right;\n",
       "    }\n",
       "</style>\n",
       "<table border=\"1\" class=\"dataframe\">\n",
       "  <thead>\n",
       "    <tr style=\"text-align: right;\">\n",
       "      <th></th>\n",
       "      <th>text</th>\n",
       "      <th>clean_text</th>\n",
       "      <th>target</th>\n",
       "    </tr>\n",
       "  </thead>\n",
       "  <tbody>\n",
       "    <tr>\n",
       "      <th>0</th>\n",
       "      <td>Just happened a terrible car crash</td>\n",
       "      <td>happen terribl car crash</td>\n",
       "      <td>1</td>\n",
       "    </tr>\n",
       "    <tr>\n",
       "      <th>1</th>\n",
       "      <td>Heard about #earthquake is different cities, s...</td>\n",
       "      <td>heard earthquak differ citi stay safe everyon</td>\n",
       "      <td>1</td>\n",
       "    </tr>\n",
       "    <tr>\n",
       "      <th>2</th>\n",
       "      <td>there is a forest fire at spot pond, geese are...</td>\n",
       "      <td>forest fire spot pond gee flee across street n...</td>\n",
       "      <td>1</td>\n",
       "    </tr>\n",
       "    <tr>\n",
       "      <th>3</th>\n",
       "      <td>Apocalypse lighting. #Spokane #wildfires</td>\n",
       "      <td>apocalyps light spokan wildfir</td>\n",
       "      <td>1</td>\n",
       "    </tr>\n",
       "    <tr>\n",
       "      <th>4</th>\n",
       "      <td>Typhoon Soudelor kills 28 in China and Taiwan</td>\n",
       "      <td>typhoon soudelor kill china taiwan</td>\n",
       "      <td>1</td>\n",
       "    </tr>\n",
       "  </tbody>\n",
       "</table>\n",
       "</div>"
      ],
      "text/plain": [
       "                                                text  \\\n",
       "0                 Just happened a terrible car crash   \n",
       "1  Heard about #earthquake is different cities, s...   \n",
       "2  there is a forest fire at spot pond, geese are...   \n",
       "3           Apocalypse lighting. #Spokane #wildfires   \n",
       "4      Typhoon Soudelor kills 28 in China and Taiwan   \n",
       "\n",
       "                                          clean_text  target  \n",
       "0                           happen terribl car crash       1  \n",
       "1      heard earthquak differ citi stay safe everyon       1  \n",
       "2  forest fire spot pond gee flee across street n...       1  \n",
       "3                     apocalyps light spokan wildfir       1  \n",
       "4                 typhoon soudelor kill china taiwan       1  "
      ]
     },
     "execution_count": 69,
     "metadata": {},
     "output_type": "execute_result"
    }
   ],
   "source": [
    "test_data['target'] = preds\n",
    "test_data.head()"
   ]
  }
 ],
 "metadata": {
  "kernelspec": {
   "display_name": "Python 3",
   "language": "python",
   "name": "python3"
  },
  "language_info": {
   "codemirror_mode": {
    "name": "ipython",
    "version": 3
   },
   "file_extension": ".py",
   "mimetype": "text/x-python",
   "name": "python",
   "nbconvert_exporter": "python",
   "pygments_lexer": "ipython3",
   "version": "3.11.4"
  },
  "orig_nbformat": 4
 },
 "nbformat": 4,
 "nbformat_minor": 2
}
